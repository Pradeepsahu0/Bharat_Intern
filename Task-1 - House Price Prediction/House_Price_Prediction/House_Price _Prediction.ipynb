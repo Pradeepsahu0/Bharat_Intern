<!DOCTYPE html>
<!-- saved from url=(0187)https://github.com/Priyam219/Bharat-Intern-%2D-ML/blob/04a8df9791d2d791f393362165355ec6140659ac/Task-1%20-%20House%20Price%20Prediction/House_Price_Prediction/House_Price_Prediction.ipynb -->
<html lang="en" data-color-mode="auto" data-light-theme="light" data-dark-theme="dark" data-a11y-animated-images="system" data-a11y-link-underlines="false" data-turbo-loaded=""><head><meta http-equiv="Content-Type" content="text/html; charset=UTF-8"><style type="text/css">.turbo-progress-bar {
  position: fixed;
  display: block;
  top: 0;
  left: 0;
  height: 3px;
  background: #0076ff;
  z-index: 2147483647;
  transition:
    width 300ms ease-out,
    opacity 150ms 150ms ease-in;
  transform: translate3d(0, 0, 0);
}
</style>
    
  <link rel="dns-prefetch" href="https://github.githubassets.com/">
  <link rel="dns-prefetch" href="https://avatars.githubusercontent.com/">
  <link rel="dns-prefetch" href="https://github-cloud.s3.amazonaws.com/">
  <link rel="dns-prefetch" href="https://user-images.githubusercontent.com/">
  <link rel="preconnect" href="https://github.githubassets.com/" crossorigin="">
  <link rel="preconnect" href="https://avatars.githubusercontent.com/">

  


  <link crossorigin="anonymous" media="all" rel="stylesheet" href="./House_Price _Prediction_files/light-983b05c0927a.css"><link crossorigin="anonymous" media="all" rel="stylesheet" href="./House_Price _Prediction_files/dark-5d486a4ede8e.css"><link data-color-theme="dark_dimmed" crossorigin="anonymous" media="all" rel="stylesheet" data-href="https://github.githubassets.com/assets/dark_dimmed-27c8d635e4e5.css"><link data-color-theme="dark_high_contrast" crossorigin="anonymous" media="all" rel="stylesheet" data-href="https://github.githubassets.com/assets/dark_high_contrast-8438e75afd36.css"><link data-color-theme="dark_colorblind" crossorigin="anonymous" media="all" rel="stylesheet" data-href="https://github.githubassets.com/assets/dark_colorblind-bf5665b96628.css"><link data-color-theme="light_colorblind" crossorigin="anonymous" media="all" rel="stylesheet" data-href="https://github.githubassets.com/assets/light_colorblind-c414b5ba1dce.css"><link data-color-theme="light_high_contrast" crossorigin="anonymous" media="all" rel="stylesheet" data-href="https://github.githubassets.com/assets/light_high_contrast-e5868b7374db.css"><link data-color-theme="light_tritanopia" crossorigin="anonymous" media="all" rel="stylesheet" data-href="https://github.githubassets.com/assets/light_tritanopia-299ac9c64ec0.css"><link data-color-theme="dark_tritanopia" crossorigin="anonymous" media="all" rel="stylesheet" data-href="https://github.githubassets.com/assets/dark_tritanopia-3a26e78ad0ff.css">
  
    <link crossorigin="anonymous" media="all" rel="stylesheet" href="./House_Price _Prediction_files/primer-primitives-49b09e982548.css">
    <link crossorigin="anonymous" media="all" rel="stylesheet" href="./House_Price _Prediction_files/primer-15214e5f9104.css">
    <link crossorigin="anonymous" media="all" rel="stylesheet" href="./House_Price _Prediction_files/global-38f5d4710d3e.css">
    <link crossorigin="anonymous" media="all" rel="stylesheet" href="./House_Price _Prediction_files/github-5636d019c151.css">
  <link crossorigin="anonymous" media="all" rel="stylesheet" href="./House_Price _Prediction_files/code-f68e2653d00d.css">

  

  <script type="application/json" id="client-env">{"locale":"en","featureFlags":["failbot_handle_non_errors","fix_react_title","geojson_azure_maps","image_metric_tracking","turbo_experiment_risky","use_scroll_restoration","sample_network_conn_type"]}</script>
<script crossorigin="anonymous" defer="defer" type="application/javascript" src="./House_Price _Prediction_files/wp-runtime-8a2aef6aa4d0.js.download"></script>
<script crossorigin="anonymous" defer="defer" type="application/javascript" src="./House_Price _Prediction_files/vendors-node_modules_dompurify_dist_purify_js-64d590970fa6.js.download"></script>
<script crossorigin="anonymous" defer="defer" type="application/javascript" src="./House_Price _Prediction_files/vendors-node_modules_stacktrace-parser_dist_stack-trace-parser_esm_js-node_modules_github_bro-a4c183-18bf85b8e9f4.js.download"></script>
<script crossorigin="anonymous" defer="defer" type="application/javascript" src="./House_Price _Prediction_files/ui_packages_soft-nav_soft-nav_ts-df17d5597d8f.js.download"></script>
<script crossorigin="anonymous" defer="defer" type="application/javascript" src="./House_Price _Prediction_files/environment-509b58e05b9f.js.download"></script>
<script crossorigin="anonymous" defer="defer" type="application/javascript" src="./House_Price _Prediction_files/vendors-node_modules_github_selector-observer_dist_index_esm_js-2646a2c533e3.js.download"></script>
<script crossorigin="anonymous" defer="defer" type="application/javascript" src="./House_Price _Prediction_files/vendors-node_modules_primer_behaviors_dist_esm_focus-zone_js-d55308df5023.js.download"></script>
<script crossorigin="anonymous" defer="defer" type="application/javascript" src="./House_Price _Prediction_files/vendors-node_modules_github_relative-time-element_dist_index_js-99e288659d4f.js.download"></script>
<script crossorigin="anonymous" defer="defer" type="application/javascript" src="./House_Price _Prediction_files/vendors-node_modules_github_markdown-toolbar-element_dist_index_js-691f92ed710c.js.download"></script>
<script crossorigin="anonymous" defer="defer" type="application/javascript" src="./House_Price _Prediction_files/vendors-node_modules_delegated-events_dist_index_js-node_modules_github_auto-complete-element-5b3870-9b38c0812424.js.download"></script>
<script crossorigin="anonymous" defer="defer" type="application/javascript" src="./House_Price _Prediction_files/vendors-node_modules_github_filter-input-element_dist_index_js-node_modules_github_remote-inp-d1569f-eb0e0c1e5438.js.download"></script>
<script crossorigin="anonymous" defer="defer" type="application/javascript" src="./House_Price _Prediction_files/vendors-node_modules_github_file-attachment-element_dist_index_js-node_modules_primer_view-co-bdc901-81f1e189072b.js.download"></script>
<script crossorigin="anonymous" defer="defer" type="application/javascript" src="./House_Price _Prediction_files/github-elements-44d96edd9c30.js.download"></script>
<script crossorigin="anonymous" defer="defer" type="application/javascript" src="./House_Price _Prediction_files/element-registry-631c5146145f.js.download"></script>
<script crossorigin="anonymous" defer="defer" type="application/javascript" src="./House_Price _Prediction_files/vendors-node_modules_lit-html_lit-html_js-9d9fe1859ce5.js.download"></script>
<script crossorigin="anonymous" defer="defer" type="application/javascript" src="./House_Price _Prediction_files/vendors-node_modules_github_hydro-analytics-client_dist_analytics-client_js-node_modules_gith-f3aee1-fd3c22610e40.js.download"></script>
<script crossorigin="anonymous" defer="defer" type="application/javascript" src="./House_Price _Prediction_files/vendors-node_modules_morphdom_dist_morphdom-esm_js-b1fdd7158cf0.js.download"></script>
<script crossorigin="anonymous" defer="defer" type="application/javascript" src="./House_Price _Prediction_files/vendors-node_modules_github_mini-throttle_dist_index_js-node_modules_github_alive-client_dist-bf5aa2-4aefce0fc3c8.js.download"></script>
<script crossorigin="anonymous" defer="defer" type="application/javascript" src="./House_Price _Prediction_files/vendors-node_modules_github_turbo_dist_turbo_es2017-esm_js-1f4793023fcd.js.download"></script>
<script crossorigin="anonymous" defer="defer" type="application/javascript" src="./House_Price _Prediction_files/vendors-node_modules_github_remote-form_dist_index_js-node_modules_scroll-anchoring_dist_scro-52dc4b-e1e33bfc0b7e.js.download"></script>
<script crossorigin="anonymous" defer="defer" type="application/javascript" src="./House_Price _Prediction_files/vendors-node_modules_color-convert_index_js-35b3ae68c408.js.download"></script>
<script crossorigin="anonymous" defer="defer" type="application/javascript" src="./House_Price _Prediction_files/vendors-node_modules_github_paste-markdown_dist_index_esm_js-node_modules_github_quote-select-426751-0153d059d677.js.download"></script>
<script crossorigin="anonymous" defer="defer" type="application/javascript" src="./House_Price _Prediction_files/app_assets_modules_github_details-dialog_ts-app_assets_modules_github_fetch_ts-9ca164041015.js.download"></script>
<script crossorigin="anonymous" defer="defer" type="application/javascript" src="./House_Price _Prediction_files/app_assets_modules_github_updatable-content_ts-ui_packages_hydro-analytics_hydro-analytics_ts-e4da304b75e7.js.download"></script>
<script crossorigin="anonymous" defer="defer" type="application/javascript" src="./House_Price _Prediction_files/app_assets_modules_github_onfocus_ts-app_assets_modules_github_sticky-scroll-into-view_ts-b88dcdb1ae32.js.download"></script>
<script crossorigin="anonymous" defer="defer" type="application/javascript" src="./House_Price _Prediction_files/app_assets_modules_github_behaviors_task-list_ts-app_assets_modules_github_sso_ts-ui_packages-7d50ad-9491f2be61ee.js.download"></script>
<script crossorigin="anonymous" defer="defer" type="application/javascript" src="./House_Price _Prediction_files/app_assets_modules_github_behaviors_ajax-error_ts-app_assets_modules_github_behaviors_include-2e2258-f7b8ad0ef997.js.download"></script>
<script crossorigin="anonymous" defer="defer" type="application/javascript" src="./House_Price _Prediction_files/app_assets_modules_github_behaviors_commenting_edit_ts-app_assets_modules_github_behaviors_ht-83c235-f22ac6b94445.js.download"></script>
<script crossorigin="anonymous" defer="defer" type="application/javascript" src="./House_Price _Prediction_files/app_assets_modules_github_blob-anchor_ts-app_assets_modules_github_filter-sort_ts-app_assets_-c96432-b9f980134541.js.download"></script>
<script crossorigin="anonymous" defer="defer" type="application/javascript" src="./House_Price _Prediction_files/behaviors-2f60da4f16b9.js.download"></script>
<script crossorigin="anonymous" defer="defer" type="application/javascript" src="./House_Price _Prediction_files/vendors-node_modules_delegated-events_dist_index_js-node_modules_github_catalyst_lib_index_js-06ff531-fe0b8ccc90a5.js.download"></script>
<script crossorigin="anonymous" defer="defer" type="application/javascript" src="./House_Price _Prediction_files/notifications-global-f57687007bfc.js.download"></script>
<script crossorigin="anonymous" defer="defer" type="application/javascript" src="./House_Price _Prediction_files/code-menu-c743a13234fc.js.download"></script>
  
  <script crossorigin="anonymous" defer="defer" type="application/javascript" src="./House_Price _Prediction_files/react-lib-210c4b5934c3.js.download"></script>
<script crossorigin="anonymous" defer="defer" type="application/javascript" src="./House_Price _Prediction_files/vendors-node_modules_primer_octicons-react_dist_index_esm_js-node_modules_primer_react_lib-es-14a089-38d45acba361.js.download"></script>
<script crossorigin="anonymous" defer="defer" type="application/javascript" src="./House_Price _Prediction_files/vendors-node_modules_primer_react_lib-esm_Box_Box_js-8d2713f90c9a.js.download"></script>
<script crossorigin="anonymous" defer="defer" type="application/javascript" src="./House_Price _Prediction_files/vendors-node_modules_primer_react_lib-esm_Button_Button_js-node_modules_primer_react_lib-esm_-c2022e-70aff6ca05a9.js.download"></script>
<script crossorigin="anonymous" defer="defer" type="application/javascript" src="./House_Price _Prediction_files/vendors-node_modules_primer_react_lib-esm_ActionList_index_js-7bad8659e7bd.js.download"></script>
<script crossorigin="anonymous" defer="defer" type="application/javascript" src="./House_Price _Prediction_files/vendors-node_modules_primer_react_lib-esm_Button_index_js-node_modules_primer_react_lib-esm_O-133b0c-6f42d36f1de7.js.download"></script>
<script crossorigin="anonymous" defer="defer" type="application/javascript" src="./House_Price _Prediction_files/vendors-node_modules_primer_react_lib-esm_TextInput_TextInput_js-47fe5c8a888d.js.download"></script>
<script crossorigin="anonymous" defer="defer" type="application/javascript" src="./House_Price _Prediction_files/vendors-node_modules_primer_behaviors_dist_esm_scroll-into-view_js-node_modules_primer_react_-04bb1b-f1945840d2c2.js.download"></script>
<script crossorigin="anonymous" defer="defer" type="application/javascript" src="./House_Price _Prediction_files/vendors-node_modules_primer_react_lib-esm_FormControl_FormControl_js-eadb97e299c8.js.download"></script>
<script crossorigin="anonymous" defer="defer" type="application/javascript" src="./House_Price _Prediction_files/vendors-node_modules_primer_react_lib-esm_ActionMenu_js-f0cd24c33676.js.download"></script>
<script crossorigin="anonymous" defer="defer" type="application/javascript" src="./House_Price _Prediction_files/vendors-node_modules_react-router-dom_dist_index_js-4a785319b497.js.download"></script>
<script crossorigin="anonymous" defer="defer" type="application/javascript" src="./House_Price _Prediction_files/vendors-node_modules_primer_react_lib-esm_Heading_Heading_js-node_modules_primer_react_lib-es-20c766-83991b288f66.js.download"></script>
<script crossorigin="anonymous" defer="defer" type="application/javascript" src="./House_Price _Prediction_files/vendors-node_modules_primer_react_lib-esm_Dialog_js-node_modules_primer_react_lib-esm_Flash_F-54f402-24f69910f932.js.download"></script>
<script crossorigin="anonymous" defer="defer" type="application/javascript" src="./House_Price _Prediction_files/vendors-node_modules_primer_react_lib-esm_UnderlineNav2_index_js-f81b8e23600f.js.download"></script>
<script crossorigin="anonymous" defer="defer" type="application/javascript" src="./House_Price _Prediction_files/vendors-node_modules_primer_react_lib-esm_TreeView_TreeView_js-d86950fa1004.js.download"></script>
<script crossorigin="anonymous" defer="defer" type="application/javascript" src="./House_Price _Prediction_files/vendors-node_modules_primer_react_lib-esm_Avatar_Avatar_js-node_modules_primer_react_lib-esm_-82f032-5e0980cb7854.js.download"></script>
<script crossorigin="anonymous" defer="defer" type="application/javascript" src="./House_Price _Prediction_files/vendors-node_modules_primer_react_lib-esm_AvatarStack_AvatarStack_js-node_modules_primer_reac-f992ce-dce1b34d3765.js.download"></script>
<script crossorigin="anonymous" defer="defer" type="application/javascript" src="./House_Price _Prediction_files/ui_packages_react-core_create-browser-history_ts-ui_packages_react-core_deferred-registry_ts--ebbb92-6b5332bffa1d.js.download"></script>
<script crossorigin="anonymous" defer="defer" type="application/javascript" src="./House_Price _Prediction_files/ui_packages_react-core_register-app_ts-3f96a0d371d8.js.download"></script>
<script crossorigin="anonymous" defer="defer" type="application/javascript" src="./House_Price _Prediction_files/ui_packages_ref-selector_RefSelector_tsx-8f23b321a246.js.download"></script>
<script crossorigin="anonymous" defer="defer" type="application/javascript" src="./House_Price _Prediction_files/app_assets_modules_react-shared_hooks_use-virtual-dynamic_ts-app_assets_modules_react-shared_-70720f-4f06c25f9a81.js.download"></script>
<script crossorigin="anonymous" defer="defer" type="application/javascript" src="./House_Price _Prediction_files/ui_packages_commit-attribution_index_ts-ui_packages_copy-to-clipboard_index_ts-ui_packages_us-d922f2-7fddef185e36.js.download"></script>
<script crossorigin="anonymous" defer="defer" type="application/javascript" src="./House_Price _Prediction_files/ui_packages_alive_alive_ts-ui_packages_alive_connect-alive-subscription_ts-app_assets_modules-face4e-acf759f0f04c.js.download"></script>
<script crossorigin="anonymous" defer="defer" type="application/javascript" src="./House_Price _Prediction_files/react-code-view-4a5df5a84181.js.download"></script>


  <title>Bharat-Intern---ML/Task-1 - House Price Prediction/House_Price_Prediction/House_Price_Prediction.ipynb at 04a8df9791d2d791f393362165355ec6140659ac · Priyam219/Bharat-Intern---ML</title>



  <meta name="route-pattern" content="/:user_id/:repository/blob/*name(/*path)">

    
  <meta name="current-catalog-service-hash" content="82c569b93da5c18ed649ebd4c2c79437db4611a6a1373e805a3cb001c64130b7">


  <meta name="request-id" content="D593:138330:25540B:2D5B92:64FE93DD" data-turbo-transient="true"><meta name="html-safe-nonce" content="0fe0804b5e05a783f0d5dad96cf36b8ebaa0c9406ebbba79725c59ab36c2d5ab" data-turbo-transient="true"><meta name="visitor-payload" content="eyJyZWZlcnJlciI6Imh0dHBzOi8vd3d3Lmdvb2dsZS5jb20vIiwicmVxdWVzdF9pZCI6IkQ1OTM6MTM4MzMwOjI1NTQwQjoyRDVCOTI6NjRGRTkzREQiLCJ2aXNpdG9yX2lkIjoiNDkyODU0MjE5MDA5MjUwMTM0OCIsInJlZ2lvbl9lZGdlIjoiY2VudHJhbGluZGlhIiwicmVnaW9uX3JlbmRlciI6ImlhZCJ9" data-turbo-transient="true"><meta name="visitor-hmac" content="a79fe080791b861877c4d69c8b49322341a0c8aeaa96c1734754d0865a01f1c6" data-turbo-transient="true">


    <meta name="hovercard-subject-tag" content="repository:642942518" data-turbo-transient="">


  <meta name="github-keyboard-shortcuts" content="repository,source-code,file-tree" data-turbo-transient="true">
  

  <meta name="selected-link" value="repo_source" data-turbo-transient="">
  <link rel="assets" href="https://github.githubassets.com/">

    <meta name="google-site-verification" content="c1kuD-K2HIVF635lypcsWPoD4kilo5-jA_wBFyT4uMY">
  <meta name="google-site-verification" content="KT5gs8h0wvaagLKAVWq8bbeNwnZZK1r1XQysX3xurLU">
  <meta name="google-site-verification" content="ZzhVyEFwb7w3e0-uOTltm8Jsck2F5StVihD0exw2fsA">
  <meta name="google-site-verification" content="GXs5KoUUkNCoaAZn7wPN-t01Pywp9M3sEjnt_3_ZWPc">
  <meta name="google-site-verification" content="Apib7-x98H0j5cPqHWwSMm6dNU4GmODRoqxLiDzdx9I">

<meta name="octolytics-url" content="https://collector.github.com/github/collect"><meta name="octolytics-actor-id" content="141622351"><meta name="octolytics-actor-login" content="Pradeepsahu0"><meta name="octolytics-actor-hash" content="9b37b59f22336a1dd6c0492bd81eca49f95d427863330a0501edbaa1262f8e72">

  <meta name="analytics-location" content="/&lt;user-name&gt;/&lt;repo-name&gt;/blob/show" data-turbo-transient="true">

  




  

    <meta name="user-login" content="Pradeepsahu0">

  <link rel="sudo-modal" href="https://github.com/sessions/sudo_modal">

    <meta name="viewport" content="width=device-width">
    
      <meta name="description" content="Machine Learning internship tasks from Bharat Intern. - Bharat-Intern---ML/Task-1 - House Price Prediction/House_Price_Prediction/House_Price_Prediction.ipynb at 04a8df9791d2d791f393362165355ec6140659ac · Priyam219/Bharat-Intern---ML">
      <link rel="search" type="application/opensearchdescription+xml" href="https://github.com/opensearch.xml" title="GitHub">
    <link rel="fluid-icon" href="https://github.com/fluidicon.png" title="GitHub">
    <meta property="fb:app_id" content="1401488693436528">
    <meta name="apple-itunes-app" content="app-id=1477376905, app-argument=https://github.com/Priyam219/Bharat-Intern---ML/blob/04a8df9791d2d791f393362165355ec6140659ac/Task-1%20-%20House%20Price%20Prediction/House_Price_Prediction/House_Price_Prediction.ipynb">
      <meta name="twitter:image:src" content="https://opengraph.githubassets.com/2bd3b77aeea8a5913656b5b13ba8cc4ea1a7d8eed85c6904b4ffd7718422b936/Priyam219/Bharat-Intern---ML"><meta name="twitter:site" content="@github"><meta name="twitter:card" content="summary_large_image"><meta name="twitter:title" content="Bharat-Intern---ML/Task-1 - House Price Prediction/House_Price_Prediction/House_Price_Prediction.ipynb at 04a8df9791d2d791f393362165355ec6140659ac · Priyam219/Bharat-Intern---ML"><meta name="twitter:description" content="Machine Learning internship tasks from Bharat Intern. - Priyam219/Bharat-Intern---ML">
      <meta property="og:image" content="https://opengraph.githubassets.com/2bd3b77aeea8a5913656b5b13ba8cc4ea1a7d8eed85c6904b4ffd7718422b936/Priyam219/Bharat-Intern---ML"><meta property="og:image:alt" content="Machine Learning internship tasks from Bharat Intern. - Priyam219/Bharat-Intern---ML"><meta property="og:image:width" content="1200"><meta property="og:image:height" content="600"><meta property="og:site_name" content="GitHub"><meta property="og:type" content="object"><meta property="og:title" content="Bharat-Intern---ML/Task-1 - House Price Prediction/House_Price_Prediction/House_Price_Prediction.ipynb at 04a8df9791d2d791f393362165355ec6140659ac · Priyam219/Bharat-Intern---ML"><meta property="og:url" content="https://github.com/Priyam219/Bharat-Intern---ML/blob/04a8df9791d2d791f393362165355ec6140659ac/Task-1%20-%20House%20Price%20Prediction/House_Price_Prediction/House_Price_Prediction.ipynb"><meta property="og:description" content="Machine Learning internship tasks from Bharat Intern. - Priyam219/Bharat-Intern---ML">
      

      <link rel="shared-web-socket" href="wss://alive.github.com/_sockets/u/141622351/ws?session=eyJ2IjoiVjMiLCJ1IjoxNDE2MjIzNTEsInMiOjExOTc1MzEwMjksImMiOjEwNzAwODQ0NjYsInQiOjE2OTQ0MDU2NTJ9--88e9ca3e9314dc597c75d43fe75709fd198a1d398946ac1921b01d95384b3d9e" data-refresh-url="/_alive" data-session-id="2c9140496a17c294a83c156871d370958d32cc9e8decb48a10be306791675fde">
      <link rel="shared-web-socket-src" href="https://github.com/assets-cdn/worker/socket-worker-71e98f781d79.js">


        <meta name="hostname" content="github.com">


      <meta name="keyboard-shortcuts-preference" content="all">

        <meta name="expected-hostname" content="github.com">


  <meta http-equiv="x-pjax-version" content="ccbb69ff0b7a8d134ef2c1317bbf804cd767ea21e1bd68a96301cbad702ae377" data-turbo-track="reload">
  <meta http-equiv="x-pjax-csp-version" content="892c9b6e6279a06cccd6d1ca216dbd09218b81db6cf120890eda9982f4c21270" data-turbo-track="reload">
  <meta http-equiv="x-pjax-css-version" content="7105049cbd7fd6987856e205be00a261e049ad32a3b48ed09ac48bbc17461f89" data-turbo-track="reload">
  <meta http-equiv="x-pjax-js-version" content="cf62e4ad7870a69288b69e2fe425253da525d0a489514617399773f1f24df93f" data-turbo-track="reload">

  <meta name="turbo-cache-control" content="no-preview" data-turbo-transient="">

      <meta name="turbo-cache-control" content="no-cache" data-turbo-transient="">
    <meta data-hydrostats="publish">

  <meta name="go-import" content="github.com/Priyam219/Bharat-Intern---ML git https://github.com/Priyam219/Bharat-Intern---ML.git">

  <meta name="octolytics-dimension-user_id" content="102411492"><meta name="octolytics-dimension-user_login" content="Priyam219"><meta name="octolytics-dimension-repository_id" content="642942518"><meta name="octolytics-dimension-repository_nwo" content="Priyam219/Bharat-Intern---ML"><meta name="octolytics-dimension-repository_public" content="true"><meta name="octolytics-dimension-repository_is_fork" content="false"><meta name="octolytics-dimension-repository_network_root_id" content="642942518"><meta name="octolytics-dimension-repository_network_root_nwo" content="Priyam219/Bharat-Intern---ML">



  <meta name="turbo-body-classes" content="logged-in env-production page-responsive">


  <meta name="browser-stats-url" content="https://api.github.com/_private/browser/stats">

  <meta name="browser-errors-url" content="https://api.github.com/_private/browser/errors">

  <meta name="browser-optimizely-client-errors-url" content="https://api.github.com/_private/browser/optimizely_client/errors">

  <link rel="mask-icon" href="https://github.githubassets.com/pinned-octocat.svg" color="#000000">
  <link rel="alternate icon" class="js-site-favicon" type="image/png" href="https://github.githubassets.com/favicons/favicon-dark.png">
  <link rel="icon" class="js-site-favicon" type="image/svg+xml" href="https://github.githubassets.com/favicons/favicon-dark.svg">

<meta name="theme-color" content="#1e2327">
<meta name="color-scheme" content="light dark">


  <link rel="manifest" href="https://github.com/manifest.json" crossorigin="use-credentials">

  <style data-styled="active" data-styled-version="5.3.6"></style></head>

  <body class="logged-in env-production page-responsive intent-mouse" style="word-wrap: break-word;">
    <div data-turbo-body="" class="logged-in env-production page-responsive" style="word-wrap: break-word;">
      


    <div class="position-relative js-header-wrapper ">
      <a href="https://github.com/Priyam219/Bharat-Intern---ML/blob/04a8df9791d2d791f393362165355ec6140659ac/Task-1%20-%20House%20Price%20Prediction/House_Price_Prediction/House_Price_Prediction.ipynb#start-of-content" class="p-3 color-bg-accent-emphasis color-fg-on-emphasis show-on-focus js-skip-to-content">Skip to content</a>
      <span data-view-component="true" class="progress-pjax-loader Progress position-fixed width-full">
    <span style="width: 0%;" data-view-component="true" class="Progress-item progress-pjax-loader-bar left-0 top-0 color-bg-accent-emphasis"></span>
</span>      
      


      

        <script crossorigin="anonymous" defer="defer" type="application/javascript" src="./House_Price _Prediction_files/vendors-node_modules_allex_crc32_lib_crc32_esm_js-node_modules_github_clipboard-copy-element_-2da1d5-ca2e742c29fb.js.download"></script>
<script crossorigin="anonymous" defer="defer" type="application/javascript" src="./House_Price _Prediction_files/app_assets_modules_github_command-palette_items_help-item_ts-app_assets_modules_github_comman-48ad9d-b83fa12e3a83.js.download"></script>
<script crossorigin="anonymous" defer="defer" type="application/javascript" src="./House_Price _Prediction_files/command-palette-0ae4aa129961.js.download"></script>

            <header class="AppHeader">
    

    <div class="AppHeader-globalBar pb-2 js-global-bar">
      <div class="AppHeader-globalBar-start">
          <deferred-side-panel data-url="/_side-panels/global" data-catalyst="">
  <include-fragment data-target="deferred-side-panel.fragment"><template shadowrootmode="open"><style>:host {display: block;}</style><slot></slot></template>
      
  <button aria-label="Open global navigation menu" data-action="click:deferred-side-panel#loadPanel click:deferred-side-panel#panelOpened" data-show-dialog-id="dialog-2e6a84fc-d23b-4b62-b27e-e95b18cf549d" id="dialog-show-dialog-2e6a84fc-d23b-4b62-b27e-e95b18cf549d" type="button" data-view-component="true" class="Button Button--iconOnly Button--secondary Button--medium AppHeader-button color-bg-transparent p-0 color-fg-muted">    <svg aria-hidden="true" height="16" viewBox="0 0 16 16" version="1.1" width="16" data-view-component="true" class="octicon octicon-three-bars Button-visual">
    <path d="M1 2.75A.75.75 0 0 1 1.75 2h12.5a.75.75 0 0 1 0 1.5H1.75A.75.75 0 0 1 1 2.75Zm0 5A.75.75 0 0 1 1.75 7h12.5a.75.75 0 0 1 0 1.5H1.75A.75.75 0 0 1 1 7.75ZM1.75 12h12.5a.75.75 0 0 1 0 1.5H1.75a.75.75 0 0 1 0-1.5Z"></path>
</svg>
</button>  

<div class="Overlay--hidden Overlay-backdrop--side Overlay-backdrop--placement-left" data-modal-dialog-overlay="">
  <modal-dialog data-target="deferred-side-panel.panel" role="dialog" id="dialog-2e6a84fc-d23b-4b62-b27e-e95b18cf549d" aria-modal="true" aria-disabled="true" aria-labelledby="dialog-2e6a84fc-d23b-4b62-b27e-e95b18cf549d-title" aria-describedby="dialog-2e6a84fc-d23b-4b62-b27e-e95b18cf549d-description" data-view-component="true" class="Overlay Overlay-whenNarrow Overlay--size-small-portrait Overlay--motion-scaleFade SidePanel" style="max-height: 611px;">
    <div styles="flex-direction: row;" data-view-component="true" class="Overlay-header">
  <div class="Overlay-headerContentWrap">
    <div class="Overlay-titleWrap">
      <h1 class="Overlay-title sr-only" id="dialog-2e6a84fc-d23b-4b62-b27e-e95b18cf549d-title">
        Global navigation
      </h1>
            <div data-view-component="true" class="d-flex">
      <div data-view-component="true" class="AppHeader-logo position-relative">
        <svg aria-hidden="true" height="24" viewBox="0 0 16 16" version="1.1" width="24" data-view-component="true" class="octicon octicon-mark-github">
    <path d="M8 0c4.42 0 8 3.58 8 8a8.013 8.013 0 0 1-5.45 7.59c-.4.08-.55-.17-.55-.38 0-.27.01-1.13.01-2.2 0-.75-.25-1.23-.54-1.48 1.78-.2 3.65-.88 3.65-3.95 0-.88-.31-1.59-.82-2.15.08-.2.36-1.02-.08-2.12 0 0-.67-.22-2.2.82-.64-.18-1.32-.27-2-.27-.68 0-1.36.09-2 .27-1.53-1.03-2.2-.82-2.2-.82-.44 1.1-.16 1.92-.08 2.12-.51.56-.82 1.28-.82 2.15 0 3.06 1.86 3.75 3.64 3.95-.23.2-.44.55-.51 1.07-.46.21-1.61.55-2.33-.66-.15-.24-.6-.83-1.23-.82-.67.01-.27.38.01.53.34.19.73.9.82 1.13.16.45.68 1.31 2.69.94 0 .67.01 1.3.01 1.49 0 .21-.15.45-.55.38A7.995 7.995 0 0 1 0 8c0-4.42 3.58-8 8-8Z"></path>
</svg>
</div></div>
    </div>
    <div class="Overlay-actionWrap">
      <button data-close-dialog-id="dialog-2e6a84fc-d23b-4b62-b27e-e95b18cf549d" aria-label="Close" type="button" data-view-component="true" class="close-button Overlay-closeButton"><svg aria-hidden="true" height="16" viewBox="0 0 16 16" version="1.1" width="16" data-view-component="true" class="octicon octicon-x">
    <path d="M3.72 3.72a.75.75 0 0 1 1.06 0L8 6.94l3.22-3.22a.749.749 0 0 1 1.275.326.749.749 0 0 1-.215.734L9.06 8l3.22 3.22a.749.749 0 0 1-.326 1.275.749.749 0 0 1-.734-.215L8 9.06l-3.22 3.22a.751.751 0 0 1-1.042-.018.751.751 0 0 1-.018-1.042L6.94 8 3.72 4.78a.75.75 0 0 1 0-1.06Z"></path>
</svg></button>
    </div>
  </div>
</div>
      <div data-view-component="true" class="Overlay-body d-flex flex-column height-full px-2">      <nav aria-label="Site navigation" data-view-component="true" class="ActionList">
  
  <nav-list data-catalyst="">
    <ul data-view-component="true" class="ActionListWrap">
        
          
<li item_id="general" data-item-id="" data-targets="nav-list.items" data-view-component="true" class="ActionListItem">
    
    <a data-hotkey="g d" data-analytics-event="{&quot;category&quot;:&quot;Global navigation&quot;,&quot;action&quot;:&quot;HOME&quot;,&quot;label&quot;:null}" id="item-2cd57b2c-7703-4e65-87e6-ed503a23f695" href="https://github.com/dashboard" data-view-component="true" class="ActionListContent ActionListContent--visual16">
        <span class="ActionListItem-visual ActionListItem-visual--leading">
          <svg aria-hidden="true" height="16" viewBox="0 0 16 16" version="1.1" width="16" data-view-component="true" class="octicon octicon-home">
    <path d="M6.906.664a1.749 1.749 0 0 1 2.187 0l5.25 4.2c.415.332.657.835.657 1.367v7.019A1.75 1.75 0 0 1 13.25 15h-3.5a.75.75 0 0 1-.75-.75V9H7v5.25a.75.75 0 0 1-.75.75h-3.5A1.75 1.75 0 0 1 1 13.25V6.23c0-.531.242-1.034.657-1.366l5.25-4.2Zm1.25 1.171a.25.25 0 0 0-.312 0l-5.25 4.2a.25.25 0 0 0-.094.196v7.019c0 .138.112.25.25.25H5.5V8.25a.75.75 0 0 1 .75-.75h3.5a.75.75 0 0 1 .75.75v5.25h2.75a.25.25 0 0 0 .25-.25V6.23a.25.25 0 0 0-.094-.195Z"></path>
</svg>
        </span>
      
        <span data-view-component="true" class="ActionListItem-label">
          Home
</span></a>
  
  
</li>

        
          
<li item_id="personal_info" data-item-id="" data-targets="nav-list.items" data-view-component="true" class="ActionListItem">
    
    <a data-hotkey="g i" data-analytics-event="{&quot;category&quot;:&quot;Global navigation&quot;,&quot;action&quot;:&quot;ISSUES&quot;,&quot;label&quot;:null}" id="item-de046306-d108-490f-b061-a397ee934b4a" href="https://github.com/issues" data-view-component="true" class="ActionListContent ActionListContent--visual16">
        <span class="ActionListItem-visual ActionListItem-visual--leading">
          <svg aria-hidden="true" height="16" viewBox="0 0 16 16" version="1.1" width="16" data-view-component="true" class="octicon octicon-issue-opened">
    <path d="M8 9.5a1.5 1.5 0 1 0 0-3 1.5 1.5 0 0 0 0 3Z"></path><path d="M8 0a8 8 0 1 1 0 16A8 8 0 0 1 8 0ZM1.5 8a6.5 6.5 0 1 0 13 0 6.5 6.5 0 0 0-13 0Z"></path>
</svg>
        </span>
      
        <span data-view-component="true" class="ActionListItem-label">
          Issues
</span></a>
  
  
</li>

        
          
<li item_id="password" data-item-id="" data-targets="nav-list.items" data-view-component="true" class="ActionListItem">
    
    <a data-hotkey="g p" data-analytics-event="{&quot;category&quot;:&quot;Global navigation&quot;,&quot;action&quot;:&quot;PULL_REQUESTS&quot;,&quot;label&quot;:null}" id="item-a8c5bac5-6b80-4e49-9acf-d9866307c2a6" href="https://github.com/pulls" data-view-component="true" class="ActionListContent ActionListContent--visual16">
        <span class="ActionListItem-visual ActionListItem-visual--leading">
          <svg aria-hidden="true" height="16" viewBox="0 0 16 16" version="1.1" width="16" data-view-component="true" class="octicon octicon-git-pull-request">
    <path d="M1.5 3.25a2.25 2.25 0 1 1 3 2.122v5.256a2.251 2.251 0 1 1-1.5 0V5.372A2.25 2.25 0 0 1 1.5 3.25Zm5.677-.177L9.573.677A.25.25 0 0 1 10 .854V2.5h1A2.5 2.5 0 0 1 13.5 5v5.628a2.251 2.251 0 1 1-1.5 0V5a1 1 0 0 0-1-1h-1v1.646a.25.25 0 0 1-.427.177L7.177 3.427a.25.25 0 0 1 0-.354ZM3.75 2.5a.75.75 0 1 0 0 1.5.75.75 0 0 0 0-1.5Zm0 9.5a.75.75 0 1 0 0 1.5.75.75 0 0 0 0-1.5Zm8.25.75a.75.75 0 1 0 1.5 0 .75.75 0 0 0-1.5 0Z"></path>
</svg>
        </span>
      
        <span data-view-component="true" class="ActionListItem-label">
          Pull requests
</span></a>
  
  
</li>

        
          
<li item_id="billing" data-item-id="" data-targets="nav-list.items" data-view-component="true" class="ActionListItem">
    
    <a data-analytics-event="{&quot;category&quot;:&quot;Global navigation&quot;,&quot;action&quot;:&quot;DISCUSSIONS&quot;,&quot;label&quot;:null}" id="item-d3a08bc9-1121-4ca3-aaf1-d24004b2b573" href="https://github.com/discussions" data-view-component="true" class="ActionListContent ActionListContent--visual16">
        <span class="ActionListItem-visual ActionListItem-visual--leading">
          <svg aria-hidden="true" height="16" viewBox="0 0 16 16" version="1.1" width="16" data-view-component="true" class="octicon octicon-comment-discussion">
    <path d="M1.75 1h8.5c.966 0 1.75.784 1.75 1.75v5.5A1.75 1.75 0 0 1 10.25 10H7.061l-2.574 2.573A1.458 1.458 0 0 1 2 11.543V10h-.25A1.75 1.75 0 0 1 0 8.25v-5.5C0 1.784.784 1 1.75 1ZM1.5 2.75v5.5c0 .138.112.25.25.25h1a.75.75 0 0 1 .75.75v2.19l2.72-2.72a.749.749 0 0 1 .53-.22h3.5a.25.25 0 0 0 .25-.25v-5.5a.25.25 0 0 0-.25-.25h-8.5a.25.25 0 0 0-.25.25Zm13 2a.25.25 0 0 0-.25-.25h-.5a.75.75 0 0 1 0-1.5h.5c.966 0 1.75.784 1.75 1.75v5.5A1.75 1.75 0 0 1 14.25 12H14v1.543a1.458 1.458 0 0 1-2.487 1.03L9.22 12.28a.749.749 0 0 1 .326-1.275.749.749 0 0 1 .734.215l2.22 2.22v-2.19a.75.75 0 0 1 .75-.75h1a.25.25 0 0 0 .25-.25Z"></path>
</svg>
        </span>
      
        <span data-view-component="true" class="ActionListItem-label">
          Discussions
</span></a>
  
  
</li>

</ul>  </nav-list>
</nav>

      <div data-view-component="true" class="my-3 d-flex flex-justify-center height-full">
        <svg style="box-sizing: content-box; color: var(--color-icon-primary);" width="16" height="16" viewBox="0 0 16 16" fill="none" data-view-component="true" class="anim-rotate">
  <circle cx="8" cy="8" r="7" stroke="currentColor" stroke-opacity="0.25" stroke-width="2" vector-effect="non-scaling-stroke"></circle>
  <path d="M15 8a7.002 7.002 0 00-7-7" stroke="currentColor" stroke-width="2" stroke-linecap="round" vector-effect="non-scaling-stroke"></path>
</svg>
</div>
</div>
      <div data-view-component="true" class="Overlay-footer Overlay-footer--alignEnd d-block pt-0">      <li role="presentation" aria-hidden="true" data-view-component="true" class="ActionList-sectionDivider mt-0 mb-1"></li>

        <nav aria-label="Additional navigation" data-view-component="true" class="ActionList px-0 flex-1">
  
  <nav-list data-catalyst="">
    <ul data-view-component="true" class="ActionListWrap">
        
          
<li item_id="general" data-item-id="" data-targets="nav-list.items" data-view-component="true" class="ActionListItem">
    
    <a data-analytics-event="{&quot;category&quot;:&quot;Global navigation&quot;,&quot;action&quot;:&quot;EXPLORE&quot;,&quot;label&quot;:null}" id="item-cb78c75b-c90e-4b69-aba5-e25b19564a7a" href="https://github.com/explore" data-view-component="true" class="ActionListContent ActionListContent--visual16">
        <span class="ActionListItem-visual ActionListItem-visual--leading">
          <svg aria-hidden="true" height="16" viewBox="0 0 16 16" version="1.1" width="16" data-view-component="true" class="octicon octicon-telescope">
    <path d="M14.184 1.143v-.001l1.422 2.464a1.75 1.75 0 0 1-.757 2.451L3.104 11.713a1.75 1.75 0 0 1-2.275-.702l-.447-.775a1.75 1.75 0 0 1 .53-2.32L11.682.573a1.748 1.748 0 0 1 2.502.57Zm-4.709 9.32h-.001l2.644 3.863a.75.75 0 1 1-1.238.848l-1.881-2.75v2.826a.75.75 0 0 1-1.5 0v-2.826l-1.881 2.75a.75.75 0 1 1-1.238-.848l2.049-2.992a.746.746 0 0 1 .293-.253l1.809-.87a.749.749 0 0 1 .944.252ZM9.436 3.92h-.001l-4.97 3.39.942 1.63 5.42-2.61Zm3.091-2.108h.001l-1.85 1.26 1.505 2.605 2.016-.97a.247.247 0 0 0 .13-.151.247.247 0 0 0-.022-.199l-1.422-2.464a.253.253 0 0 0-.161-.119.254.254 0 0 0-.197.038ZM1.756 9.157a.25.25 0 0 0-.075.33l.447.775a.25.25 0 0 0 .325.1l1.598-.769-.83-1.436-1.465 1Z"></path>
</svg>
        </span>
      
        <span data-view-component="true" class="ActionListItem-label">
          Explore
</span></a>
  
  
</li>

        
          
<li item_id="general" data-item-id="" data-targets="nav-list.items" data-view-component="true" class="ActionListItem">
    
    <a data-analytics-event="{&quot;category&quot;:&quot;Global navigation&quot;,&quot;action&quot;:&quot;MARKETPLACE&quot;,&quot;label&quot;:null}" id="item-ca38e326-2c9e-4b84-8903-743e65bff351" href="https://github.com/marketplace" data-view-component="true" class="ActionListContent ActionListContent--visual16">
        <span class="ActionListItem-visual ActionListItem-visual--leading">
          <svg aria-hidden="true" height="16" viewBox="0 0 16 16" version="1.1" width="16" data-view-component="true" class="octicon octicon-gift">
    <path d="M2 2.75A2.75 2.75 0 0 1 4.75 0c.983 0 1.873.42 2.57 1.232.268.318.497.668.68 1.042.183-.375.411-.725.68-1.044C9.376.42 10.266 0 11.25 0a2.75 2.75 0 0 1 2.45 4h.55c.966 0 1.75.784 1.75 1.75v2c0 .698-.409 1.301-1 1.582v4.918A1.75 1.75 0 0 1 13.25 16H2.75A1.75 1.75 0 0 1 1 14.25V9.332C.409 9.05 0 8.448 0 7.75v-2C0 4.784.784 4 1.75 4h.55c-.192-.375-.3-.8-.3-1.25ZM7.25 9.5H2.5v4.75c0 .138.112.25.25.25h4.5Zm1.5 0v5h4.5a.25.25 0 0 0 .25-.25V9.5Zm0-4V8h5.5a.25.25 0 0 0 .25-.25v-2a.25.25 0 0 0-.25-.25Zm-7 0a.25.25 0 0 0-.25.25v2c0 .138.112.25.25.25h5.5V5.5h-5.5Zm3-4a1.25 1.25 0 0 0 0 2.5h2.309c-.233-.818-.542-1.401-.878-1.793-.43-.502-.915-.707-1.431-.707ZM8.941 4h2.309a1.25 1.25 0 0 0 0-2.5c-.516 0-1 .205-1.43.707-.337.392-.646.975-.879 1.793Z"></path>
</svg>
        </span>
      
        <span data-view-component="true" class="ActionListItem-label">
          Marketplace
</span></a>
  
  
</li>

        
          
<li item_id="feedback" data-item-id="" data-targets="nav-list.items" data-view-component="true" class="ActionListItem">
    
    <a data-analytics-event="{&quot;category&quot;:&quot;Global navigation&quot;,&quot;action&quot;:&quot;FEEDBACK&quot;,&quot;label&quot;:null}" id="item-cd9c3295-7208-4a5b-aaae-90ec84412ea5" href="https://gh.io/navigation-update" data-view-component="true" class="ActionListContent ActionListContent--visual16">
        <span class="ActionListItem-visual ActionListItem-visual--leading">
          <svg aria-hidden="true" height="16" viewBox="0 0 16 16" version="1.1" width="16" data-view-component="true" class="octicon octicon-comment-discussion">
    <path d="M1.75 1h8.5c.966 0 1.75.784 1.75 1.75v5.5A1.75 1.75 0 0 1 10.25 10H7.061l-2.574 2.573A1.458 1.458 0 0 1 2 11.543V10h-.25A1.75 1.75 0 0 1 0 8.25v-5.5C0 1.784.784 1 1.75 1ZM1.5 2.75v5.5c0 .138.112.25.25.25h1a.75.75 0 0 1 .75.75v2.19l2.72-2.72a.749.749 0 0 1 .53-.22h3.5a.25.25 0 0 0 .25-.25v-5.5a.25.25 0 0 0-.25-.25h-8.5a.25.25 0 0 0-.25.25Zm13 2a.25.25 0 0 0-.25-.25h-.5a.75.75 0 0 1 0-1.5h.5c.966 0 1.75.784 1.75 1.75v5.5A1.75 1.75 0 0 1 14.25 12H14v1.543a1.458 1.458 0 0 1-2.487 1.03L9.22 12.28a.749.749 0 0 1 .326-1.275.749.749 0 0 1 .734.215l2.22 2.22v-2.19a.75.75 0 0 1 .75-.75h1a.25.25 0 0 0 .25-.25Z"></path>
</svg>
        </span>
      
        <span data-view-component="true" class="ActionListItem-label">
          Give new navigation feedback
</span>        <span class="ActionListItem-visual ActionListItem-visual--trailing">
          <span title="Beta" data-view-component="true" class="Counter color-bg-default color-border-success-emphasis color-fg-success">Beta</span>
        </span>
</a>
  
  
</li>

</ul>  </nav-list>
</nav>

      <div data-view-component="true" class="px-2">      <p class="color-fg-subtle text-small text-light">© 2023 GitHub, Inc.</p>

      <div data-view-component="true" class="d-flex text-small text-light">
          <a target="_blank" href="https://github.com/about" data-view-component="true" class="Link no-underline mr-2">About</a>
          <a target="_blank" href="https://github.blog/" data-view-component="true" class="Link no-underline mr-2">Blog</a>
          <a target="_blank" href="https://docs.github.com/site-policy/github-terms/github-terms-of-service" data-view-component="true" class="Link no-underline mr-2">Terms</a>
          <a target="_blank" href="https://docs.github.com/site-policy/privacy-policies/github-privacy-statement" data-view-component="true" class="Link no-underline mr-2">Privacy</a>
          <a target="_blank" href="https://github.com/security" data-view-component="true" class="Link no-underline mr-2">Security</a>
        <a target="_blank" href="https://www.githubstatus.com/" data-view-component="true" class="Link no-underline mr-3">Status</a>
</div></div>
</div>
</modal-dialog></div>

  </include-fragment>
</deferred-side-panel>

        <a class="AppHeader-logo ml-2" href="https://github.com/" data-hotkey="g d" aria-label="Homepage " data-turbo="false" data-analytics-event="{&quot;category&quot;:&quot;Header&quot;,&quot;action&quot;:&quot;go to dashboard&quot;,&quot;label&quot;:&quot;icon:logo&quot;}">
          <svg height="32" aria-hidden="true" viewBox="0 0 16 16" version="1.1" width="32" data-view-component="true" class="octicon octicon-mark-github v-align-middle color-fg-default">
    <path d="M8 0c4.42 0 8 3.58 8 8a8.013 8.013 0 0 1-5.45 7.59c-.4.08-.55-.17-.55-.38 0-.27.01-1.13.01-2.2 0-.75-.25-1.23-.54-1.48 1.78-.2 3.65-.88 3.65-3.95 0-.88-.31-1.59-.82-2.15.08-.2.36-1.02-.08-2.12 0 0-.67-.22-2.2.82-.64-.18-1.32-.27-2-.27-.68 0-1.36.09-2 .27-1.53-1.03-2.2-.82-2.2-.82-.44 1.1-.16 1.92-.08 2.12-.51.56-.82 1.28-.82 2.15 0 3.06 1.86 3.75 3.64 3.95-.23.2-.44.55-.51 1.07-.46.21-1.61.55-2.33-.66-.15-.24-.6-.83-1.23-.82-.67.01-.27.38.01.53.34.19.73.9.82 1.13.16.45.68 1.31 2.69.94 0 .67.01 1.3.01 1.49 0 .21-.15.45-.55.38A7.995 7.995 0 0 1 0 8c0-4.42 3.58-8 8-8Z"></path>
</svg>
        </a>

          <div class="AppHeader-context">
  <div class="AppHeader-context-compact">
        <button aria-expanded="false" aria-haspopup="dialog" aria-label="Page context: Priyam219 / Bharat-Intern---ML" id="dialog-show-context-region-dialog" data-show-dialog-id="context-region-dialog" type="button" data-view-component="true" class="AppHeader-context-compact-trigger Truncate Button--secondary Button--medium Button box-shadow-none">    <span class="Button-content">
      <span class="Button-label"><span class="AppHeader-context-compact-lead">
                <span class="AppHeader-context-compact-parentItem">Priyam219</span>
                <span class="AppHeader-context-compact-separator">&nbsp;/</span>

            </span>

            <strong class="AppHeader-context-compact-mainItem d-flex flex-items-center Truncate">
  <span class="Truncate-text ">Bharat-Intern---ML</span>

</strong></span>
    </span>
</button>  

<div class="Overlay--hidden Overlay-backdrop--center" data-modal-dialog-overlay="">
  <modal-dialog role="dialog" id="context-region-dialog" aria-modal="true" aria-disabled="true" aria-labelledby="context-region-dialog-title" aria-describedby="context-region-dialog-description" data-view-component="true" class="Overlay Overlay-whenNarrow Overlay--size-medium Overlay--motion-scaleFade">
    <div data-view-component="true" class="Overlay-header">
  <div class="Overlay-headerContentWrap">
    <div class="Overlay-titleWrap">
      <h1 class="Overlay-title " id="context-region-dialog-title">
        Navigate back to
      </h1>
    </div>
    <div class="Overlay-actionWrap">
      <button data-close-dialog-id="context-region-dialog" aria-label="Close" type="button" data-view-component="true" class="close-button Overlay-closeButton"><svg aria-hidden="true" height="16" viewBox="0 0 16 16" version="1.1" width="16" data-view-component="true" class="octicon octicon-x">
    <path d="M3.72 3.72a.75.75 0 0 1 1.06 0L8 6.94l3.22-3.22a.749.749 0 0 1 1.275.326.749.749 0 0 1-.215.734L9.06 8l3.22 3.22a.749.749 0 0 1-.326 1.275.749.749 0 0 1-.734-.215L8 9.06l-3.22 3.22a.751.751 0 0 1-1.042-.018.751.751 0 0 1-.018-1.042L6.94 8 3.72 4.78a.75.75 0 0 1 0-1.06Z"></path>
</svg></button>
    </div>
  </div>
</div>
      <div data-view-component="true" class="Overlay-body">          <ul role="list" class="list-style-none">
    <li>
      <a data-analytics-event="{&quot;category&quot;:&quot;SiteHeaderComponent&quot;,&quot;action&quot;:&quot;context_region_crumb&quot;,&quot;label&quot;:&quot;Priyam219&quot;,&quot;screen_size&quot;:&quot;compact&quot;}" href="https://github.com/Priyam219" data-view-component="true" class="Link--primary Truncate d-flex flex-items-center py-1">
        <span class="AppHeader-context-item-label Truncate-text ">
            <svg aria-hidden="true" height="12" viewBox="0 0 16 16" version="1.1" width="12" data-view-component="true" class="octicon octicon-person mr-1">
    <path d="M10.561 8.073a6.005 6.005 0 0 1 3.432 5.142.75.75 0 1 1-1.498.07 4.5 4.5 0 0 0-8.99 0 .75.75 0 0 1-1.498-.07 6.004 6.004 0 0 1 3.431-5.142 3.999 3.999 0 1 1 5.123 0ZM10.5 5a2.5 2.5 0 1 0-5 0 2.5 2.5 0 0 0 5 0Z"></path>
</svg>

          Priyam219
        </span>

</a>
    </li>
    <li>
      <a data-analytics-event="{&quot;category&quot;:&quot;SiteHeaderComponent&quot;,&quot;action&quot;:&quot;context_region_crumb&quot;,&quot;label&quot;:&quot;Bharat-Intern---ML&quot;,&quot;screen_size&quot;:&quot;compact&quot;}" href="https://github.com/Priyam219/Bharat-Intern---ML" data-view-component="true" class="Link--primary Truncate d-flex flex-items-center py-1">
        <span class="AppHeader-context-item-label Truncate-text ">
            <svg aria-hidden="true" height="12" viewBox="0 0 16 16" version="1.1" width="12" data-view-component="true" class="octicon octicon-repo mr-1">
    <path d="M2 2.5A2.5 2.5 0 0 1 4.5 0h8.75a.75.75 0 0 1 .75.75v12.5a.75.75 0 0 1-.75.75h-2.5a.75.75 0 0 1 0-1.5h1.75v-2h-8a1 1 0 0 0-.714 1.7.75.75 0 1 1-1.072 1.05A2.495 2.495 0 0 1 2 11.5Zm10.5-1h-8a1 1 0 0 0-1 1v6.708A2.486 2.486 0 0 1 4.5 9h8ZM5 12.25a.25.25 0 0 1 .25-.25h3.5a.25.25 0 0 1 .25.25v3.25a.25.25 0 0 1-.4.2l-1.45-1.087a.249.249 0 0 0-.3 0L5.4 15.7a.25.25 0 0 1-.4-.2Z"></path>
</svg>

          Bharat-Intern---ML
        </span>

</a>
    </li>
</ul>

</div>
      
</modal-dialog></div>
  </div>

  <div class="AppHeader-context-full">
    <nav role="navigation" aria-label="Page context">
      <ul role="list" class="list-style-none">
    <li>
      <a data-analytics-event="{&quot;category&quot;:&quot;SiteHeaderComponent&quot;,&quot;action&quot;:&quot;context_region_crumb&quot;,&quot;label&quot;:&quot;Priyam219&quot;,&quot;screen_size&quot;:&quot;full&quot;}" data-hovercard-type="user" data-hovercard-url="/users/Priyam219/hovercard" data-octo-click="hovercard-link-click" data-octo-dimensions="link_type:self" href="https://github.com/Priyam219" data-view-component="true" class="AppHeader-context-item">
        <span class="AppHeader-context-item-label  ">

          Priyam219
        </span>

</a>
        <span class="AppHeader-context-item-separator">/</span>
    </li>
    <li>
      <a data-analytics-event="{&quot;category&quot;:&quot;SiteHeaderComponent&quot;,&quot;action&quot;:&quot;context_region_crumb&quot;,&quot;label&quot;:&quot;Bharat-Intern---ML&quot;,&quot;screen_size&quot;:&quot;full&quot;}" href="https://github.com/Priyam219/Bharat-Intern---ML" data-view-component="true" class="AppHeader-context-item">
        <span class="AppHeader-context-item-label  ">

          Bharat-Intern---ML
        </span>

</a>
    </li>
</ul>

    </nav>
  </div>
</div>

      </div>
      <div class="AppHeader-globalBar-end">
          <div class="AppHeader-search">
              


<qbsearch-input class="search-input" data-scope="repo:Priyam219/Bharat-Intern---ML" data-custom-scopes-path="/search/custom_scopes" data-delete-custom-scopes-csrf="Im5nhwGNhVNe6PPDsWkVT8QQ12OHfVAxrypT8N-gkf41rIAfODO0su1z6nsIq5XJ7ZQk3Og_5nSv6oS8UKqtdA" data-max-custom-scopes="10" data-header-redesign-enabled="true" data-initial-value="" data-blackbird-suggestions-path="/search/suggestions" data-jump-to-suggestions-path="/_graphql/GetSuggestedNavigationDestinations" data-current-repository="Priyam219/Bharat-Intern---ML" data-current-org="" data-current-owner="Priyam219" data-logged-in="true" data-catalyst="">
  <div class="search-input-container search-with-dialog position-relative d-flex flex-row flex-items-center height-auto color-bg-transparent border-0 color-fg-subtle mx-0" data-action="click:qbsearch-input#searchInputContainerClicked">
      
            <button type="button" data-action="click:qbsearch-input#handleExpand" class="AppHeader-button AppHeader-search-whenNarrow" aria-label="Search or jump to…" aria-expanded="false" aria-haspopup="dialog">
            <svg aria-hidden="true" height="16" viewBox="0 0 16 16" version="1.1" width="16" data-view-component="true" class="octicon octicon-search">
    <path d="M10.68 11.74a6 6 0 0 1-7.922-8.982 6 6 0 0 1 8.982 7.922l3.04 3.04a.749.749 0 0 1-.326 1.275.749.749 0 0 1-.734-.215ZM11.5 7a4.499 4.499 0 1 0-8.997 0A4.499 4.499 0 0 0 11.5 7Z"></path>
</svg>
          </button>


<div class="AppHeader-search-whenRegular">
  <div class="AppHeader-search-wrap AppHeader-search-wrap--hasTrailing">
    <div class="AppHeader-search-control">
      <label for="AppHeader-searchInput" aria-label="Search or jump to…" class="AppHeader-search-visual--leading">
        <svg aria-hidden="true" height="16" viewBox="0 0 16 16" version="1.1" width="16" data-view-component="true" class="octicon octicon-search">
    <path d="M10.68 11.74a6 6 0 0 1-7.922-8.982 6 6 0 0 1 8.982 7.922l3.04 3.04a.749.749 0 0 1-.326 1.275.749.749 0 0 1-.734-.215ZM11.5 7a4.499 4.499 0 1 0-8.997 0A4.499 4.499 0 0 0 11.5 7Z"></path>
</svg>
      </label>

                <button type="button" data-target="qbsearch-input.inputButton" data-action="click:qbsearch-input#handleExpand" class="AppHeader-searchButton form-control input-contrast text-left color-fg-subtle no-wrap placeholder" data-hotkey="s,/" data-analytics-event="{&quot;category&quot;:&quot;Global navigation&quot;,&quot;action&quot;:&quot;SEARCH&quot;,&quot;label&quot;:null}">
            <div class="overflow-hidden">
              <span id="qb-input-query" data-target="qbsearch-input.inputButtonText">
  Type <kbd class="AppHeader-search-kbd">/</kbd> to search
</span>
            </div>
          </button>

    </div>


      <button type="button" id="AppHeader-commandPalette-button" class="AppHeader-search-action--trailing js-activate-command-palette" data-analytics-event="{&quot;category&quot;:&quot;SiteHeaderComponent&quot;,&quot;action&quot;:&quot;command_palette&quot;,&quot;label&quot;:&quot;open command palette&quot;}" aria-labelledby="tooltip-1a24a09f-9e36-4dd5-854b-fc30f20ec87b">
        <svg aria-hidden="true" height="16" viewBox="0 0 16 16" version="1.1" width="16" data-view-component="true" class="octicon octicon-command-palette">
    <path d="m6.354 8.04-4.773 4.773a.75.75 0 1 0 1.061 1.06L7.945 8.57a.75.75 0 0 0 0-1.06L2.642 2.206a.75.75 0 0 0-1.06 1.061L6.353 8.04ZM8.75 11.5a.75.75 0 0 0 0 1.5h5.5a.75.75 0 0 0 0-1.5h-5.5Z"></path>
</svg>
      </button>

      <tool-tip id="tooltip-1a24a09f-9e36-4dd5-854b-fc30f20ec87b" for="AppHeader-commandPalette-button" popover="manual" data-direction="s" data-type="label" data-view-component="true" class="sr-only position-absolute" aria-hidden="true" role="tooltip"><template shadowrootmode="open"><style>
      :host {
        padding: .5em .75em !important;
        font: normal normal 11px/1.5 -apple-system, BlinkMacSystemFont, "Segoe UI", Helvetica, Arial, sans-serif, "Apple Color Emoji", "Segoe UI Emoji";
        -webkit-font-smoothing: subpixel-antialiased;
        color: var(--color-fg-on-emphasis) !important;
        text-align: center;
        text-decoration: none;
        text-shadow: none;
        text-transform: none;
        letter-spacing: normal;
        word-wrap: break-word;
        white-space: pre;
        background: var(--color-neutral-emphasis-plus) !important;
        border-radius: 6px;
        border: 0 !important;
        opacity: 0;
        max-width: 250px;
        word-wrap: break-word;
        white-space: normal;
        width: max-content !important;
        inset: var(--tool-tip-position-top, 0) auto auto var(--tool-tip-position-left, 0) !important;
        overflow: visible !important;
      }

      :host:before{
        position: absolute;
        z-index: 1000001;
        color: var(--color-neutral-emphasis-plus);
        content: "";
        border: 6px solid transparent;
        opacity: 0
      }

      @keyframes tooltip-appear {
        from {
          opacity: 0;
        }
        to {
          opacity: 1
        }
      }

      :host:after{
        position: absolute;
        display: block;
        right: 0;
        left: 0;
        height: 12px;
        content: ""
      }

      :host(:popover-open),
      :host(:popover-open):before {
        animation-name: tooltip-appear;
        animation-duration: .1s;
        animation-fill-mode: forwards;
        animation-timing-function: ease-in;
        animation-delay: .4s
      }

      :host(.\:popover-open),
      :host(.\:popover-open):before {
        animation-name: tooltip-appear;
        animation-duration: .1s;
        animation-fill-mode: forwards;
        animation-timing-function: ease-in;
        animation-delay: .4s
      }

      :host(.tooltip-s):before,
      :host(.tooltip-n):before {
        right: 50%;
        margin-right: -6px;
      }

      :host(.tooltip-s):before,
      :host(.tooltip-se):before,
      :host(.tooltip-sw):before {
        bottom: 100%;
        border-bottom-color: var(--color-neutral-emphasis-plus)
      }

      :host(.tooltip-s):after,
      :host(.tooltip-se):after,
      :host(.tooltip-sw):after {
        bottom: 100%
      }

      :host(.tooltip-n):before,
      :host(.tooltip-ne):before,
      :host(.tooltip-nw):before {
        top: 100%;
        border-top-color: var(--color-neutral-emphasis-plus)
      }

      :host(.tooltip-n):after,
      :host(.tooltip-ne):after,
      :host(.tooltip-nw):after {
        top: 100%
      }

      :host(.tooltip-se):before,
      :host(.tooltip-ne):before {
        left: 0;
        margin-left: 6px;
      }

      :host(.tooltip-sw):before,
      :host(.tooltip-nw):before {
        right: 0;
        margin-right: 6px;
      }

      :host(.tooltip-w):before {
        top: 50%;
        bottom: 50%;
        left: 100%;
        margin-top: -6px;
        border-left-color: var(--color-neutral-emphasis-plus)
      }

      :host(.tooltip-e):before {
        top: 50%;
        right: 100%;
        bottom: 50%;
        margin-top: -6px;
        border-right-color: var(--color-neutral-emphasis-plus)
      }
    </style><slot></slot></template>Command palette</tool-tip>
  </div>
</div>

    <input type="hidden" name="type" class="js-site-search-type-field">

    
<div class="Overlay--hidden " data-modal-dialog-overlay="">
  <modal-dialog data-action="close:qbsearch-input#handleClose cancel:qbsearch-input#handleClose" data-target="qbsearch-input.searchSuggestionsDialog" role="dialog" id="search-suggestions-dialog" aria-modal="true" aria-labelledby="search-suggestions-dialog-header" data-view-component="true" class="Overlay Overlay--width-medium Overlay--height-auto">
      <h1 id="search-suggestions-dialog-header" class="sr-only">Search code, repositories, users, issues, pull requests...</h1>
    <div class="Overlay-body Overlay-body--paddingNone">
      
          <div data-view-component="true">        <div class="search-suggestions position-absolute width-full color-shadow-large border color-fg-default color-bg-default overflow-hidden d-flex flex-column query-builder-container" style="border-radius: 12px;" data-target="qbsearch-input.queryBuilderContainer" hidden="">
          <!-- '"` --><!-- </textarea></xmp> --><form id="query-builder-test-form" action="https://github.com/Priyam219/Bharat-Intern---ML/blob/04a8df9791d2d791f393362165355ec6140659ac/Task-1%20-%20House%20Price%20Prediction/House_Price_Prediction/House_Price_Prediction.ipynb" accept-charset="UTF-8" method="get">
  <query-builder data-target="qbsearch-input.queryBuilder" id="query-builder-query-builder-test" data-filter-key=":" data-view-component="true" class="QueryBuilder search-query-builder" data-catalyst="">
    <div class="FormControl FormControl--fullWidth">
      <label id="query-builder-test-label" for="query-builder-test" class="FormControl-label sr-only">
        Search
      </label>
      <div class="QueryBuilder-StyledInput width-fit " data-target="query-builder.styledInput">
          <span id="query-builder-test-leadingvisual-wrap" class="FormControl-input-leadingVisualWrap QueryBuilder-leadingVisualWrap">
            <svg aria-hidden="true" height="16" viewBox="0 0 16 16" version="1.1" width="16" data-view-component="true" class="octicon octicon-search FormControl-input-leadingVisual">
    <path d="M10.68 11.74a6 6 0 0 1-7.922-8.982 6 6 0 0 1 8.982 7.922l3.04 3.04a.749.749 0 0 1-.326 1.275.749.749 0 0 1-.734-.215ZM11.5 7a4.499 4.499 0 1 0-8.997 0A4.499 4.499 0 0 0 11.5 7Z"></path>
</svg>
          </span>
        <div data-target="query-builder.styledInputContainer" class="QueryBuilder-StyledInputContainer">
          <div aria-hidden="true" class="QueryBuilder-StyledInputContent" data-target="query-builder.styledInputContent"></div>
          <div class="QueryBuilder-InputWrapper">
            <div aria-hidden="true" class="QueryBuilder-Sizer" data-target="query-builder.sizer"><span></span></div>
            <input id="query-builder-test" name="query-builder-test" value="" autocomplete="off" type="text" role="combobox" spellcheck="false" aria-expanded="false" aria-describedby="validation-75c98933-f397-4feb-8bbc-e95c3db14c03" data-target="query-builder.input" data-action="
          input:query-builder#inputChange
          blur:query-builder#inputBlur
          keydown:query-builder#inputKeydown
          focus:query-builder#inputFocus
        " data-view-component="true" class="FormControl-input QueryBuilder-Input FormControl-medium" aria-controls="query-builder-test-results" aria-autocomplete="list" aria-haspopup="listbox">
          </div>
        </div>
          <span class="sr-only" id="query-builder-test-clear">Clear</span>
          
  <button role="button" id="query-builder-test-clear-button" aria-labelledby="query-builder-test-clear query-builder-test-label" data-target="query-builder.clearButton" data-action="
                click:query-builder#clear
                focus:query-builder#clearButtonFocus
                blur:query-builder#clearButtonBlur
              " variant="small" hidden="" type="button" data-view-component="true" class="Button Button--iconOnly Button--invisible Button--medium mr-1 px-2 py-0 d-flex flex-items-center rounded-1 color-fg-muted">    <svg aria-hidden="true" height="16" viewBox="0 0 16 16" version="1.1" width="16" data-view-component="true" class="octicon octicon-x-circle-fill Button-visual">
    <path d="M2.343 13.657A8 8 0 1 1 13.658 2.343 8 8 0 0 1 2.343 13.657ZM6.03 4.97a.751.751 0 0 0-1.042.018.751.751 0 0 0-.018 1.042L6.94 8 4.97 9.97a.749.749 0 0 0 .326 1.275.749.749 0 0 0 .734-.215L8 9.06l1.97 1.97a.749.749 0 0 0 1.275-.326.749.749 0 0 0-.215-.734L9.06 8l1.97-1.97a.749.749 0 0 0-.326-1.275.749.749 0 0 0-.734.215L8 6.94Z"></path>
</svg>
</button>  

      </div>
      <template id="search-icon"></template>

<template id="code-icon"></template>

<template id="file-code-icon"></template>

<template id="history-icon"></template>

<template id="repo-icon"></template>

<template id="bookmark-icon"></template>

<template id="plus-circle-icon"></template>

<template id="circle-icon"></template>

<template id="trash-icon"></template>

<template id="team-icon"></template>

<template id="project-icon"></template>

<template id="pencil-icon"></template>

        <div class="position-relative">
                <ul role="listbox" class="ActionListWrap QueryBuilder-ListWrap" aria-label="Suggestions" data-action="
                    combobox-commit:query-builder#comboboxCommit
                    mousedown:query-builder#resultsMousedown
                  " data-target="query-builder.resultsList" data-persist-list="false" id="query-builder-test-results"></ul>
        </div>
      <div class="FormControl-inlineValidation" id="validation-75c98933-f397-4feb-8bbc-e95c3db14c03" hidden="hidden">
        <span class="FormControl-inlineValidation--visual">
          <svg aria-hidden="true" height="12" viewBox="0 0 12 12" version="1.1" width="12" data-view-component="true" class="octicon octicon-alert-fill">
    <path d="M4.855.708c.5-.896 1.79-.896 2.29 0l4.675 8.351a1.312 1.312 0 0 1-1.146 1.954H1.33A1.313 1.313 0 0 1 .183 9.058ZM7 7V3H5v4Zm-1 3a1 1 0 1 0 0-2 1 1 0 0 0 0 2Z"></path>
</svg>
        </span>
        <span></span>
</div>    </div>
    <div data-target="query-builder.screenReaderFeedback" aria-live="polite" aria-atomic="true" class="sr-only">0 suggestions.</div>
</query-builder></form>
          <div class="d-flex flex-row color-fg-muted px-3 text-small color-bg-default search-feedback-prompt">
            <a target="_blank" href="https://docs.github.com/en/search-github/github-code-search/understanding-github-code-search-syntax" data-view-component="true" class="Link color-fg-accent text-normal ml-2">
              Search syntax tips
</a>            <div class="d-flex flex-1"></div>
                <button data-action="click:qbsearch-input#showFeedbackDialog" type="button" data-view-component="true" class="Button--link Button--medium Button color-fg-accent text-normal ml-2">    <span class="Button-content">
      <span class="Button-label">Give feedback</span>
    </span>
</button>  
          </div>
        </div>
</div>

    </div>
</modal-dialog></div>
  </div>
  <div data-action="click:qbsearch-input#retract" class="dark-backdrop position-fixed" hidden="" data-target="qbsearch-input.darkBackdrop"></div>
  <div class="color-fg-default">
    
<div class="Overlay--hidden Overlay-backdrop--center" data-modal-dialog-overlay="">
  <modal-dialog data-target="qbsearch-input.feedbackDialog" data-action="close:qbsearch-input#handleDialogClose cancel:qbsearch-input#handleDialogClose" role="dialog" id="feedback-dialog" aria-modal="true" aria-disabled="true" aria-labelledby="feedback-dialog-title" aria-describedby="feedback-dialog-description" data-view-component="true" class="Overlay Overlay-whenNarrow Overlay--size-medium Overlay--motion-scaleFade">
    <div data-view-component="true" class="Overlay-header">
  <div class="Overlay-headerContentWrap">
    <div class="Overlay-titleWrap">
      <h1 class="Overlay-title " id="feedback-dialog-title">
        Provide feedback
      </h1>
    </div>
    <div class="Overlay-actionWrap">
      <button data-close-dialog-id="feedback-dialog" aria-label="Close" type="button" data-view-component="true" class="close-button Overlay-closeButton"><svg aria-hidden="true" height="16" viewBox="0 0 16 16" version="1.1" width="16" data-view-component="true" class="octicon octicon-x">
    <path d="M3.72 3.72a.75.75 0 0 1 1.06 0L8 6.94l3.22-3.22a.749.749 0 0 1 1.275.326.749.749 0 0 1-.215.734L9.06 8l3.22 3.22a.749.749 0 0 1-.326 1.275.749.749 0 0 1-.734-.215L8 9.06l-3.22 3.22a.751.751 0 0 1-1.042-.018.751.751 0 0 1-.018-1.042L6.94 8 3.72 4.78a.75.75 0 0 1 0-1.06Z"></path>
</svg></button>
    </div>
  </div>
</div>
      <div data-view-component="true" class="Overlay-body">        <!-- '"` --><!-- </textarea></xmp> --><form id="code-search-feedback-form" data-turbo="false" action="https://github.com/search/feedback" accept-charset="UTF-8" method="post"><input type="hidden" name="authenticity_token" value="qBXm4m04axW-VXp0vbpYEGN2vGRffFoV0LCzaafuLqpNJ2IGiY1vMZk6Fex0j4-yy88R8xwYfcZvECvmoMc1Cw">
          <p>We read every piece of feedback, and take your input very seriously.</p>
          <textarea name="feedback" class="form-control width-full mb-2" style="height: 120px" id="feedback"></textarea>
          <input name="include_email" id="include_email" aria-label="Include my email address so I can be contacted" class="form-control mr-2" type="checkbox">
          <label for="include_email" style="font-weight: normal">Include my email address so I can be contacted</label>
</form></div>
      <div data-view-component="true" class="Overlay-footer Overlay-footer--alignEnd">          <button data-close-dialog-id="feedback-dialog" type="button" data-view-component="true" class="btn">    Cancel
</button>
          <button form="code-search-feedback-form" data-action="click:qbsearch-input#submitFeedback" type="submit" data-view-component="true" class="btn-primary btn">    Submit feedback
</button>
</div>
</modal-dialog></div>

    <custom-scopes data-target="qbsearch-input.customScopesManager" data-catalyst="">
    
<div class="Overlay--hidden Overlay-backdrop--center" data-modal-dialog-overlay="">
  <modal-dialog data-target="custom-scopes.customScopesModalDialog" data-action="close:qbsearch-input#handleDialogClose cancel:qbsearch-input#handleDialogClose" role="dialog" id="custom-scopes-dialog" aria-modal="true" aria-disabled="true" aria-labelledby="custom-scopes-dialog-title" aria-describedby="custom-scopes-dialog-description" data-view-component="true" class="Overlay Overlay-whenNarrow Overlay--size-medium Overlay--motion-scaleFade">
    <div data-view-component="true" class="Overlay-header Overlay-header--divided">
  <div class="Overlay-headerContentWrap">
    <div class="Overlay-titleWrap">
      <h1 class="Overlay-title " id="custom-scopes-dialog-title">
        Saved searches
      </h1>
        <h2 id="custom-scopes-dialog-description" class="Overlay-description">Use saved searches to filter your results more quickly</h2>
    </div>
    <div class="Overlay-actionWrap">
      <button data-close-dialog-id="custom-scopes-dialog" aria-label="Close" type="button" data-view-component="true" class="close-button Overlay-closeButton"><svg aria-hidden="true" height="16" viewBox="0 0 16 16" version="1.1" width="16" data-view-component="true" class="octicon octicon-x">
    <path d="M3.72 3.72a.75.75 0 0 1 1.06 0L8 6.94l3.22-3.22a.749.749 0 0 1 1.275.326.749.749 0 0 1-.215.734L9.06 8l3.22 3.22a.749.749 0 0 1-.326 1.275.749.749 0 0 1-.734-.215L8 9.06l-3.22 3.22a.751.751 0 0 1-1.042-.018.751.751 0 0 1-.018-1.042L6.94 8 3.72 4.78a.75.75 0 0 1 0-1.06Z"></path>
</svg></button>
    </div>
  </div>
</div>
      <div data-view-component="true" class="Overlay-body">        <div data-target="custom-scopes.customScopesModalDialogFlash"></div>

        <div hidden="" class="create-custom-scope-form" data-target="custom-scopes.createCustomScopeForm">
        <!-- '"` --><!-- </textarea></xmp> --><form id="custom-scopes-dialog-form" data-turbo="false" action="https://github.com/search/custom_scopes" accept-charset="UTF-8" method="post"><input type="hidden" name="authenticity_token" value="vKV_-B8Rd30oR4BRRPEd7cEpPcGUBTC4cxth-HzaQfo-C1gu3II_60OeKd8Kc73gE01e6AEBGH8iHj-vfT-nqQ">
          <div data-target="custom-scopes.customScopesModalDialogFlash"></div>

          <input type="hidden" id="custom_scope_id" name="custom_scope_id" data-target="custom-scopes.customScopesIdField">

          <div class="form-group">
            <label for="custom_scope_name">Name</label>
            <auto-check src="/search/custom_scopes/check_name" required="">
              <input type="text" name="custom_scope_name" id="custom_scope_name" data-target="custom-scopes.customScopesNameField" class="form-control" autocomplete="off" placeholder="github-ruby" required="" maxlength="50" spellcheck="false">
              <input type="hidden" value="CD8j3RE4WzZKfwYL8avGHkhAwCnJF2XySlF5rFzE8H_7goIWwbYSsNCkMJ5yEqt6A-Sp5nwO2EXHoTct4w-zig" data-csrf="true">
            </auto-check>
          </div>

          <div class="form-group">
            <label for="custom_scope_query">Query</label>
            <input type="text" name="custom_scope_query" id="custom_scope_query" data-target="custom-scopes.customScopesQueryField" class="form-control" autocomplete="off" placeholder="(repo:mona/a OR repo:mona/b) AND lang:python" required="" maxlength="500">
          </div>

          <p class="text-small color-fg-muted">
            To see all available qualifiers, see our <a class="Link--inTextBlock" href="https://docs.github.com/en/search-github/github-code-search/understanding-github-code-search-syntax">documentation</a>.
          </p>
</form>        </div>

        <div data-target="custom-scopes.manageCustomScopesForm">
          <div data-target="custom-scopes.list"></div>
        </div>

</div>
      <div data-view-component="true" class="Overlay-footer Overlay-footer--alignEnd Overlay-footer--divided">          <button data-action="click:custom-scopes#customScopesCancel" type="button" data-view-component="true" class="btn">    Cancel
</button>
          <button form="custom-scopes-dialog-form" data-action="click:custom-scopes#customScopesSubmit" data-target="custom-scopes.customScopesSubmitButton" type="submit" data-view-component="true" class="btn-primary btn">    Create saved search
</button>
</div>
</modal-dialog></div>
    </custom-scopes>
  </div>
</qbsearch-input><input type="hidden" value="SQ_yfU8___NJr4JVEuJM7Lt7dhhkrpKlEPEzTrMEamnu-ounbMMP0dorE11-wBDBE0Q9Daym9aYKxuHiRAG2wg" data-csrf="true" class="js-data-jump-to-suggestions-path-csrf">

          </div>

        <div class="AppHeader-actions">
          <action-menu data-select-variant="none" data-view-component="true" data-catalyst="">
  <focus-group direction="vertical" mnemonics="" retain="">
    <div data-view-component="true" class="Button-withTooltip">  <button id="global-create-menu-button" popovertarget="global-create-menu-overlay" aria-label="Create something new" aria-controls="global-create-menu-list" aria-haspopup="true" type="button" data-view-component="true" class="AppHeader-button Button--secondary Button--small Button width-auto color-fg-muted" aria-describedby="tooltip-5294f6f9-354c-476e-8d97-dff637148c36">    <span class="Button-content">
        <span class="Button-visual Button-leadingVisual">
          <svg aria-hidden="true" height="16" viewBox="0 0 16 16" version="1.1" width="16" data-view-component="true" class="octicon octicon-plus">
    <path d="M7.75 2a.75.75 0 0 1 .75.75V7h4.25a.75.75 0 0 1 0 1.5H8.5v4.25a.75.75 0 0 1-1.5 0V8.5H2.75a.75.75 0 0 1 0-1.5H7V2.75A.75.75 0 0 1 7.75 2Z"></path>
</svg>
        </span>
      <span class="Button-label"><svg aria-hidden="true" height="16" viewBox="0 0 16 16" version="1.1" width="16" data-view-component="true" class="octicon octicon-triangle-down">
    <path d="m4.427 7.427 3.396 3.396a.25.25 0 0 0 .354 0l3.396-3.396A.25.25 0 0 0 11.396 7H4.604a.25.25 0 0 0-.177.427Z"></path>
</svg></span>
    </span>
</button>  <tool-tip id="tooltip-5294f6f9-354c-476e-8d97-dff637148c36" for="global-create-menu-button" popover="manual" data-direction="s" data-type="description" data-view-component="true" class="sr-only position-absolute" role="tooltip"><template shadowrootmode="open"><style>
      :host {
        padding: .5em .75em !important;
        font: normal normal 11px/1.5 -apple-system, BlinkMacSystemFont, "Segoe UI", Helvetica, Arial, sans-serif, "Apple Color Emoji", "Segoe UI Emoji";
        -webkit-font-smoothing: subpixel-antialiased;
        color: var(--color-fg-on-emphasis) !important;
        text-align: center;
        text-decoration: none;
        text-shadow: none;
        text-transform: none;
        letter-spacing: normal;
        word-wrap: break-word;
        white-space: pre;
        background: var(--color-neutral-emphasis-plus) !important;
        border-radius: 6px;
        border: 0 !important;
        opacity: 0;
        max-width: 250px;
        word-wrap: break-word;
        white-space: normal;
        width: max-content !important;
        inset: var(--tool-tip-position-top, 0) auto auto var(--tool-tip-position-left, 0) !important;
        overflow: visible !important;
      }

      :host:before{
        position: absolute;
        z-index: 1000001;
        color: var(--color-neutral-emphasis-plus);
        content: "";
        border: 6px solid transparent;
        opacity: 0
      }

      @keyframes tooltip-appear {
        from {
          opacity: 0;
        }
        to {
          opacity: 1
        }
      }

      :host:after{
        position: absolute;
        display: block;
        right: 0;
        left: 0;
        height: 12px;
        content: ""
      }

      :host(:popover-open),
      :host(:popover-open):before {
        animation-name: tooltip-appear;
        animation-duration: .1s;
        animation-fill-mode: forwards;
        animation-timing-function: ease-in;
        animation-delay: .4s
      }

      :host(.\:popover-open),
      :host(.\:popover-open):before {
        animation-name: tooltip-appear;
        animation-duration: .1s;
        animation-fill-mode: forwards;
        animation-timing-function: ease-in;
        animation-delay: .4s
      }

      :host(.tooltip-s):before,
      :host(.tooltip-n):before {
        right: 50%;
        margin-right: -6px;
      }

      :host(.tooltip-s):before,
      :host(.tooltip-se):before,
      :host(.tooltip-sw):before {
        bottom: 100%;
        border-bottom-color: var(--color-neutral-emphasis-plus)
      }

      :host(.tooltip-s):after,
      :host(.tooltip-se):after,
      :host(.tooltip-sw):after {
        bottom: 100%
      }

      :host(.tooltip-n):before,
      :host(.tooltip-ne):before,
      :host(.tooltip-nw):before {
        top: 100%;
        border-top-color: var(--color-neutral-emphasis-plus)
      }

      :host(.tooltip-n):after,
      :host(.tooltip-ne):after,
      :host(.tooltip-nw):after {
        top: 100%
      }

      :host(.tooltip-se):before,
      :host(.tooltip-ne):before {
        left: 0;
        margin-left: 6px;
      }

      :host(.tooltip-sw):before,
      :host(.tooltip-nw):before {
        right: 0;
        margin-right: 6px;
      }

      :host(.tooltip-w):before {
        top: 50%;
        bottom: 50%;
        left: 100%;
        margin-top: -6px;
        border-left-color: var(--color-neutral-emphasis-plus)
      }

      :host(.tooltip-e):before {
        top: 50%;
        right: 100%;
        bottom: 50%;
        margin-top: -6px;
        border-right-color: var(--color-neutral-emphasis-plus)
      }
    </style><slot></slot></template>Create new...</tool-tip>
</div>

<anchored-position id="global-create-menu-overlay" anchor="global-create-menu-button" align="end" side="outside-bottom" anchor-offset="normal" popover="auto" aria-label="Menu" data-view-component="true" style="top: 52px; left: 1173px;">
  <div data-view-component="true" class="Overlay Overlay--size-auto">
    
      
        <div data-view-component="true">
  <ul aria-labelledby="global-create-menu-button" id="global-create-menu-list" role="menu" data-view-component="true" class="ActionListWrap--inset ActionListWrap">
      <li data-analytics-event="{&quot;category&quot;:&quot;SiteHeaderComponent&quot;,&quot;action&quot;:&quot;add_dropdown&quot;,&quot;label&quot;:&quot;new repository&quot;}" data-targets="action-list.items" role="none" data-view-component="true" class="ActionListItem">
    
    <a href="https://github.com/new" tabindex="-1" id="item-83ad0d62-c871-4232-a7ff-d054a52234dc" role="menuitem" data-view-component="true" class="ActionListContent ActionListContent--visual16">
        <span class="ActionListItem-visual ActionListItem-visual--leading">
          <svg aria-hidden="true" height="16" viewBox="0 0 16 16" version="1.1" width="16" data-view-component="true" class="octicon octicon-repo">
    <path d="M2 2.5A2.5 2.5 0 0 1 4.5 0h8.75a.75.75 0 0 1 .75.75v12.5a.75.75 0 0 1-.75.75h-2.5a.75.75 0 0 1 0-1.5h1.75v-2h-8a1 1 0 0 0-.714 1.7.75.75 0 1 1-1.072 1.05A2.495 2.495 0 0 1 2 11.5Zm10.5-1h-8a1 1 0 0 0-1 1v6.708A2.486 2.486 0 0 1 4.5 9h8ZM5 12.25a.25.25 0 0 1 .25-.25h3.5a.25.25 0 0 1 .25.25v3.25a.25.25 0 0 1-.4.2l-1.45-1.087a.249.249 0 0 0-.3 0L5.4 15.7a.25.25 0 0 1-.4-.2Z"></path>
</svg>
        </span>
      
        <span data-view-component="true" class="ActionListItem-label">
              New repository

</span></a>
  
  
</li>
      <li data-analytics-event="{&quot;category&quot;:&quot;SiteHeaderComponent&quot;,&quot;action&quot;:&quot;add_dropdown&quot;,&quot;label&quot;:&quot;import repository&quot;}" data-targets="action-list.items" role="none" data-view-component="true" class="ActionListItem">
    
    <a href="https://github.com/new/import" tabindex="-1" id="item-339dd667-7b00-4c96-825c-e21304285a0b" role="menuitem" data-view-component="true" class="ActionListContent ActionListContent--visual16">
        <span class="ActionListItem-visual ActionListItem-visual--leading">
          <svg aria-hidden="true" height="16" viewBox="0 0 16 16" version="1.1" width="16" data-view-component="true" class="octicon octicon-repo-push">
    <path d="M1 2.5A2.5 2.5 0 0 1 3.5 0h8.75a.75.75 0 0 1 .75.75v3.5a.75.75 0 0 1-1.5 0V1.5h-8a1 1 0 0 0-1 1v6.708A2.493 2.493 0 0 1 3.5 9h3.25a.75.75 0 0 1 0 1.5H3.5a1 1 0 0 0 0 2h5.75a.75.75 0 0 1 0 1.5H3.5A2.5 2.5 0 0 1 1 11.5Zm13.23 7.79h-.001l-1.224-1.224v6.184a.75.75 0 0 1-1.5 0V9.066L10.28 10.29a.75.75 0 0 1-1.06-1.061l2.505-2.504a.75.75 0 0 1 1.06 0L15.29 9.23a.751.751 0 0 1-.018 1.042.751.751 0 0 1-1.042.018Z"></path>
</svg>
        </span>
      
        <span data-view-component="true" class="ActionListItem-label">
                Import repository

</span></a>
  
  
</li>
      <li role="presentation" aria-hidden="true" data-view-component="true" class="ActionList-sectionDivider"></li>
      <li data-analytics-event="{&quot;category&quot;:&quot;SiteHeaderComponent&quot;,&quot;action&quot;:&quot;add_dropdown&quot;,&quot;label&quot;:&quot;new codespace&quot;}" data-targets="action-list.items" role="none" data-view-component="true" class="ActionListItem">
    
    <a href="https://github.com/codespaces/new" tabindex="-1" id="item-d77b76b3-b728-4f46-b3e8-babd5195e0d4" role="menuitem" data-view-component="true" class="ActionListContent ActionListContent--visual16">
        <span class="ActionListItem-visual ActionListItem-visual--leading">
          <svg aria-hidden="true" height="16" viewBox="0 0 16 16" version="1.1" width="16" data-view-component="true" class="octicon octicon-codespaces">
    <path d="M0 11.25c0-.966.784-1.75 1.75-1.75h12.5c.966 0 1.75.784 1.75 1.75v3A1.75 1.75 0 0 1 14.25 16H1.75A1.75 1.75 0 0 1 0 14.25Zm2-9.5C2 .784 2.784 0 3.75 0h8.5C13.216 0 14 .784 14 1.75v5a1.75 1.75 0 0 1-1.75 1.75h-8.5A1.75 1.75 0 0 1 2 6.75Zm1.75-.25a.25.25 0 0 0-.25.25v5c0 .138.112.25.25.25h8.5a.25.25 0 0 0 .25-.25v-5a.25.25 0 0 0-.25-.25Zm-2 9.5a.25.25 0 0 0-.25.25v3c0 .138.112.25.25.25h12.5a.25.25 0 0 0 .25-.25v-3a.25.25 0 0 0-.25-.25Z"></path><path d="M7 12.75a.75.75 0 0 1 .75-.75h4.5a.75.75 0 0 1 0 1.5h-4.5a.75.75 0 0 1-.75-.75Zm-4 0a.75.75 0 0 1 .75-.75h.5a.75.75 0 0 1 0 1.5h-.5a.75.75 0 0 1-.75-.75Z"></path>
</svg>
        </span>
      
        <span data-view-component="true" class="ActionListItem-label">
                New codespace

</span></a>
  
  
</li>
      <li data-analytics-event="{&quot;category&quot;:&quot;SiteHeaderComponent&quot;,&quot;action&quot;:&quot;add_dropdown&quot;,&quot;label&quot;:&quot;new gist&quot;}" data-targets="action-list.items" role="none" data-view-component="true" class="ActionListItem">
    
    <a href="https://gist.github.com/" tabindex="-1" id="item-302eb1a1-2d34-4e6e-9033-907ffb211fe2" role="menuitem" data-view-component="true" class="ActionListContent ActionListContent--visual16">
        <span class="ActionListItem-visual ActionListItem-visual--leading">
          <svg aria-hidden="true" height="16" viewBox="0 0 16 16" version="1.1" width="16" data-view-component="true" class="octicon octicon-code">
    <path d="m11.28 3.22 4.25 4.25a.75.75 0 0 1 0 1.06l-4.25 4.25a.749.749 0 0 1-1.275-.326.749.749 0 0 1 .215-.734L13.94 8l-3.72-3.72a.749.749 0 0 1 .326-1.275.749.749 0 0 1 .734.215Zm-6.56 0a.751.751 0 0 1 1.042.018.751.751 0 0 1 .018 1.042L2.06 8l3.72 3.72a.749.749 0 0 1-.326 1.275.749.749 0 0 1-.734-.215L.47 8.53a.75.75 0 0 1 0-1.06Z"></path>
</svg>
        </span>
      
        <span data-view-component="true" class="ActionListItem-label">
              New gist

</span></a>
  
  
</li>
      <li role="presentation" aria-hidden="true" data-view-component="true" class="ActionList-sectionDivider"></li>
      <li data-analytics-event="{&quot;category&quot;:&quot;SiteHeaderComponent&quot;,&quot;action&quot;:&quot;add_dropdown&quot;,&quot;label&quot;:&quot;new organization&quot;}" data-targets="action-list.items" role="none" data-view-component="true" class="ActionListItem">
    
    <a href="https://github.com/account/organizations/new" tabindex="-1" id="item-63fd6662-6646-429e-a439-abc3f7dcdf2d" role="menuitem" data-view-component="true" class="ActionListContent ActionListContent--visual16">
        <span class="ActionListItem-visual ActionListItem-visual--leading">
          <svg aria-hidden="true" height="16" viewBox="0 0 16 16" version="1.1" width="16" data-view-component="true" class="octicon octicon-organization">
    <path d="M1.75 16A1.75 1.75 0 0 1 0 14.25V1.75C0 .784.784 0 1.75 0h8.5C11.216 0 12 .784 12 1.75v12.5c0 .085-.006.168-.018.25h2.268a.25.25 0 0 0 .25-.25V8.285a.25.25 0 0 0-.111-.208l-1.055-.703a.749.749 0 1 1 .832-1.248l1.055.703c.487.325.779.871.779 1.456v5.965A1.75 1.75 0 0 1 14.25 16h-3.5a.766.766 0 0 1-.197-.026c-.099.017-.2.026-.303.026h-3a.75.75 0 0 1-.75-.75V14h-1v1.25a.75.75 0 0 1-.75.75Zm-.25-1.75c0 .138.112.25.25.25H4v-1.25a.75.75 0 0 1 .75-.75h2.5a.75.75 0 0 1 .75.75v1.25h2.25a.25.25 0 0 0 .25-.25V1.75a.25.25 0 0 0-.25-.25h-8.5a.25.25 0 0 0-.25.25ZM3.75 6h.5a.75.75 0 0 1 0 1.5h-.5a.75.75 0 0 1 0-1.5ZM3 3.75A.75.75 0 0 1 3.75 3h.5a.75.75 0 0 1 0 1.5h-.5A.75.75 0 0 1 3 3.75Zm4 3A.75.75 0 0 1 7.75 6h.5a.75.75 0 0 1 0 1.5h-.5A.75.75 0 0 1 7 6.75ZM7.75 3h.5a.75.75 0 0 1 0 1.5h-.5a.75.75 0 0 1 0-1.5ZM3 9.75A.75.75 0 0 1 3.75 9h.5a.75.75 0 0 1 0 1.5h-.5A.75.75 0 0 1 3 9.75ZM7.75 9h.5a.75.75 0 0 1 0 1.5h-.5a.75.75 0 0 1 0-1.5Z"></path>
</svg>
        </span>
      
        <span data-view-component="true" class="ActionListItem-label">
                New organization

</span></a>
  
  
</li>
</ul>  
</div>

</div></anchored-position>  </focus-group>
</action-menu>

            <div data-view-component="true" class="Button-withTooltip">
  <a href="https://github.com/issues" data-analytics-event="{&quot;category&quot;:&quot;Global navigation&quot;,&quot;action&quot;:&quot;ISSUES_HEADER&quot;,&quot;label&quot;:null}" id="icon-button-015b2fab-040d-4a2b-a3f7-1f8299b69029" data-view-component="true" class="Button Button--iconOnly Button--secondary Button--medium AppHeader-button color-fg-muted" aria-labelledby="tooltip-9e9868a3-5529-43cc-a670-e5ca7adf0a4c">    <svg aria-hidden="true" height="16" viewBox="0 0 16 16" version="1.1" width="16" data-view-component="true" class="octicon octicon-issue-opened Button-visual">
    <path d="M8 9.5a1.5 1.5 0 1 0 0-3 1.5 1.5 0 0 0 0 3Z"></path><path d="M8 0a8 8 0 1 1 0 16A8 8 0 0 1 8 0ZM1.5 8a6.5 6.5 0 1 0 13 0 6.5 6.5 0 0 0-13 0Z"></path>
</svg>
</a>  <tool-tip id="tooltip-9e9868a3-5529-43cc-a670-e5ca7adf0a4c" for="icon-button-015b2fab-040d-4a2b-a3f7-1f8299b69029" popover="manual" data-direction="s" data-type="label" data-view-component="true" class="sr-only position-absolute" aria-hidden="true" role="tooltip"><template shadowrootmode="open"><style>
      :host {
        padding: .5em .75em !important;
        font: normal normal 11px/1.5 -apple-system, BlinkMacSystemFont, "Segoe UI", Helvetica, Arial, sans-serif, "Apple Color Emoji", "Segoe UI Emoji";
        -webkit-font-smoothing: subpixel-antialiased;
        color: var(--color-fg-on-emphasis) !important;
        text-align: center;
        text-decoration: none;
        text-shadow: none;
        text-transform: none;
        letter-spacing: normal;
        word-wrap: break-word;
        white-space: pre;
        background: var(--color-neutral-emphasis-plus) !important;
        border-radius: 6px;
        border: 0 !important;
        opacity: 0;
        max-width: 250px;
        word-wrap: break-word;
        white-space: normal;
        width: max-content !important;
        inset: var(--tool-tip-position-top, 0) auto auto var(--tool-tip-position-left, 0) !important;
        overflow: visible !important;
      }

      :host:before{
        position: absolute;
        z-index: 1000001;
        color: var(--color-neutral-emphasis-plus);
        content: "";
        border: 6px solid transparent;
        opacity: 0
      }

      @keyframes tooltip-appear {
        from {
          opacity: 0;
        }
        to {
          opacity: 1
        }
      }

      :host:after{
        position: absolute;
        display: block;
        right: 0;
        left: 0;
        height: 12px;
        content: ""
      }

      :host(:popover-open),
      :host(:popover-open):before {
        animation-name: tooltip-appear;
        animation-duration: .1s;
        animation-fill-mode: forwards;
        animation-timing-function: ease-in;
        animation-delay: .4s
      }

      :host(.\:popover-open),
      :host(.\:popover-open):before {
        animation-name: tooltip-appear;
        animation-duration: .1s;
        animation-fill-mode: forwards;
        animation-timing-function: ease-in;
        animation-delay: .4s
      }

      :host(.tooltip-s):before,
      :host(.tooltip-n):before {
        right: 50%;
        margin-right: -6px;
      }

      :host(.tooltip-s):before,
      :host(.tooltip-se):before,
      :host(.tooltip-sw):before {
        bottom: 100%;
        border-bottom-color: var(--color-neutral-emphasis-plus)
      }

      :host(.tooltip-s):after,
      :host(.tooltip-se):after,
      :host(.tooltip-sw):after {
        bottom: 100%
      }

      :host(.tooltip-n):before,
      :host(.tooltip-ne):before,
      :host(.tooltip-nw):before {
        top: 100%;
        border-top-color: var(--color-neutral-emphasis-plus)
      }

      :host(.tooltip-n):after,
      :host(.tooltip-ne):after,
      :host(.tooltip-nw):after {
        top: 100%
      }

      :host(.tooltip-se):before,
      :host(.tooltip-ne):before {
        left: 0;
        margin-left: 6px;
      }

      :host(.tooltip-sw):before,
      :host(.tooltip-nw):before {
        right: 0;
        margin-right: 6px;
      }

      :host(.tooltip-w):before {
        top: 50%;
        bottom: 50%;
        left: 100%;
        margin-top: -6px;
        border-left-color: var(--color-neutral-emphasis-plus)
      }

      :host(.tooltip-e):before {
        top: 50%;
        right: 100%;
        bottom: 50%;
        margin-top: -6px;
        border-right-color: var(--color-neutral-emphasis-plus)
      }
    </style><slot></slot></template>Issues</tool-tip>
</div>
            <div data-view-component="true" class="Button-withTooltip">
  <a href="https://github.com/pulls" data-analytics-event="{&quot;category&quot;:&quot;Global navigation&quot;,&quot;action&quot;:&quot;PULL_REQUESTS_HEADER&quot;,&quot;label&quot;:null}" id="icon-button-49d52071-f762-4b7f-b0ac-f2fe862d1a9c" data-view-component="true" class="Button Button--iconOnly Button--secondary Button--medium AppHeader-button color-fg-muted" aria-labelledby="tooltip-67168dd7-41bb-4215-bee3-4c3f4bb92e55">    <svg aria-hidden="true" height="16" viewBox="0 0 16 16" version="1.1" width="16" data-view-component="true" class="octicon octicon-git-pull-request Button-visual">
    <path d="M1.5 3.25a2.25 2.25 0 1 1 3 2.122v5.256a2.251 2.251 0 1 1-1.5 0V5.372A2.25 2.25 0 0 1 1.5 3.25Zm5.677-.177L9.573.677A.25.25 0 0 1 10 .854V2.5h1A2.5 2.5 0 0 1 13.5 5v5.628a2.251 2.251 0 1 1-1.5 0V5a1 1 0 0 0-1-1h-1v1.646a.25.25 0 0 1-.427.177L7.177 3.427a.25.25 0 0 1 0-.354ZM3.75 2.5a.75.75 0 1 0 0 1.5.75.75 0 0 0 0-1.5Zm0 9.5a.75.75 0 1 0 0 1.5.75.75 0 0 0 0-1.5Zm8.25.75a.75.75 0 1 0 1.5 0 .75.75 0 0 0-1.5 0Z"></path>
</svg>
</a>  <tool-tip id="tooltip-67168dd7-41bb-4215-bee3-4c3f4bb92e55" for="icon-button-49d52071-f762-4b7f-b0ac-f2fe862d1a9c" popover="manual" data-direction="s" data-type="label" data-view-component="true" class="sr-only position-absolute" aria-hidden="true" role="tooltip"><template shadowrootmode="open"><style>
      :host {
        padding: .5em .75em !important;
        font: normal normal 11px/1.5 -apple-system, BlinkMacSystemFont, "Segoe UI", Helvetica, Arial, sans-serif, "Apple Color Emoji", "Segoe UI Emoji";
        -webkit-font-smoothing: subpixel-antialiased;
        color: var(--color-fg-on-emphasis) !important;
        text-align: center;
        text-decoration: none;
        text-shadow: none;
        text-transform: none;
        letter-spacing: normal;
        word-wrap: break-word;
        white-space: pre;
        background: var(--color-neutral-emphasis-plus) !important;
        border-radius: 6px;
        border: 0 !important;
        opacity: 0;
        max-width: 250px;
        word-wrap: break-word;
        white-space: normal;
        width: max-content !important;
        inset: var(--tool-tip-position-top, 0) auto auto var(--tool-tip-position-left, 0) !important;
        overflow: visible !important;
      }

      :host:before{
        position: absolute;
        z-index: 1000001;
        color: var(--color-neutral-emphasis-plus);
        content: "";
        border: 6px solid transparent;
        opacity: 0
      }

      @keyframes tooltip-appear {
        from {
          opacity: 0;
        }
        to {
          opacity: 1
        }
      }

      :host:after{
        position: absolute;
        display: block;
        right: 0;
        left: 0;
        height: 12px;
        content: ""
      }

      :host(:popover-open),
      :host(:popover-open):before {
        animation-name: tooltip-appear;
        animation-duration: .1s;
        animation-fill-mode: forwards;
        animation-timing-function: ease-in;
        animation-delay: .4s
      }

      :host(.\:popover-open),
      :host(.\:popover-open):before {
        animation-name: tooltip-appear;
        animation-duration: .1s;
        animation-fill-mode: forwards;
        animation-timing-function: ease-in;
        animation-delay: .4s
      }

      :host(.tooltip-s):before,
      :host(.tooltip-n):before {
        right: 50%;
        margin-right: -6px;
      }

      :host(.tooltip-s):before,
      :host(.tooltip-se):before,
      :host(.tooltip-sw):before {
        bottom: 100%;
        border-bottom-color: var(--color-neutral-emphasis-plus)
      }

      :host(.tooltip-s):after,
      :host(.tooltip-se):after,
      :host(.tooltip-sw):after {
        bottom: 100%
      }

      :host(.tooltip-n):before,
      :host(.tooltip-ne):before,
      :host(.tooltip-nw):before {
        top: 100%;
        border-top-color: var(--color-neutral-emphasis-plus)
      }

      :host(.tooltip-n):after,
      :host(.tooltip-ne):after,
      :host(.tooltip-nw):after {
        top: 100%
      }

      :host(.tooltip-se):before,
      :host(.tooltip-ne):before {
        left: 0;
        margin-left: 6px;
      }

      :host(.tooltip-sw):before,
      :host(.tooltip-nw):before {
        right: 0;
        margin-right: 6px;
      }

      :host(.tooltip-w):before {
        top: 50%;
        bottom: 50%;
        left: 100%;
        margin-top: -6px;
        border-left-color: var(--color-neutral-emphasis-plus)
      }

      :host(.tooltip-e):before {
        top: 50%;
        right: 100%;
        bottom: 50%;
        margin-top: -6px;
        border-right-color: var(--color-neutral-emphasis-plus)
      }
    </style><slot></slot></template>Pull requests</tool-tip>
</div>
        </div>

        

<notification-indicator data-channel="eyJjIjoibm90aWZpY2F0aW9uLWNoYW5nZWQ6MTQxNjIyMzUxIiwidCI6MTY5NDQwNTY1Mn0=--23dbdbb7bfad99af4b4e6a479ad0e113ffc39586309cf5fc86afdccfac9bd787" data-indicator-mode="none" data-tooltip-global="You have unread notifications" data-tooltip-unavailable="Notifications are unavailable at the moment." data-tooltip-none="You have no unread notifications" data-header-redesign-enabled="true" data-fetch-indicator-src="/notifications/indicator" data-fetch-indicator-enabled="true" data-view-component="true" class="js-socket-channel" data-fetch-retry-delay-time="500" data-catalyst="">
  <a id="AppHeader-notifications-button" href="https://github.com/notifications" class="AppHeader-button Button--secondary" style="width:32px;height:32px;" data-hotkey="g n" data-target="notification-indicator.link" aria-label="Notifications" data-analytics-event="{&quot;category&quot;:&quot;SiteHeaderComponent&quot;,&quot;action&quot;:&quot;notifications&quot;,&quot;label&quot;:&quot;icon:read&quot;}" aria-describedby="tooltip-392f893c-e9e2-4405-b47f-8d775100dc58">

    <span data-target="notification-indicator.badge" class="mail-status unread d-none" hidden="">
    </span>

      <svg aria-hidden="true" height="16" viewBox="0 0 16 16" version="1.1" width="16" data-view-component="true" class="octicon octicon-inbox color-fg-muted mr-0">
    <path d="M2.8 2.06A1.75 1.75 0 0 1 4.41 1h7.18c.7 0 1.333.417 1.61 1.06l2.74 6.395c.04.093.06.194.06.295v4.5A1.75 1.75 0 0 1 14.25 15H1.75A1.75 1.75 0 0 1 0 13.25v-4.5c0-.101.02-.202.06-.295Zm1.61.44a.25.25 0 0 0-.23.152L1.887 8H4.75a.75.75 0 0 1 .6.3L6.625 10h2.75l1.275-1.7a.75.75 0 0 1 .6-.3h2.863L11.82 2.652a.25.25 0 0 0-.23-.152Zm10.09 7h-2.875l-1.275 1.7a.75.75 0 0 1-.6.3h-3.5a.75.75 0 0 1-.6-.3L4.375 9.5H1.5v3.75c0 .138.112.25.25.25h12.5a.25.25 0 0 0 .25-.25Z"></path>
</svg>
  </a>

    <tool-tip data-target="notification-indicator.tooltip" id="tooltip-392f893c-e9e2-4405-b47f-8d775100dc58" for="AppHeader-notifications-button" popover="manual" data-direction="s" data-type="description" data-view-component="true" class="sr-only position-absolute" role="tooltip"><template shadowrootmode="open"><style>
      :host {
        padding: .5em .75em !important;
        font: normal normal 11px/1.5 -apple-system, BlinkMacSystemFont, "Segoe UI", Helvetica, Arial, sans-serif, "Apple Color Emoji", "Segoe UI Emoji";
        -webkit-font-smoothing: subpixel-antialiased;
        color: var(--color-fg-on-emphasis) !important;
        text-align: center;
        text-decoration: none;
        text-shadow: none;
        text-transform: none;
        letter-spacing: normal;
        word-wrap: break-word;
        white-space: pre;
        background: var(--color-neutral-emphasis-plus) !important;
        border-radius: 6px;
        border: 0 !important;
        opacity: 0;
        max-width: 250px;
        word-wrap: break-word;
        white-space: normal;
        width: max-content !important;
        inset: var(--tool-tip-position-top, 0) auto auto var(--tool-tip-position-left, 0) !important;
        overflow: visible !important;
      }

      :host:before{
        position: absolute;
        z-index: 1000001;
        color: var(--color-neutral-emphasis-plus);
        content: "";
        border: 6px solid transparent;
        opacity: 0
      }

      @keyframes tooltip-appear {
        from {
          opacity: 0;
        }
        to {
          opacity: 1
        }
      }

      :host:after{
        position: absolute;
        display: block;
        right: 0;
        left: 0;
        height: 12px;
        content: ""
      }

      :host(:popover-open),
      :host(:popover-open):before {
        animation-name: tooltip-appear;
        animation-duration: .1s;
        animation-fill-mode: forwards;
        animation-timing-function: ease-in;
        animation-delay: .4s
      }

      :host(.\:popover-open),
      :host(.\:popover-open):before {
        animation-name: tooltip-appear;
        animation-duration: .1s;
        animation-fill-mode: forwards;
        animation-timing-function: ease-in;
        animation-delay: .4s
      }

      :host(.tooltip-s):before,
      :host(.tooltip-n):before {
        right: 50%;
        margin-right: -6px;
      }

      :host(.tooltip-s):before,
      :host(.tooltip-se):before,
      :host(.tooltip-sw):before {
        bottom: 100%;
        border-bottom-color: var(--color-neutral-emphasis-plus)
      }

      :host(.tooltip-s):after,
      :host(.tooltip-se):after,
      :host(.tooltip-sw):after {
        bottom: 100%
      }

      :host(.tooltip-n):before,
      :host(.tooltip-ne):before,
      :host(.tooltip-nw):before {
        top: 100%;
        border-top-color: var(--color-neutral-emphasis-plus)
      }

      :host(.tooltip-n):after,
      :host(.tooltip-ne):after,
      :host(.tooltip-nw):after {
        top: 100%
      }

      :host(.tooltip-se):before,
      :host(.tooltip-ne):before {
        left: 0;
        margin-left: 6px;
      }

      :host(.tooltip-sw):before,
      :host(.tooltip-nw):before {
        right: 0;
        margin-right: 6px;
      }

      :host(.tooltip-w):before {
        top: 50%;
        bottom: 50%;
        left: 100%;
        margin-top: -6px;
        border-left-color: var(--color-neutral-emphasis-plus)
      }

      :host(.tooltip-e):before {
        top: 50%;
        right: 100%;
        bottom: 50%;
        margin-top: -6px;
        border-right-color: var(--color-neutral-emphasis-plus)
      }
    </style><slot></slot></template>You have no unread notifications</tool-tip>
</notification-indicator>

        

        <div class="AppHeader-user">
          <deferred-side-panel data-url="/_side-panels/user?memex_enabled=true&amp;repository=Bharat-Intern---ML&amp;user=Pradeepsahu0&amp;user_can_create_organizations=true&amp;user_id=141622351" data-catalyst="">
  <include-fragment data-target="deferred-side-panel.fragment"><template shadowrootmode="open"><style>:host {display: block;}</style><slot></slot></template>
      <user-drawer-side-panel data-catalyst="">
      <button aria-label="Open user account menu" data-action="click:deferred-side-panel#loadPanel click:deferred-side-panel#panelOpened" data-show-dialog-id="dialog-0fa40c3e-f3e5-490a-980f-4c473d6db4a6" id="dialog-show-dialog-0fa40c3e-f3e5-490a-980f-4c473d6db4a6" type="button" data-view-component="true" class="AppHeader-logo Button--invisible Button--medium Button Button--invisible-noVisuals color-bg-transparent p-0">    <span class="Button-content">
      <span class="Button-label"><img src="./House_Price _Prediction_files/141622351" alt="" size="32" height="32" width="32" data-view-component="true" class="avatar circle"></span>
    </span>
</button>  

<div class="Overlay--hidden Overlay-backdrop--side Overlay-backdrop--placement-right" data-modal-dialog-overlay="">
  <modal-dialog data-target="deferred-side-panel.panel" role="dialog" id="dialog-0fa40c3e-f3e5-490a-980f-4c473d6db4a6" aria-modal="true" aria-disabled="true" aria-labelledby="dialog-0fa40c3e-f3e5-490a-980f-4c473d6db4a6-title" aria-describedby="dialog-0fa40c3e-f3e5-490a-980f-4c473d6db4a6-description" data-view-component="true" class="Overlay Overlay-whenNarrow Overlay--size-small-portrait Overlay--motion-scaleFade SidePanel" style="max-height: 611px;">
    <div styles="flex-direction: row;" data-view-component="true" class="Overlay-header">
  <div class="Overlay-headerContentWrap">
    <div class="Overlay-titleWrap">
      <h1 class="Overlay-title sr-only" id="dialog-0fa40c3e-f3e5-490a-980f-4c473d6db4a6-title">
        Account menu
      </h1>
            <div data-view-component="true" class="d-flex">
      <div data-view-component="true" class="AppHeader-logo position-relative">
        <img src="./House_Price _Prediction_files/141622351" alt="" size="32" height="32" width="32" data-view-component="true" class="avatar circle">
</div>        <div data-view-component="true" class="overflow-hidden d-flex width-full">        <div data-view-component="true" class="lh-condensed overflow-hidden d-flex flex-column flex-justify-center ml-2 f5 mr-auto width-full">
          <span data-view-component="true" class="Truncate text-bold">
    <span data-view-component="true" class="Truncate-text">
            Pradeepsahu0
</span>
</span>          <span data-view-component="true" class="Truncate color-fg-subtle">
    <span data-view-component="true" class="Truncate-text">
            Pradeep Sahu
</span>
</span></div>
</div>
</div>
    </div>
    <div class="Overlay-actionWrap">
      <button data-close-dialog-id="dialog-0fa40c3e-f3e5-490a-980f-4c473d6db4a6" aria-label="Close" type="button" data-view-component="true" class="close-button Overlay-closeButton"><svg aria-hidden="true" height="16" viewBox="0 0 16 16" version="1.1" width="16" data-view-component="true" class="octicon octicon-x">
    <path d="M3.72 3.72a.75.75 0 0 1 1.06 0L8 6.94l3.22-3.22a.749.749 0 0 1 1.275.326.749.749 0 0 1-.215.734L9.06 8l3.22 3.22a.749.749 0 0 1-.326 1.275.749.749 0 0 1-.734-.215L8 9.06l-3.22 3.22a.751.751 0 0 1-1.042-.018.751.751 0 0 1-.018-1.042L6.94 8 3.72 4.78a.75.75 0 0 1 0-1.06Z"></path>
</svg></button>
    </div>
  </div>
</div>
      <div data-view-component="true" class="Overlay-body d-flex flex-column height-full px-2">      <nav aria-label="User navigation" data-view-component="true" class="ActionList">
  
  <nav-list data-catalyst="">
    <ul data-view-component="true" class="ActionListWrap">
        
          
<li data-item-id="" data-targets="nav-list.items" data-view-component="true" class="ActionListItem">
    
    <button id="item-b37da6e8-3d66-4d0f-a3d8-cd34549b45b5" type="button" data-view-component="true" class="ActionListContent ActionListContent--visual16">
        <span class="ActionListItem-visual ActionListItem-visual--leading">
          <span data-view-component="true" class="d-flex flex-items-center">    <svg style="box-sizing: content-box; color: var(--color-icon-primary);" width="16" height="16" viewBox="0 0 16 16" fill="none" data-view-component="true" class="anim-rotate">
  <circle cx="8" cy="8" r="7" stroke="currentColor" stroke-opacity="0.25" stroke-width="2" vector-effect="non-scaling-stroke"></circle>
  <path d="M15 8a7.002 7.002 0 00-7-7" stroke="currentColor" stroke-width="2" stroke-linecap="round" vector-effect="non-scaling-stroke"></path>
</svg>
</span>
        </span>
      
        <span data-view-component="true" class="ActionListItem-label">
          

  <span class="color-fg-muted">
    Loading...
  </span>

</span></button>
  
  
</li>

        
          <li role="presentation" aria-hidden="true" data-view-component="true" class="ActionList-sectionDivider"></li>
        
          
<li data-item-id="" data-targets="nav-list.items" data-view-component="true" class="ActionListItem">
    
    <a data-analytics-event="{&quot;category&quot;:&quot;Global navigation&quot;,&quot;action&quot;:&quot;PROFILE&quot;,&quot;label&quot;:null}" id="item-7cbae3b3-c8c8-4912-aa2d-8e55c22c6262" href="https://github.com/Pradeepsahu0" data-view-component="true" class="ActionListContent ActionListContent--visual16">
        <span class="ActionListItem-visual ActionListItem-visual--leading">
          <svg aria-hidden="true" height="16" viewBox="0 0 16 16" version="1.1" width="16" data-view-component="true" class="octicon octicon-person">
    <path d="M10.561 8.073a6.005 6.005 0 0 1 3.432 5.142.75.75 0 1 1-1.498.07 4.5 4.5 0 0 0-8.99 0 .75.75 0 0 1-1.498-.07 6.004 6.004 0 0 1 3.431-5.142 3.999 3.999 0 1 1 5.123 0ZM10.5 5a2.5 2.5 0 1 0-5 0 2.5 2.5 0 0 0 5 0Z"></path>
</svg>
        </span>
      
        <span data-view-component="true" class="ActionListItem-label">
          Your profile
</span></a>
  
  
</li>

        
          <li role="presentation" aria-hidden="true" data-view-component="true" class="ActionList-sectionDivider"></li>
        
          
<li data-item-id="" data-targets="nav-list.items" data-view-component="true" class="ActionListItem">
    
    <a data-analytics-event="{&quot;category&quot;:&quot;Global navigation&quot;,&quot;action&quot;:&quot;YOUR_REPOSITORIES&quot;,&quot;label&quot;:null}" id="item-68a85772-cea7-4c4d-bb2a-aab11723a0d8" href="https://github.com/Pradeepsahu0?tab=repositories" data-view-component="true" class="ActionListContent ActionListContent--visual16">
        <span class="ActionListItem-visual ActionListItem-visual--leading">
          <svg aria-hidden="true" height="16" viewBox="0 0 16 16" version="1.1" width="16" data-view-component="true" class="octicon octicon-repo">
    <path d="M2 2.5A2.5 2.5 0 0 1 4.5 0h8.75a.75.75 0 0 1 .75.75v12.5a.75.75 0 0 1-.75.75h-2.5a.75.75 0 0 1 0-1.5h1.75v-2h-8a1 1 0 0 0-.714 1.7.75.75 0 1 1-1.072 1.05A2.495 2.495 0 0 1 2 11.5Zm10.5-1h-8a1 1 0 0 0-1 1v6.708A2.486 2.486 0 0 1 4.5 9h8ZM5 12.25a.25.25 0 0 1 .25-.25h3.5a.25.25 0 0 1 .25.25v3.25a.25.25 0 0 1-.4.2l-1.45-1.087a.249.249 0 0 0-.3 0L5.4 15.7a.25.25 0 0 1-.4-.2Z"></path>
</svg>
        </span>
      
        <span data-view-component="true" class="ActionListItem-label">
          Your repositories
</span></a>
  
  
</li>

        
          
<li data-item-id="" data-targets="nav-list.items" data-view-component="true" class="ActionListItem">
    
    <a data-analytics-event="{&quot;category&quot;:&quot;Global navigation&quot;,&quot;action&quot;:&quot;YOUR_PROJECTS&quot;,&quot;label&quot;:null}" id="item-0f4c8d96-0d3f-4aa7-8c23-922daef2e827" href="https://github.com/Pradeepsahu0?tab=projects" data-view-component="true" class="ActionListContent ActionListContent--visual16">
        <span class="ActionListItem-visual ActionListItem-visual--leading">
          <svg aria-hidden="true" height="16" viewBox="0 0 16 16" version="1.1" width="16" data-view-component="true" class="octicon octicon-project">
    <path d="M1.75 0h12.5C15.216 0 16 .784 16 1.75v12.5A1.75 1.75 0 0 1 14.25 16H1.75A1.75 1.75 0 0 1 0 14.25V1.75C0 .784.784 0 1.75 0ZM1.5 1.75v12.5c0 .138.112.25.25.25h12.5a.25.25 0 0 0 .25-.25V1.75a.25.25 0 0 0-.25-.25H1.75a.25.25 0 0 0-.25.25ZM11.75 3a.75.75 0 0 1 .75.75v7.5a.75.75 0 0 1-1.5 0v-7.5a.75.75 0 0 1 .75-.75Zm-8.25.75a.75.75 0 0 1 1.5 0v5.5a.75.75 0 0 1-1.5 0ZM8 3a.75.75 0 0 1 .75.75v3.5a.75.75 0 0 1-1.5 0v-3.5A.75.75 0 0 1 8 3Z"></path>
</svg>
        </span>
      
        <span data-view-component="true" class="ActionListItem-label">
          Your projects
</span></a>
  
  
</li>

        
          
<li data-item-id="" data-targets="nav-list.items" data-view-component="true" class="ActionListItem">
    
    <a data-analytics-event="{&quot;category&quot;:&quot;Global navigation&quot;,&quot;action&quot;:&quot;YOUR_CODESPACES&quot;,&quot;label&quot;:null}" id="item-97ec2f7e-1882-4f2f-ba93-ad885ad5e17e" href="https://github.com/codespaces" data-view-component="true" class="ActionListContent ActionListContent--visual16">
        <span class="ActionListItem-visual ActionListItem-visual--leading">
          <svg aria-hidden="true" height="16" viewBox="0 0 16 16" version="1.1" width="16" data-view-component="true" class="octicon octicon-codespaces">
    <path d="M0 11.25c0-.966.784-1.75 1.75-1.75h12.5c.966 0 1.75.784 1.75 1.75v3A1.75 1.75 0 0 1 14.25 16H1.75A1.75 1.75 0 0 1 0 14.25Zm2-9.5C2 .784 2.784 0 3.75 0h8.5C13.216 0 14 .784 14 1.75v5a1.75 1.75 0 0 1-1.75 1.75h-8.5A1.75 1.75 0 0 1 2 6.75Zm1.75-.25a.25.25 0 0 0-.25.25v5c0 .138.112.25.25.25h8.5a.25.25 0 0 0 .25-.25v-5a.25.25 0 0 0-.25-.25Zm-2 9.5a.25.25 0 0 0-.25.25v3c0 .138.112.25.25.25h12.5a.25.25 0 0 0 .25-.25v-3a.25.25 0 0 0-.25-.25Z"></path><path d="M7 12.75a.75.75 0 0 1 .75-.75h4.5a.75.75 0 0 1 0 1.5h-4.5a.75.75 0 0 1-.75-.75Zm-4 0a.75.75 0 0 1 .75-.75h.5a.75.75 0 0 1 0 1.5h-.5a.75.75 0 0 1-.75-.75Z"></path>
</svg>
        </span>
      
        <span data-view-component="true" class="ActionListItem-label">
          Your codespaces
</span></a>
  
  
</li>

        
          
<li data-item-id="" data-targets="nav-list.items" data-view-component="true" class="ActionListItem">
    
    <button id="item-f5594127-892e-4e28-902f-511a5c629a66" type="button" data-view-component="true" class="ActionListContent ActionListContent--visual16">
        <span class="ActionListItem-visual ActionListItem-visual--leading">
          <span data-view-component="true" class="d-flex flex-items-center">    <svg style="box-sizing: content-box; color: var(--color-icon-primary);" width="16" height="16" viewBox="0 0 16 16" fill="none" data-view-component="true" class="anim-rotate">
  <circle cx="8" cy="8" r="7" stroke="currentColor" stroke-opacity="0.25" stroke-width="2" vector-effect="non-scaling-stroke"></circle>
  <path d="M15 8a7.002 7.002 0 00-7-7" stroke="currentColor" stroke-width="2" stroke-linecap="round" vector-effect="non-scaling-stroke"></path>
</svg>
</span>
        </span>
      
        <span data-view-component="true" class="ActionListItem-label">
          

  <span class="color-fg-muted">
    Loading...
  </span>

</span></button>
  
  
</li>

        
          
<li data-item-id="" data-targets="nav-list.items" data-view-component="true" class="ActionListItem">
    
    <a data-analytics-event="{&quot;category&quot;:&quot;Global navigation&quot;,&quot;action&quot;:&quot;YOUR_STARS&quot;,&quot;label&quot;:null}" id="item-86ca7773-c82d-4e4d-838a-be7df24dc02b" href="https://github.com/Pradeepsahu0?tab=stars" data-view-component="true" class="ActionListContent ActionListContent--visual16">
        <span class="ActionListItem-visual ActionListItem-visual--leading">
          <svg aria-hidden="true" height="16" viewBox="0 0 16 16" version="1.1" width="16" data-view-component="true" class="octicon octicon-star">
    <path d="M8 .25a.75.75 0 0 1 .673.418l1.882 3.815 4.21.612a.75.75 0 0 1 .416 1.279l-3.046 2.97.719 4.192a.751.751 0 0 1-1.088.791L8 12.347l-3.766 1.98a.75.75 0 0 1-1.088-.79l.72-4.194L.818 6.374a.75.75 0 0 1 .416-1.28l4.21-.611L7.327.668A.75.75 0 0 1 8 .25Zm0 2.445L6.615 5.5a.75.75 0 0 1-.564.41l-3.097.45 2.24 2.184a.75.75 0 0 1 .216.664l-.528 3.084 2.769-1.456a.75.75 0 0 1 .698 0l2.77 1.456-.53-3.084a.75.75 0 0 1 .216-.664l2.24-2.183-3.096-.45a.75.75 0 0 1-.564-.41L8 2.694Z"></path>
</svg>
        </span>
      
        <span data-view-component="true" class="ActionListItem-label">
          Your stars
</span></a>
  
  
</li>

        
          
<li data-item-id="" data-targets="nav-list.items" data-view-component="true" class="ActionListItem">
    
    <a data-analytics-event="{&quot;category&quot;:&quot;Global navigation&quot;,&quot;action&quot;:&quot;SPONSORS&quot;,&quot;label&quot;:null}" id="item-68ca479a-373d-45e0-b733-8adce4e6e1cc" href="https://github.com/sponsors/accounts" data-view-component="true" class="ActionListContent ActionListContent--visual16">
        <span class="ActionListItem-visual ActionListItem-visual--leading">
          <svg aria-hidden="true" height="16" viewBox="0 0 16 16" version="1.1" width="16" data-view-component="true" class="octicon octicon-heart">
    <path d="m8 14.25.345.666a.75.75 0 0 1-.69 0l-.008-.004-.018-.01a7.152 7.152 0 0 1-.31-.17 22.055 22.055 0 0 1-3.434-2.414C2.045 10.731 0 8.35 0 5.5 0 2.836 2.086 1 4.25 1 5.797 1 7.153 1.802 8 3.02 8.847 1.802 10.203 1 11.75 1 13.914 1 16 2.836 16 5.5c0 2.85-2.045 5.231-3.885 6.818a22.066 22.066 0 0 1-3.744 2.584l-.018.01-.006.003h-.002ZM4.25 2.5c-1.336 0-2.75 1.164-2.75 3 0 2.15 1.58 4.144 3.365 5.682A20.58 20.58 0 0 0 8 13.393a20.58 20.58 0 0 0 3.135-2.211C12.92 9.644 14.5 7.65 14.5 5.5c0-1.836-1.414-3-2.75-3-1.373 0-2.609.986-3.029 2.456a.749.749 0 0 1-1.442 0C6.859 3.486 5.623 2.5 4.25 2.5Z"></path>
</svg>
        </span>
      
        <span data-view-component="true" class="ActionListItem-label">
          Your sponsors
</span></a>
  
  
</li>

        
          
<li data-item-id="" data-targets="nav-list.items" data-view-component="true" class="ActionListItem">
    
    <a data-analytics-event="{&quot;category&quot;:&quot;Global navigation&quot;,&quot;action&quot;:&quot;YOUR_GISTS&quot;,&quot;label&quot;:null}" id="item-581a65f6-e287-4f35-88ae-158a7dce8661" href="https://gist.github.com/mine" data-view-component="true" class="ActionListContent ActionListContent--visual16">
        <span class="ActionListItem-visual ActionListItem-visual--leading">
          <svg aria-hidden="true" height="16" viewBox="0 0 16 16" version="1.1" width="16" data-view-component="true" class="octicon octicon-code-square">
    <path d="M0 1.75C0 .784.784 0 1.75 0h12.5C15.216 0 16 .784 16 1.75v12.5A1.75 1.75 0 0 1 14.25 16H1.75A1.75 1.75 0 0 1 0 14.25Zm1.75-.25a.25.25 0 0 0-.25.25v12.5c0 .138.112.25.25.25h12.5a.25.25 0 0 0 .25-.25V1.75a.25.25 0 0 0-.25-.25Zm7.47 3.97a.75.75 0 0 1 1.06 0l2 2a.75.75 0 0 1 0 1.06l-2 2a.749.749 0 0 1-1.275-.326.749.749 0 0 1 .215-.734L10.69 8 9.22 6.53a.75.75 0 0 1 0-1.06ZM6.78 6.53 5.31 8l1.47 1.47a.749.749 0 0 1-.326 1.275.749.749 0 0 1-.734-.215l-2-2a.75.75 0 0 1 0-1.06l2-2a.751.751 0 0 1 1.042.018.751.751 0 0 1 .018 1.042Z"></path>
</svg>
        </span>
      
        <span data-view-component="true" class="ActionListItem-label">
          Your gists
</span></a>
  
  
</li>

        
          <li role="presentation" aria-hidden="true" data-view-component="true" class="ActionList-sectionDivider"></li>
        
          
<li data-item-id="" data-targets="nav-list.items" data-view-component="true" class="ActionListItem">
    
    <button id="item-ca88584e-4eb1-4e24-8270-61b72c936e36" type="button" data-view-component="true" class="ActionListContent ActionListContent--visual16">
        <span class="ActionListItem-visual ActionListItem-visual--leading">
          <span data-view-component="true" class="d-flex flex-items-center">    <svg style="box-sizing: content-box; color: var(--color-icon-primary);" width="16" height="16" viewBox="0 0 16 16" fill="none" data-view-component="true" class="anim-rotate">
  <circle cx="8" cy="8" r="7" stroke="currentColor" stroke-opacity="0.25" stroke-width="2" vector-effect="non-scaling-stroke"></circle>
  <path d="M15 8a7.002 7.002 0 00-7-7" stroke="currentColor" stroke-width="2" stroke-linecap="round" vector-effect="non-scaling-stroke"></path>
</svg>
</span>
        </span>
      
        <span data-view-component="true" class="ActionListItem-label">
          

  <span class="color-fg-muted">
    Loading...
  </span>

</span></button>
  
  
</li>

        
          
<li data-item-id="" data-targets="nav-list.items" data-view-component="true" class="ActionListItem">
    
    <button id="item-18d76ca2-bb2a-42da-847d-f870a12f3e31" type="button" data-view-component="true" class="ActionListContent ActionListContent--visual16">
        <span class="ActionListItem-visual ActionListItem-visual--leading">
          <span data-view-component="true" class="d-flex flex-items-center">    <svg style="box-sizing: content-box; color: var(--color-icon-primary);" width="16" height="16" viewBox="0 0 16 16" fill="none" data-view-component="true" class="anim-rotate">
  <circle cx="8" cy="8" r="7" stroke="currentColor" stroke-opacity="0.25" stroke-width="2" vector-effect="non-scaling-stroke"></circle>
  <path d="M15 8a7.002 7.002 0 00-7-7" stroke="currentColor" stroke-width="2" stroke-linecap="round" vector-effect="non-scaling-stroke"></path>
</svg>
</span>
        </span>
      
        <span data-view-component="true" class="ActionListItem-label">
          

  <span class="color-fg-muted">
    Loading...
  </span>

</span></button>
  
  
</li>

        
          
<li data-item-id="" data-targets="nav-list.items" data-view-component="true" class="ActionListItem">
    
    <button id="item-2ae5bbd7-62e6-4cde-873d-528c6c45f048" type="button" data-view-component="true" class="ActionListContent ActionListContent--visual16">
        <span class="ActionListItem-visual ActionListItem-visual--leading">
          <span data-view-component="true" class="d-flex flex-items-center">    <svg style="box-sizing: content-box; color: var(--color-icon-primary);" width="16" height="16" viewBox="0 0 16 16" fill="none" data-view-component="true" class="anim-rotate">
  <circle cx="8" cy="8" r="7" stroke="currentColor" stroke-opacity="0.25" stroke-width="2" vector-effect="non-scaling-stroke"></circle>
  <path d="M15 8a7.002 7.002 0 00-7-7" stroke="currentColor" stroke-width="2" stroke-linecap="round" vector-effect="non-scaling-stroke"></path>
</svg>
</span>
        </span>
      
        <span data-view-component="true" class="ActionListItem-label">
          

  <span class="color-fg-muted">
    Loading...
  </span>

</span></button>
  
  
</li>

        
          
<li data-item-id="" data-targets="nav-list.items" data-view-component="true" class="ActionListItem">
    
    <a data-analytics-event="{&quot;category&quot;:&quot;Global navigation&quot;,&quot;action&quot;:&quot;SETTINGS&quot;,&quot;label&quot;:null}" id="item-1b301b27-6f41-43ac-8aa9-76dee817a79b" href="https://github.com/settings/profile" data-view-component="true" class="ActionListContent ActionListContent--visual16">
        <span class="ActionListItem-visual ActionListItem-visual--leading">
          <svg aria-hidden="true" height="16" viewBox="0 0 16 16" version="1.1" width="16" data-view-component="true" class="octicon octicon-gear">
    <path d="M8 0a8.2 8.2 0 0 1 .701.031C9.444.095 9.99.645 10.16 1.29l.288 1.107c.018.066.079.158.212.224.231.114.454.243.668.386.123.082.233.09.299.071l1.103-.303c.644-.176 1.392.021 1.82.63.27.385.506.792.704 1.218.315.675.111 1.422-.364 1.891l-.814.806c-.049.048-.098.147-.088.294.016.257.016.515 0 .772-.01.147.038.246.088.294l.814.806c.475.469.679 1.216.364 1.891a7.977 7.977 0 0 1-.704 1.217c-.428.61-1.176.807-1.82.63l-1.102-.302c-.067-.019-.177-.011-.3.071a5.909 5.909 0 0 1-.668.386c-.133.066-.194.158-.211.224l-.29 1.106c-.168.646-.715 1.196-1.458 1.26a8.006 8.006 0 0 1-1.402 0c-.743-.064-1.289-.614-1.458-1.26l-.289-1.106c-.018-.066-.079-.158-.212-.224a5.738 5.738 0 0 1-.668-.386c-.123-.082-.233-.09-.299-.071l-1.103.303c-.644.176-1.392-.021-1.82-.63a8.12 8.12 0 0 1-.704-1.218c-.315-.675-.111-1.422.363-1.891l.815-.806c.05-.048.098-.147.088-.294a6.214 6.214 0 0 1 0-.772c.01-.147-.038-.246-.088-.294l-.815-.806C.635 6.045.431 5.298.746 4.623a7.92 7.92 0 0 1 .704-1.217c.428-.61 1.176-.807 1.82-.63l1.102.302c.067.019.177.011.3-.071.214-.143.437-.272.668-.386.133-.066.194-.158.211-.224l.29-1.106C6.009.645 6.556.095 7.299.03 7.53.01 7.764 0 8 0Zm-.571 1.525c-.036.003-.108.036-.137.146l-.289 1.105c-.147.561-.549.967-.998 1.189-.173.086-.34.183-.5.29-.417.278-.97.423-1.529.27l-1.103-.303c-.109-.03-.175.016-.195.045-.22.312-.412.644-.573.99-.014.031-.021.11.059.19l.815.806c.411.406.562.957.53 1.456a4.709 4.709 0 0 0 0 .582c.032.499-.119 1.05-.53 1.456l-.815.806c-.081.08-.073.159-.059.19.162.346.353.677.573.989.02.03.085.076.195.046l1.102-.303c.56-.153 1.113-.008 1.53.27.161.107.328.204.501.29.447.222.85.629.997 1.189l.289 1.105c.029.109.101.143.137.146a6.6 6.6 0 0 0 1.142 0c.036-.003.108-.036.137-.146l.289-1.105c.147-.561.549-.967.998-1.189.173-.086.34-.183.5-.29.417-.278.97-.423 1.529-.27l1.103.303c.109.029.175-.016.195-.045.22-.313.411-.644.573-.99.014-.031.021-.11-.059-.19l-.815-.806c-.411-.406-.562-.957-.53-1.456a4.709 4.709 0 0 0 0-.582c-.032-.499.119-1.05.53-1.456l.815-.806c.081-.08.073-.159.059-.19a6.464 6.464 0 0 0-.573-.989c-.02-.03-.085-.076-.195-.046l-1.102.303c-.56.153-1.113.008-1.53-.27a4.44 4.44 0 0 0-.501-.29c-.447-.222-.85-.629-.997-1.189l-.289-1.105c-.029-.11-.101-.143-.137-.146a6.6 6.6 0 0 0-1.142 0ZM11 8a3 3 0 1 1-6 0 3 3 0 0 1 6 0ZM9.5 8a1.5 1.5 0 1 0-3.001.001A1.5 1.5 0 0 0 9.5 8Z"></path>
</svg>
        </span>
      
        <span data-view-component="true" class="ActionListItem-label">
          Settings
</span></a>
  
  
</li>

        
          <li role="presentation" aria-hidden="true" data-view-component="true" class="ActionList-sectionDivider"></li>
        
          
<li data-item-id="" data-targets="nav-list.items" data-view-component="true" class="ActionListItem">
    
    <a data-analytics-event="{&quot;category&quot;:&quot;Global navigation&quot;,&quot;action&quot;:&quot;DOCS&quot;,&quot;label&quot;:null}" id="item-7a607276-5b89-4895-9de9-d7417568acfa" href="https://docs.github.com/" data-view-component="true" class="ActionListContent ActionListContent--visual16">
        <span class="ActionListItem-visual ActionListItem-visual--leading">
          <svg aria-hidden="true" height="16" viewBox="0 0 16 16" version="1.1" width="16" data-view-component="true" class="octicon octicon-book">
    <path d="M0 1.75A.75.75 0 0 1 .75 1h4.253c1.227 0 2.317.59 3 1.501A3.743 3.743 0 0 1 11.006 1h4.245a.75.75 0 0 1 .75.75v10.5a.75.75 0 0 1-.75.75h-4.507a2.25 2.25 0 0 0-1.591.659l-.622.621a.75.75 0 0 1-1.06 0l-.622-.621A2.25 2.25 0 0 0 5.258 13H.75a.75.75 0 0 1-.75-.75Zm7.251 10.324.004-5.073-.002-2.253A2.25 2.25 0 0 0 5.003 2.5H1.5v9h3.757a3.75 3.75 0 0 1 1.994.574ZM8.755 4.75l-.004 7.322a3.752 3.752 0 0 1 1.992-.572H14.5v-9h-3.495a2.25 2.25 0 0 0-2.25 2.25Z"></path>
</svg>
        </span>
      
        <span data-view-component="true" class="ActionListItem-label">
          GitHub Docs
</span></a>
  
  
</li>

        
          
<li data-item-id="" data-targets="nav-list.items" data-view-component="true" class="ActionListItem">
    
    <a data-analytics-event="{&quot;category&quot;:&quot;Global navigation&quot;,&quot;action&quot;:&quot;SUPPORT&quot;,&quot;label&quot;:null}" id="item-d9ec2ebc-1b01-45cb-9cba-e8fedc67e7ae" href="https://support.github.com/" data-view-component="true" class="ActionListContent ActionListContent--visual16">
        <span class="ActionListItem-visual ActionListItem-visual--leading">
          <svg aria-hidden="true" height="16" viewBox="0 0 16 16" version="1.1" width="16" data-view-component="true" class="octicon octicon-people">
    <path d="M2 5.5a3.5 3.5 0 1 1 5.898 2.549 5.508 5.508 0 0 1 3.034 4.084.75.75 0 1 1-1.482.235 4 4 0 0 0-7.9 0 .75.75 0 0 1-1.482-.236A5.507 5.507 0 0 1 3.102 8.05 3.493 3.493 0 0 1 2 5.5ZM11 4a3.001 3.001 0 0 1 2.22 5.018 5.01 5.01 0 0 1 2.56 3.012.749.749 0 0 1-.885.954.752.752 0 0 1-.549-.514 3.507 3.507 0 0 0-2.522-2.372.75.75 0 0 1-.574-.73v-.352a.75.75 0 0 1 .416-.672A1.5 1.5 0 0 0 11 5.5.75.75 0 0 1 11 4Zm-5.5-.5a2 2 0 1 0-.001 3.999A2 2 0 0 0 5.5 3.5Z"></path>
</svg>
        </span>
      
        <span data-view-component="true" class="ActionListItem-label">
          GitHub Support
</span></a>
  
  
</li>

        
          <li role="presentation" aria-hidden="true" data-view-component="true" class="ActionList-sectionDivider"></li>
        
          
<li data-item-id="" data-targets="nav-list.items" data-view-component="true" class="ActionListItem">
    
    <a data-analytics-event="{&quot;category&quot;:&quot;Global navigation&quot;,&quot;action&quot;:&quot;LOGOUT&quot;,&quot;label&quot;:null}" id="item-6b1f5058-e401-48bf-be62-27f93cbd05ec" href="https://github.com/logout" data-view-component="true" class="ActionListContent">
      
        <span data-view-component="true" class="ActionListItem-label">
          Sign out
</span></a>
  
  
</li>

</ul>  </nav-list>
</nav>


</div>
      
</modal-dialog></div>
  </user-drawer-side-panel>

  </include-fragment>
</deferred-side-panel>
        </div>

        <div class="position-absolute mt-2">
            
<site-header-logged-in-user-menu data-catalyst="">

</site-header-logged-in-user-menu>

        </div>
      </div>
    </div>


      <div class="AppHeader-localBar">
        <nav data-pjax="#js-repo-pjax-container" aria-label="Repository" data-view-component="true" class="js-repo-nav js-sidenav-container-pjax js-responsive-underlinenav overflow-hidden UnderlineNav">

  <ul data-view-component="true" class="UnderlineNav-body list-style-none">
      <li data-view-component="true" class="d-inline-flex">
  <a id="code-tab" href="https://github.com/Priyam219/Bharat-Intern---ML" data-tab-item="i0code-tab" data-selected-links="repo_source repo_downloads repo_commits repo_releases repo_tags repo_branches repo_packages repo_deployments /Priyam219/Bharat-Intern---ML" data-pjax="#repo-content-pjax-container" data-turbo-frame="repo-content-turbo-frame" data-hotkey="g c" data-analytics-event="{&quot;category&quot;:&quot;Underline navbar&quot;,&quot;action&quot;:&quot;Click tab&quot;,&quot;label&quot;:&quot;Code&quot;,&quot;target&quot;:&quot;UNDERLINE_NAV.TAB&quot;}" data-view-component="true" class="UnderlineNav-item no-wrap js-responsive-underlinenav-item js-selected-navigation-item selected" aria-current="page">
    
              <svg aria-hidden="true" height="16" viewBox="0 0 16 16" version="1.1" width="16" data-view-component="true" class="octicon octicon-code UnderlineNav-octicon d-none d-sm-inline">
    <path d="m11.28 3.22 4.25 4.25a.75.75 0 0 1 0 1.06l-4.25 4.25a.749.749 0 0 1-1.275-.326.749.749 0 0 1 .215-.734L13.94 8l-3.72-3.72a.749.749 0 0 1 .326-1.275.749.749 0 0 1 .734.215Zm-6.56 0a.751.751 0 0 1 1.042.018.751.751 0 0 1 .018 1.042L2.06 8l3.72 3.72a.749.749 0 0 1-.326 1.275.749.749 0 0 1-.734-.215L.47 8.53a.75.75 0 0 1 0-1.06Z"></path>
</svg>
        <span data-content="Code">Code</span>
          <span id="code-repo-tab-count" data-pjax-replace="" data-turbo-replace="" title="Not available" data-view-component="true" class="Counter"></span>


    
</a></li>
      <li data-view-component="true" class="d-inline-flex">
  <a id="issues-tab" href="https://github.com/Priyam219/Bharat-Intern---ML/issues" data-tab-item="i1issues-tab" data-selected-links="repo_issues repo_labels repo_milestones /Priyam219/Bharat-Intern---ML/issues" data-pjax="#repo-content-pjax-container" data-turbo-frame="repo-content-turbo-frame" data-hotkey="g i" data-analytics-event="{&quot;category&quot;:&quot;Underline navbar&quot;,&quot;action&quot;:&quot;Click tab&quot;,&quot;label&quot;:&quot;Issues&quot;,&quot;target&quot;:&quot;UNDERLINE_NAV.TAB&quot;}" data-view-component="true" class="UnderlineNav-item no-wrap js-responsive-underlinenav-item js-selected-navigation-item">
    
              <svg aria-hidden="true" height="16" viewBox="0 0 16 16" version="1.1" width="16" data-view-component="true" class="octicon octicon-issue-opened UnderlineNav-octicon d-none d-sm-inline">
    <path d="M8 9.5a1.5 1.5 0 1 0 0-3 1.5 1.5 0 0 0 0 3Z"></path><path d="M8 0a8 8 0 1 1 0 16A8 8 0 0 1 8 0ZM1.5 8a6.5 6.5 0 1 0 13 0 6.5 6.5 0 0 0-13 0Z"></path>
</svg>
        <span data-content="Issues">Issues</span>
          <span id="issues-repo-tab-count" data-pjax-replace="" data-turbo-replace="" title="0" hidden="hidden" data-view-component="true" class="Counter">0</span>


    
</a></li>
      <li data-view-component="true" class="d-inline-flex">
  <a id="pull-requests-tab" href="https://github.com/Priyam219/Bharat-Intern---ML/pulls" data-tab-item="i2pull-requests-tab" data-selected-links="repo_pulls checks /Priyam219/Bharat-Intern---ML/pulls" data-pjax="#repo-content-pjax-container" data-turbo-frame="repo-content-turbo-frame" data-hotkey="g p" data-analytics-event="{&quot;category&quot;:&quot;Underline navbar&quot;,&quot;action&quot;:&quot;Click tab&quot;,&quot;label&quot;:&quot;Pull requests&quot;,&quot;target&quot;:&quot;UNDERLINE_NAV.TAB&quot;}" data-view-component="true" class="UnderlineNav-item no-wrap js-responsive-underlinenav-item js-selected-navigation-item">
    
              <svg aria-hidden="true" height="16" viewBox="0 0 16 16" version="1.1" width="16" data-view-component="true" class="octicon octicon-git-pull-request UnderlineNav-octicon d-none d-sm-inline">
    <path d="M1.5 3.25a2.25 2.25 0 1 1 3 2.122v5.256a2.251 2.251 0 1 1-1.5 0V5.372A2.25 2.25 0 0 1 1.5 3.25Zm5.677-.177L9.573.677A.25.25 0 0 1 10 .854V2.5h1A2.5 2.5 0 0 1 13.5 5v5.628a2.251 2.251 0 1 1-1.5 0V5a1 1 0 0 0-1-1h-1v1.646a.25.25 0 0 1-.427.177L7.177 3.427a.25.25 0 0 1 0-.354ZM3.75 2.5a.75.75 0 1 0 0 1.5.75.75 0 0 0 0-1.5Zm0 9.5a.75.75 0 1 0 0 1.5.75.75 0 0 0 0-1.5Zm8.25.75a.75.75 0 1 0 1.5 0 .75.75 0 0 0-1.5 0Z"></path>
</svg>
        <span data-content="Pull requests">Pull requests</span>
          <span id="pull-requests-repo-tab-count" data-pjax-replace="" data-turbo-replace="" title="0" hidden="hidden" data-view-component="true" class="Counter">0</span>


    
</a></li>
      <li data-view-component="true" class="d-inline-flex">
  <a id="actions-tab" href="https://github.com/Priyam219/Bharat-Intern---ML/actions" data-tab-item="i3actions-tab" data-selected-links="repo_actions /Priyam219/Bharat-Intern---ML/actions" data-pjax="#repo-content-pjax-container" data-turbo-frame="repo-content-turbo-frame" data-hotkey="g a" data-analytics-event="{&quot;category&quot;:&quot;Underline navbar&quot;,&quot;action&quot;:&quot;Click tab&quot;,&quot;label&quot;:&quot;Actions&quot;,&quot;target&quot;:&quot;UNDERLINE_NAV.TAB&quot;}" data-view-component="true" class="UnderlineNav-item no-wrap js-responsive-underlinenav-item js-selected-navigation-item">
    
              <svg aria-hidden="true" height="16" viewBox="0 0 16 16" version="1.1" width="16" data-view-component="true" class="octicon octicon-play UnderlineNav-octicon d-none d-sm-inline">
    <path d="M8 0a8 8 0 1 1 0 16A8 8 0 0 1 8 0ZM1.5 8a6.5 6.5 0 1 0 13 0 6.5 6.5 0 0 0-13 0Zm4.879-2.773 4.264 2.559a.25.25 0 0 1 0 .428l-4.264 2.559A.25.25 0 0 1 6 10.559V5.442a.25.25 0 0 1 .379-.215Z"></path>
</svg>
        <span data-content="Actions">Actions</span>
          <span id="actions-repo-tab-count" data-pjax-replace="" data-turbo-replace="" title="Not available" data-view-component="true" class="Counter"></span>


    
</a></li>
      <li data-view-component="true" class="d-inline-flex">
  <a id="projects-tab" href="https://github.com/Priyam219/Bharat-Intern---ML/projects" data-tab-item="i4projects-tab" data-selected-links="repo_projects new_repo_project repo_project /Priyam219/Bharat-Intern---ML/projects" data-pjax="#repo-content-pjax-container" data-turbo-frame="repo-content-turbo-frame" data-hotkey="g b" data-analytics-event="{&quot;category&quot;:&quot;Underline navbar&quot;,&quot;action&quot;:&quot;Click tab&quot;,&quot;label&quot;:&quot;Projects&quot;,&quot;target&quot;:&quot;UNDERLINE_NAV.TAB&quot;}" data-view-component="true" class="UnderlineNav-item no-wrap js-responsive-underlinenav-item js-selected-navigation-item">
    
              <svg aria-hidden="true" height="16" viewBox="0 0 16 16" version="1.1" width="16" data-view-component="true" class="octicon octicon-table UnderlineNav-octicon d-none d-sm-inline">
    <path d="M0 1.75C0 .784.784 0 1.75 0h12.5C15.216 0 16 .784 16 1.75v12.5A1.75 1.75 0 0 1 14.25 16H1.75A1.75 1.75 0 0 1 0 14.25ZM6.5 6.5v8h7.75a.25.25 0 0 0 .25-.25V6.5Zm8-1.5V1.75a.25.25 0 0 0-.25-.25H6.5V5Zm-13 1.5v7.75c0 .138.112.25.25.25H5v-8ZM5 5V1.5H1.75a.25.25 0 0 0-.25.25V5Z"></path>
</svg>
        <span data-content="Projects">Projects</span>
          <span id="projects-repo-tab-count" data-pjax-replace="" data-turbo-replace="" title="0" hidden="hidden" data-view-component="true" class="Counter">0</span>


    
</a></li>
      <li data-view-component="true" class="d-inline-flex">
  <a id="security-tab" href="https://github.com/Priyam219/Bharat-Intern---ML/security" data-tab-item="i5security-tab" data-selected-links="security overview alerts policy token_scanning code_scanning /Priyam219/Bharat-Intern---ML/security" data-pjax="#repo-content-pjax-container" data-turbo-frame="repo-content-turbo-frame" data-hotkey="g s" data-analytics-event="{&quot;category&quot;:&quot;Underline navbar&quot;,&quot;action&quot;:&quot;Click tab&quot;,&quot;label&quot;:&quot;Security&quot;,&quot;target&quot;:&quot;UNDERLINE_NAV.TAB&quot;}" data-view-component="true" class="UnderlineNav-item no-wrap js-responsive-underlinenav-item js-selected-navigation-item">
    
              <svg aria-hidden="true" height="16" viewBox="0 0 16 16" version="1.1" width="16" data-view-component="true" class="octicon octicon-shield UnderlineNav-octicon d-none d-sm-inline">
    <path d="M7.467.133a1.748 1.748 0 0 1 1.066 0l5.25 1.68A1.75 1.75 0 0 1 15 3.48V7c0 1.566-.32 3.182-1.303 4.682-.983 1.498-2.585 2.813-5.032 3.855a1.697 1.697 0 0 1-1.33 0c-2.447-1.042-4.049-2.357-5.032-3.855C1.32 10.182 1 8.566 1 7V3.48a1.75 1.75 0 0 1 1.217-1.667Zm.61 1.429a.25.25 0 0 0-.153 0l-5.25 1.68a.25.25 0 0 0-.174.238V7c0 1.358.275 2.666 1.057 3.86.784 1.194 2.121 2.34 4.366 3.297a.196.196 0 0 0 .154 0c2.245-.956 3.582-2.104 4.366-3.298C13.225 9.666 13.5 8.36 13.5 7V3.48a.251.251 0 0 0-.174-.237l-5.25-1.68ZM8.75 4.75v3a.75.75 0 0 1-1.5 0v-3a.75.75 0 0 1 1.5 0ZM9 10.5a1 1 0 1 1-2 0 1 1 0 0 1 2 0Z"></path>
</svg>
        <span data-content="Security">Security</span>
          

    
</a></li>
      <li data-view-component="true" class="d-inline-flex">
  <a id="insights-tab" href="https://github.com/Priyam219/Bharat-Intern---ML/pulse" data-tab-item="i6insights-tab" data-selected-links="repo_graphs repo_contributors dependency_graph dependabot_updates pulse people community /Priyam219/Bharat-Intern---ML/pulse" data-pjax="#repo-content-pjax-container" data-turbo-frame="repo-content-turbo-frame" data-analytics-event="{&quot;category&quot;:&quot;Underline navbar&quot;,&quot;action&quot;:&quot;Click tab&quot;,&quot;label&quot;:&quot;Insights&quot;,&quot;target&quot;:&quot;UNDERLINE_NAV.TAB&quot;}" data-view-component="true" class="UnderlineNav-item no-wrap js-responsive-underlinenav-item js-selected-navigation-item">
    
              <svg aria-hidden="true" height="16" viewBox="0 0 16 16" version="1.1" width="16" data-view-component="true" class="octicon octicon-graph UnderlineNav-octicon d-none d-sm-inline">
    <path d="M1.5 1.75V13.5h13.75a.75.75 0 0 1 0 1.5H.75a.75.75 0 0 1-.75-.75V1.75a.75.75 0 0 1 1.5 0Zm14.28 2.53-5.25 5.25a.75.75 0 0 1-1.06 0L7 7.06 4.28 9.78a.751.751 0 0 1-1.042-.018.751.751 0 0 1-.018-1.042l3.25-3.25a.75.75 0 0 1 1.06 0L10 7.94l4.72-4.72a.751.751 0 0 1 1.042.018.751.751 0 0 1 .018 1.042Z"></path>
</svg>
        <span data-content="Insights">Insights</span>
          <span id="insights-repo-tab-count" data-pjax-replace="" data-turbo-replace="" title="Not available" data-view-component="true" class="Counter"></span>


    
</a></li>
</ul>
    <div style="visibility:hidden;" data-view-component="true" class="UnderlineNav-actions js-responsive-underlinenav-overflow position-absolute pr-3 pr-md-4 pr-lg-5 right-0">        <details data-view-component="true" class="details-overlay details-reset position-relative">
    <summary role="button" data-view-component="true" aria-haspopup="menu">          <div class="UnderlineNav-item mr-0 border-0">
            <svg aria-hidden="true" height="16" viewBox="0 0 16 16" version="1.1" width="16" data-view-component="true" class="octicon octicon-kebab-horizontal">
    <path d="M8 9a1.5 1.5 0 1 0 0-3 1.5 1.5 0 0 0 0 3ZM1.5 9a1.5 1.5 0 1 0 0-3 1.5 1.5 0 0 0 0 3Zm13 0a1.5 1.5 0 1 0 0-3 1.5 1.5 0 0 0 0 3Z"></path>
</svg>
            <span class="sr-only">More</span>
          </div>
</summary>
    <details-menu role="menu" data-view-component="true" class="dropdown-menu dropdown-menu-sw">
          <ul>
              <li data-menu-item="i0code-tab" hidden="">
                <a role="menuitem" class="js-selected-navigation-item dropdown-item selected" data-selected-links="repo_source repo_downloads repo_commits repo_releases repo_tags repo_branches repo_packages repo_deployments /Priyam219/Bharat-Intern---ML" href="https://github.com/Priyam219/Bharat-Intern---ML" aria-current="page">
                  Code
</a>              </li>
              <li data-menu-item="i1issues-tab" hidden="">
                <a role="menuitem" class="js-selected-navigation-item dropdown-item" data-selected-links="repo_issues repo_labels repo_milestones /Priyam219/Bharat-Intern---ML/issues" href="https://github.com/Priyam219/Bharat-Intern---ML/issues">
                  Issues
</a>              </li>
              <li data-menu-item="i2pull-requests-tab" hidden="">
                <a role="menuitem" class="js-selected-navigation-item dropdown-item" data-selected-links="repo_pulls checks /Priyam219/Bharat-Intern---ML/pulls" href="https://github.com/Priyam219/Bharat-Intern---ML/pulls">
                  Pull requests
</a>              </li>
              <li data-menu-item="i3actions-tab" hidden="">
                <a role="menuitem" class="js-selected-navigation-item dropdown-item" data-selected-links="repo_actions /Priyam219/Bharat-Intern---ML/actions" href="https://github.com/Priyam219/Bharat-Intern---ML/actions">
                  Actions
</a>              </li>
              <li data-menu-item="i4projects-tab" hidden="">
                <a role="menuitem" class="js-selected-navigation-item dropdown-item" data-selected-links="repo_projects new_repo_project repo_project /Priyam219/Bharat-Intern---ML/projects" href="https://github.com/Priyam219/Bharat-Intern---ML/projects">
                  Projects
</a>              </li>
              <li data-menu-item="i5security-tab" hidden="">
                <a role="menuitem" class="js-selected-navigation-item dropdown-item" data-selected-links="security overview alerts policy token_scanning code_scanning /Priyam219/Bharat-Intern---ML/security" href="https://github.com/Priyam219/Bharat-Intern---ML/security">
                  Security
</a>              </li>
              <li data-menu-item="i6insights-tab" hidden="">
                <a role="menuitem" class="js-selected-navigation-item dropdown-item" data-selected-links="repo_graphs repo_contributors dependency_graph dependabot_updates pulse people community /Priyam219/Bharat-Intern---ML/pulse" href="https://github.com/Priyam219/Bharat-Intern---ML/pulse">
                  Insights
</a>              </li>
          </ul>
</details-menu>
</details></div>
</nav>
      </div>
</header>


      <div hidden="hidden" data-view-component="true" class="js-stale-session-flash flash flash-warn mb-3">
  
        <svg aria-hidden="true" height="16" viewBox="0 0 16 16" version="1.1" width="16" data-view-component="true" class="octicon octicon-alert">
    <path d="M6.457 1.047c.659-1.234 2.427-1.234 3.086 0l6.082 11.378A1.75 1.75 0 0 1 14.082 15H1.918a1.75 1.75 0 0 1-1.543-2.575Zm1.763.707a.25.25 0 0 0-.44 0L1.698 13.132a.25.25 0 0 0 .22.368h12.164a.25.25 0 0 0 .22-.368Zm.53 3.996v2.5a.75.75 0 0 1-1.5 0v-2.5a.75.75 0 0 1 1.5 0ZM9 11a1 1 0 1 1-2 0 1 1 0 0 1 2 0Z"></path>
</svg>
        <span class="js-stale-session-flash-signed-in" hidden="">You signed in with another tab or window. <a class="Link--inTextBlock" href="https://github.com/Priyam219/Bharat-Intern---ML/blob/04a8df9791d2d791f393362165355ec6140659ac/Task-1%20-%20House%20Price%20Prediction/House_Price_Prediction/House_Price_Prediction.ipynb">Reload</a> to refresh your session.</span>
        <span class="js-stale-session-flash-signed-out" hidden="">You signed out in another tab or window. <a class="Link--inTextBlock" href="https://github.com/Priyam219/Bharat-Intern---ML/blob/04a8df9791d2d791f393362165355ec6140659ac/Task-1%20-%20House%20Price%20Prediction/House_Price_Prediction/House_Price_Prediction.ipynb">Reload</a> to refresh your session.</span>
        <span class="js-stale-session-flash-switched" hidden="">You switched accounts on another tab or window. <a class="Link--inTextBlock" href="https://github.com/Priyam219/Bharat-Intern---ML/blob/04a8df9791d2d791f393362165355ec6140659ac/Task-1%20-%20House%20Price%20Prediction/House_Price_Prediction/House_Price_Prediction.ipynb">Reload</a> to refresh your session.</span>

    <div data-view-component="true" class="flash-close">
  <button id="icon-button-6489171e-e1aa-4e33-a020-30aed629b78c" type="button" data-view-component="true" class="Button Button--iconOnly Button--invisible Button--medium js-flash-close" aria-labelledby="tooltip-a6d0b347-b3b7-46ce-8ea3-c1cceed6d026">    <svg aria-hidden="true" height="16" viewBox="0 0 16 16" version="1.1" width="16" data-view-component="true" class="octicon octicon-x Button-visual">
    <path d="M3.72 3.72a.75.75 0 0 1 1.06 0L8 6.94l3.22-3.22a.749.749 0 0 1 1.275.326.749.749 0 0 1-.215.734L9.06 8l3.22 3.22a.749.749 0 0 1-.326 1.275.749.749 0 0 1-.734-.215L8 9.06l-3.22 3.22a.751.751 0 0 1-1.042-.018.751.751 0 0 1-.018-1.042L6.94 8 3.72 4.78a.75.75 0 0 1 0-1.06Z"></path>
</svg>
</button>  <tool-tip id="tooltip-a6d0b347-b3b7-46ce-8ea3-c1cceed6d026" for="icon-button-6489171e-e1aa-4e33-a020-30aed629b78c" popover="manual" data-direction="s" data-type="label" data-view-component="true" class="sr-only position-absolute" aria-hidden="true" role="tooltip"><template shadowrootmode="open"><style>
      :host {
        padding: .5em .75em !important;
        font: normal normal 11px/1.5 -apple-system, BlinkMacSystemFont, "Segoe UI", Helvetica, Arial, sans-serif, "Apple Color Emoji", "Segoe UI Emoji";
        -webkit-font-smoothing: subpixel-antialiased;
        color: var(--color-fg-on-emphasis) !important;
        text-align: center;
        text-decoration: none;
        text-shadow: none;
        text-transform: none;
        letter-spacing: normal;
        word-wrap: break-word;
        white-space: pre;
        background: var(--color-neutral-emphasis-plus) !important;
        border-radius: 6px;
        border: 0 !important;
        opacity: 0;
        max-width: 250px;
        word-wrap: break-word;
        white-space: normal;
        width: max-content !important;
        inset: var(--tool-tip-position-top, 0) auto auto var(--tool-tip-position-left, 0) !important;
        overflow: visible !important;
      }

      :host:before{
        position: absolute;
        z-index: 1000001;
        color: var(--color-neutral-emphasis-plus);
        content: "";
        border: 6px solid transparent;
        opacity: 0
      }

      @keyframes tooltip-appear {
        from {
          opacity: 0;
        }
        to {
          opacity: 1
        }
      }

      :host:after{
        position: absolute;
        display: block;
        right: 0;
        left: 0;
        height: 12px;
        content: ""
      }

      :host(:popover-open),
      :host(:popover-open):before {
        animation-name: tooltip-appear;
        animation-duration: .1s;
        animation-fill-mode: forwards;
        animation-timing-function: ease-in;
        animation-delay: .4s
      }

      :host(.\:popover-open),
      :host(.\:popover-open):before {
        animation-name: tooltip-appear;
        animation-duration: .1s;
        animation-fill-mode: forwards;
        animation-timing-function: ease-in;
        animation-delay: .4s
      }

      :host(.tooltip-s):before,
      :host(.tooltip-n):before {
        right: 50%;
        margin-right: -6px;
      }

      :host(.tooltip-s):before,
      :host(.tooltip-se):before,
      :host(.tooltip-sw):before {
        bottom: 100%;
        border-bottom-color: var(--color-neutral-emphasis-plus)
      }

      :host(.tooltip-s):after,
      :host(.tooltip-se):after,
      :host(.tooltip-sw):after {
        bottom: 100%
      }

      :host(.tooltip-n):before,
      :host(.tooltip-ne):before,
      :host(.tooltip-nw):before {
        top: 100%;
        border-top-color: var(--color-neutral-emphasis-plus)
      }

      :host(.tooltip-n):after,
      :host(.tooltip-ne):after,
      :host(.tooltip-nw):after {
        top: 100%
      }

      :host(.tooltip-se):before,
      :host(.tooltip-ne):before {
        left: 0;
        margin-left: 6px;
      }

      :host(.tooltip-sw):before,
      :host(.tooltip-nw):before {
        right: 0;
        margin-right: 6px;
      }

      :host(.tooltip-w):before {
        top: 50%;
        bottom: 50%;
        left: 100%;
        margin-top: -6px;
        border-left-color: var(--color-neutral-emphasis-plus)
      }

      :host(.tooltip-e):before {
        top: 50%;
        right: 100%;
        bottom: 50%;
        margin-top: -6px;
        border-right-color: var(--color-neutral-emphasis-plus)
      }
    </style><slot></slot></template>Dismiss alert</tool-tip>
</div>

  
</div>
          
    </div>

  <div id="start-of-content" class="show-on-focus"></div>








    <div id="js-flash-container" data-turbo-replace="">





  <template class="js-flash-template"></template>
</div>


    
    <notification-shelf-watcher data-base-url="https://github.com/notifications/beta/shelf" data-channel="eyJjIjoibm90aWZpY2F0aW9uLWNoYW5nZWQ6MTQxNjIyMzUxIiwidCI6MTY5NDQwNTY1Mn0=--23dbdbb7bfad99af4b4e6a479ad0e113ffc39586309cf5fc86afdccfac9bd787" data-view-component="true" class="js-socket-channel" data-refresh-delay="500" data-catalyst=""></notification-shelf-watcher>
  <div hidden="" data-initial="" data-target="notification-shelf-watcher.placeholder"></div>






      <details class="details-reset details-overlay details-overlay-dark js-command-palette-dialog" id="command-palette-pjax-container" data-turbo-replace="">
  <summary aria-label="command palette trigger" tabindex="-1" role="button"></summary>
  <details-dialog class="command-palette-details-dialog d-flex flex-column flex-justify-center height-fit" aria-label="command palette" role="dialog" aria-modal="true">
    <command-palette class="command-palette color-bg-default rounded-3 border color-shadow-small" return-to="/Priyam219/Bharat-Intern---ML/blob/04a8df9791d2d791f393362165355ec6140659ac/Task-1%20-%20House%20Price%20Prediction/House_Price_Prediction/House_Price_Prediction.ipynb" user-id="141622351" activation-hotkey="Mod+k,Mod+Alt+k" command-mode-hotkey="Mod+Shift+k" data-action="
        command-palette-input-ready:command-palette#inputReady
        command-palette-page-stack-updated:command-palette#updateInputScope
        itemsUpdated:command-palette#itemsUpdated
        keydown:command-palette#onKeydown
        loadingStateChanged:command-palette#loadingStateChanged
        selectedItemChanged:command-palette#selectedItemChanged
        pageFetchError:command-palette#pageFetchError
      " data-catalyst="">

        <command-palette-mode data-char="#" data-scope-types="[&quot;&quot;]" data-placeholder="Search issues and pull requests" data-catalyst=""></command-palette-mode>
        <command-palette-mode data-char="#" data-scope-types="[&quot;owner&quot;,&quot;repository&quot;]" data-placeholder="Search issues, pull requests, discussions, and projects" data-catalyst=""></command-palette-mode>
        <command-palette-mode data-char="!" data-scope-types="[&quot;owner&quot;,&quot;repository&quot;]" data-placeholder="Search projects" data-catalyst=""></command-palette-mode>
        <command-palette-mode data-char="@" data-scope-types="[&quot;&quot;]" data-placeholder="Search or jump to a user, organization, or repository" data-catalyst=""></command-palette-mode>
        <command-palette-mode data-char="@" data-scope-types="[&quot;owner&quot;]" data-placeholder="Search or jump to a repository" data-catalyst=""></command-palette-mode>
        <command-palette-mode data-char="/" data-scope-types="[&quot;repository&quot;]" data-placeholder="Search files" data-catalyst=""></command-palette-mode>
        <command-palette-mode data-char="?" data-placeholder="" data-catalyst="" data-scope-types=""></command-palette-mode>
        <command-palette-mode data-char="&gt;" data-placeholder="Run a command" data-scope-types="" data-catalyst=""></command-palette-mode>
        <command-palette-mode data-char="" data-scope-types="[&quot;&quot;]" data-placeholder="Search or jump to..." data-catalyst=""></command-palette-mode>
        <command-palette-mode data-char="" data-scope-types="[&quot;owner&quot;]" data-placeholder="Search or jump to..." data-catalyst=""></command-palette-mode>
      <command-palette-mode class="js-command-palette-default-mode" data-char="" data-placeholder="Search or jump to..." data-scope-types="" data-catalyst=""></command-palette-mode>

      <command-palette-input placeholder="Search or jump to..." data-action="
          command-palette-input:command-palette#onInput
          command-palette-select:command-palette#onSelect
          command-palette-descope:command-palette#onDescope
          command-palette-cleared:command-palette#onInputClear
        " data-catalyst="" class="d-flex flex-items-center flex-nowrap py-1 pl-3 pr-2 border-bottom">
        <div class="js-search-icon d-flex flex-items-center mr-2" style="height: 26px">
          <svg aria-hidden="true" height="16" viewBox="0 0 16 16" version="1.1" width="16" data-view-component="true" class="octicon octicon-search color-fg-muted">
    <path d="M10.68 11.74a6 6 0 0 1-7.922-8.982 6 6 0 0 1 8.982 7.922l3.04 3.04a.749.749 0 0 1-.326 1.275.749.749 0 0 1-.734-.215ZM11.5 7a4.499 4.499 0 1 0-8.997 0A4.499 4.499 0 0 0 11.5 7Z"></path>
</svg>
        </div>
        <div class="js-spinner d-flex flex-items-center mr-2 color-fg-muted" hidden="">
          <svg aria-label="Loading" class="anim-rotate" viewBox="0 0 16 16" fill="none" width="16" height="16">
            <circle cx="8" cy="8" r="7" stroke="currentColor" stroke-opacity="0.25" stroke-width="2" vector-effect="non-scaling-stroke"></circle>
            <path d="M15 8a7.002 7.002 0 00-7-7" stroke="currentColor" stroke-width="2" stroke-linecap="round" vector-effect="non-scaling-stroke"></path>
          </svg>
        </div>
        <command-palette-scope data-catalyst="" class="d-inline-flex">
          <div data-target="command-palette-scope.placeholder" hidden="" class="color-fg-subtle">/&nbsp;&nbsp;<span class="text-semibold color-fg-default">...</span>&nbsp;&nbsp;/&nbsp;&nbsp;</div>
              <command-palette-token data-text="Priyam219" data-id="U_kgDOBhqs5A" data-type="owner" data-value="Priyam219" data-targets="command-palette-scope.tokens" class="color-fg-default text-semibold" style="white-space:nowrap;line-height:20px;" id="" data-catalyst="">Priyam219<span class="color-fg-subtle text-normal">&nbsp;&nbsp;/&nbsp;&nbsp;</span></command-palette-token>
              <command-palette-token data-text="Bharat-Intern---ML" data-id="R_kgDOJlKGNg" data-type="repository" data-value="Bharat-Intern---ML" data-targets="command-palette-scope.tokens" class="color-fg-default text-semibold" style="white-space:nowrap;line-height:20px;" id="" data-catalyst="">Bharat-Intern---ML<span class="color-fg-subtle text-normal">&nbsp;&nbsp;/&nbsp;&nbsp;</span></command-palette-token>
        </command-palette-scope>
        <div class="command-palette-input-group flex-1 form-control border-0 box-shadow-none" style="z-index: 0">
          <div class="command-palette-typeahead position-absolute d-flex flex-items-center Truncate">
            <span class="typeahead-segment input-mirror" data-target="command-palette-input.mirror"></span>
            <span class="Truncate-text" data-target="command-palette-input.typeaheadText"></span>
            <span class="typeahead-segment" data-target="command-palette-input.typeaheadPlaceholder"></span>
          </div>
          <input class="js-overlay-input typeahead-input d-none" disabled="" tabindex="-1" aria-label="Hidden input for typeahead">
          <input type="text" autocomplete="off" autocorrect="off" autocapitalize="off" spellcheck="false" class="js-input typeahead-input form-control border-0 box-shadow-none input-block width-full no-focus-indicator" aria-label="Command palette input" aria-haspopup="listbox" aria-expanded="false" aria-autocomplete="list" aria-controls="command-palette-page-stack" role="combobox" data-action="
              input:command-palette-input#onInput
              keydown:command-palette-input#onKeydown
            " placeholder="Search or jump to...">
        </div>
          <div data-view-component="true" class="position-relative d-inline-block">
    <button aria-keyshortcuts="Control+Backspace" data-action="click:command-palette-input#onClear keypress:command-palette-input#onClear" data-target="command-palette-input.clearButton" id="command-palette-clear-button" hidden="hidden" type="button" data-view-component="true" class="btn-octicon command-palette-input-clear-button" aria-labelledby="tooltip-04452216-fdb2-4ab6-aebc-89fe24ad6104">      <svg aria-hidden="true" height="16" viewBox="0 0 16 16" version="1.1" width="16" data-view-component="true" class="octicon octicon-x-circle-fill">
    <path d="M2.343 13.657A8 8 0 1 1 13.658 2.343 8 8 0 0 1 2.343 13.657ZM6.03 4.97a.751.751 0 0 0-1.042.018.751.751 0 0 0-.018 1.042L6.94 8 4.97 9.97a.749.749 0 0 0 .326 1.275.749.749 0 0 0 .734-.215L8 9.06l1.97 1.97a.749.749 0 0 0 1.275-.326.749.749 0 0 0-.215-.734L9.06 8l1.97-1.97a.749.749 0 0 0-.326-1.275.749.749 0 0 0-.734.215L8 6.94Z"></path>
</svg>
</button>    <tool-tip id="tooltip-04452216-fdb2-4ab6-aebc-89fe24ad6104" for="command-palette-clear-button" popover="manual" data-direction="w" data-type="label" data-view-component="true" class="sr-only position-absolute" aria-hidden="true" role="tooltip"><template shadowrootmode="open"><style>
      :host {
        padding: .5em .75em !important;
        font: normal normal 11px/1.5 -apple-system, BlinkMacSystemFont, "Segoe UI", Helvetica, Arial, sans-serif, "Apple Color Emoji", "Segoe UI Emoji";
        -webkit-font-smoothing: subpixel-antialiased;
        color: var(--color-fg-on-emphasis) !important;
        text-align: center;
        text-decoration: none;
        text-shadow: none;
        text-transform: none;
        letter-spacing: normal;
        word-wrap: break-word;
        white-space: pre;
        background: var(--color-neutral-emphasis-plus) !important;
        border-radius: 6px;
        border: 0 !important;
        opacity: 0;
        max-width: 250px;
        word-wrap: break-word;
        white-space: normal;
        width: max-content !important;
        inset: var(--tool-tip-position-top, 0) auto auto var(--tool-tip-position-left, 0) !important;
        overflow: visible !important;
      }

      :host:before{
        position: absolute;
        z-index: 1000001;
        color: var(--color-neutral-emphasis-plus);
        content: "";
        border: 6px solid transparent;
        opacity: 0
      }

      @keyframes tooltip-appear {
        from {
          opacity: 0;
        }
        to {
          opacity: 1
        }
      }

      :host:after{
        position: absolute;
        display: block;
        right: 0;
        left: 0;
        height: 12px;
        content: ""
      }

      :host(:popover-open),
      :host(:popover-open):before {
        animation-name: tooltip-appear;
        animation-duration: .1s;
        animation-fill-mode: forwards;
        animation-timing-function: ease-in;
        animation-delay: .4s
      }

      :host(.\:popover-open),
      :host(.\:popover-open):before {
        animation-name: tooltip-appear;
        animation-duration: .1s;
        animation-fill-mode: forwards;
        animation-timing-function: ease-in;
        animation-delay: .4s
      }

      :host(.tooltip-s):before,
      :host(.tooltip-n):before {
        right: 50%;
        margin-right: -6px;
      }

      :host(.tooltip-s):before,
      :host(.tooltip-se):before,
      :host(.tooltip-sw):before {
        bottom: 100%;
        border-bottom-color: var(--color-neutral-emphasis-plus)
      }

      :host(.tooltip-s):after,
      :host(.tooltip-se):after,
      :host(.tooltip-sw):after {
        bottom: 100%
      }

      :host(.tooltip-n):before,
      :host(.tooltip-ne):before,
      :host(.tooltip-nw):before {
        top: 100%;
        border-top-color: var(--color-neutral-emphasis-plus)
      }

      :host(.tooltip-n):after,
      :host(.tooltip-ne):after,
      :host(.tooltip-nw):after {
        top: 100%
      }

      :host(.tooltip-se):before,
      :host(.tooltip-ne):before {
        left: 0;
        margin-left: 6px;
      }

      :host(.tooltip-sw):before,
      :host(.tooltip-nw):before {
        right: 0;
        margin-right: 6px;
      }

      :host(.tooltip-w):before {
        top: 50%;
        bottom: 50%;
        left: 100%;
        margin-top: -6px;
        border-left-color: var(--color-neutral-emphasis-plus)
      }

      :host(.tooltip-e):before {
        top: 50%;
        right: 100%;
        bottom: 50%;
        margin-top: -6px;
        border-right-color: var(--color-neutral-emphasis-plus)
      }
    </style><slot></slot></template>Clear Command Palette</tool-tip>
</div>
      </command-palette-input>

      <command-palette-page-stack data-default-scope-id="R_kgDOJlKGNg" data-default-scope-type="Repository" data-action="command-palette-page-octicons-cached:command-palette-page-stack#cacheOcticons" data-current-mode="" data-catalyst="" data-target="command-palette.pageStack" data-current-query-text="">
          <command-palette-tip class="color-fg-muted f6 px-3 py-1 my-2" data-scope-types="[&quot;&quot;,&quot;owner&quot;,&quot;repository&quot;]" data-mode="" data-value="" data-match-mode="" data-catalyst="" hidden="">
            <div class="d-flex flex-items-start flex-justify-between">
              <div>
                <span class="text-bold">Tip:</span>
                  Type <kbd class="hx_kbd">#</kbd> to search pull requests
              </div>
              <div class="ml-2 flex-shrink-0">
                Type <kbd class="hx_kbd">?</kbd> for help and tips
              </div>
            </div>
          </command-palette-tip>
          <command-palette-tip class="color-fg-muted f6 px-3 py-1 my-2" data-scope-types="[&quot;&quot;,&quot;owner&quot;,&quot;repository&quot;]" data-mode="" data-value="" data-match-mode="" data-catalyst="" hidden="">
            <div class="d-flex flex-items-start flex-justify-between">
              <div>
                <span class="text-bold">Tip:</span>
                  Type <kbd class="hx_kbd">#</kbd> to search issues
              </div>
              <div class="ml-2 flex-shrink-0">
                Type <kbd class="hx_kbd">?</kbd> for help and tips
              </div>
            </div>
          </command-palette-tip>
          <command-palette-tip class="color-fg-muted f6 px-3 py-1 my-2" data-scope-types="[&quot;owner&quot;,&quot;repository&quot;]" data-mode="" data-value="" data-match-mode="" data-catalyst="" hidden="">
            <div class="d-flex flex-items-start flex-justify-between">
              <div>
                <span class="text-bold">Tip:</span>
                  Type <kbd class="hx_kbd">#</kbd> to search discussions
              </div>
              <div class="ml-2 flex-shrink-0">
                Type <kbd class="hx_kbd">?</kbd> for help and tips
              </div>
            </div>
          </command-palette-tip>
          <command-palette-tip class="color-fg-muted f6 px-3 py-1 my-2" data-scope-types="[&quot;owner&quot;,&quot;repository&quot;]" data-mode="" data-value="" data-match-mode="" data-catalyst="" hidden="">
            <div class="d-flex flex-items-start flex-justify-between">
              <div>
                <span class="text-bold">Tip:</span>
                  Type <kbd class="hx_kbd">!</kbd> to search projects
              </div>
              <div class="ml-2 flex-shrink-0">
                Type <kbd class="hx_kbd">?</kbd> for help and tips
              </div>
            </div>
          </command-palette-tip>
          <command-palette-tip class="color-fg-muted f6 px-3 py-1 my-2" data-scope-types="[&quot;owner&quot;]" data-mode="" data-value="" data-match-mode="" data-catalyst="" hidden="">
            <div class="d-flex flex-items-start flex-justify-between">
              <div>
                <span class="text-bold">Tip:</span>
                  Type <kbd class="hx_kbd">@</kbd> to search teams
              </div>
              <div class="ml-2 flex-shrink-0">
                Type <kbd class="hx_kbd">?</kbd> for help and tips
              </div>
            </div>
          </command-palette-tip>
          <command-palette-tip class="color-fg-muted f6 px-3 py-1 my-2" data-scope-types="[&quot;&quot;]" data-mode="" data-value="" data-match-mode="" data-catalyst="" hidden="">
            <div class="d-flex flex-items-start flex-justify-between">
              <div>
                <span class="text-bold">Tip:</span>
                  Type <kbd class="hx_kbd">@</kbd> to search people and organizations
              </div>
              <div class="ml-2 flex-shrink-0">
                Type <kbd class="hx_kbd">?</kbd> for help and tips
              </div>
            </div>
          </command-palette-tip>
          <command-palette-tip class="color-fg-muted f6 px-3 py-1 my-2" data-scope-types="[&quot;&quot;,&quot;owner&quot;,&quot;repository&quot;]" data-mode="" data-value="" data-match-mode="" data-catalyst="" hidden="">
            <div class="d-flex flex-items-start flex-justify-between">
              <div>
                <span class="text-bold">Tip:</span>
                  Type <kbd class="hx_kbd">&gt;</kbd> to activate command mode
              </div>
              <div class="ml-2 flex-shrink-0">
                Type <kbd class="hx_kbd">?</kbd> for help and tips
              </div>
            </div>
          </command-palette-tip>
          <command-palette-tip class="color-fg-muted f6 px-3 py-1 my-2" data-scope-types="[&quot;&quot;,&quot;owner&quot;,&quot;repository&quot;]" data-mode="" data-value="" data-match-mode="" data-catalyst="" hidden="">
            <div class="d-flex flex-items-start flex-justify-between">
              <div>
                <span class="text-bold">Tip:</span>
                  Go to your accessibility settings to change your keyboard shortcuts
              </div>
              <div class="ml-2 flex-shrink-0">
                Type <kbd class="hx_kbd">?</kbd> for help and tips
              </div>
            </div>
          </command-palette-tip>
          <command-palette-tip class="color-fg-muted f6 px-3 py-1 my-2" data-scope-types="[&quot;&quot;,&quot;owner&quot;,&quot;repository&quot;]" data-mode="#" data-value="" data-match-mode="" data-catalyst="" hidden="">
            <div class="d-flex flex-items-start flex-justify-between">
              <div>
                <span class="text-bold">Tip:</span>
                  Type author:@me to search your content
              </div>
              <div class="ml-2 flex-shrink-0">
                Type <kbd class="hx_kbd">?</kbd> for help and tips
              </div>
            </div>
          </command-palette-tip>
          <command-palette-tip class="color-fg-muted f6 px-3 py-1 my-2" data-scope-types="[&quot;&quot;,&quot;owner&quot;,&quot;repository&quot;]" data-mode="#" data-value="" data-match-mode="" data-catalyst="" hidden="">
            <div class="d-flex flex-items-start flex-justify-between">
              <div>
                <span class="text-bold">Tip:</span>
                  Type is:pr to filter to pull requests
              </div>
              <div class="ml-2 flex-shrink-0">
                Type <kbd class="hx_kbd">?</kbd> for help and tips
              </div>
            </div>
          </command-palette-tip>
          <command-palette-tip class="color-fg-muted f6 px-3 py-1 my-2" data-scope-types="[&quot;&quot;,&quot;owner&quot;,&quot;repository&quot;]" data-mode="#" data-value="" data-match-mode="" data-catalyst="" hidden="">
            <div class="d-flex flex-items-start flex-justify-between">
              <div>
                <span class="text-bold">Tip:</span>
                  Type is:issue to filter to issues
              </div>
              <div class="ml-2 flex-shrink-0">
                Type <kbd class="hx_kbd">?</kbd> for help and tips
              </div>
            </div>
          </command-palette-tip>
          <command-palette-tip class="color-fg-muted f6 px-3 py-1 my-2" data-scope-types="[&quot;owner&quot;,&quot;repository&quot;]" data-mode="#" data-value="" data-match-mode="" data-catalyst="" hidden="">
            <div class="d-flex flex-items-start flex-justify-between">
              <div>
                <span class="text-bold">Tip:</span>
                  Type is:project to filter to projects
              </div>
              <div class="ml-2 flex-shrink-0">
                Type <kbd class="hx_kbd">?</kbd> for help and tips
              </div>
            </div>
          </command-palette-tip>
          <command-palette-tip class="color-fg-muted f6 px-3 py-1 my-2" data-scope-types="[&quot;&quot;,&quot;owner&quot;,&quot;repository&quot;]" data-mode="#" data-value="" data-match-mode="" data-catalyst="" hidden="">
            <div class="d-flex flex-items-start flex-justify-between">
              <div>
                <span class="text-bold">Tip:</span>
                  Type is:open to filter to open content
              </div>
              <div class="ml-2 flex-shrink-0">
                Type <kbd class="hx_kbd">?</kbd> for help and tips
              </div>
            </div>
          </command-palette-tip>
        <command-palette-tip class="mx-3 my-2 flash flash-error d-flex flex-items-center" data-scope-types="*" data-on-error="" data-mode="*" data-catalyst="" hidden="" data-match-mode="" data-value="*">
          <div>
            <svg aria-hidden="true" height="16" viewBox="0 0 16 16" version="1.1" width="16" data-view-component="true" class="octicon octicon-alert">
    <path d="M6.457 1.047c.659-1.234 2.427-1.234 3.086 0l6.082 11.378A1.75 1.75 0 0 1 14.082 15H1.918a1.75 1.75 0 0 1-1.543-2.575Zm1.763.707a.25.25 0 0 0-.44 0L1.698 13.132a.25.25 0 0 0 .22.368h12.164a.25.25 0 0 0 .22-.368Zm.53 3.996v2.5a.75.75 0 0 1-1.5 0v-2.5a.75.75 0 0 1 1.5 0ZM9 11a1 1 0 1 1-2 0 1 1 0 0 1 2 0Z"></path>
</svg>
          </div>
          <div class="px-2">
            We’ve encountered an error and some results aren't available at this time. Type a new search or try again later.
          </div>
        </command-palette-tip>
        <command-palette-tip class="h4 color-fg-default pl-3 pb-2 pt-3" data-on-empty="" data-scope-types="*" data-match-mode="[^?]|^$" data-mode="*" data-catalyst="" hidden="" data-value="*">
          No results matched your search
        </command-palette-tip>

        <div hidden="">

            <div data-targets="command-palette-page-stack.localOcticons" data-octicon-id="arrow-right-color-fg-muted">
              <svg height="16" class="octicon octicon-arrow-right color-fg-muted" viewBox="0 0 16 16" version="1.1" width="16" aria-hidden="true"><path d="M8.22 2.97a.75.75 0 0 1 1.06 0l4.25 4.25a.75.75 0 0 1 0 1.06l-4.25 4.25a.751.751 0 0 1-1.042-.018.751.751 0 0 1-.018-1.042l2.97-2.97H3.75a.75.75 0 0 1 0-1.5h7.44L8.22 4.03a.75.75 0 0 1 0-1.06Z"></path></svg>
            </div>
            <div data-targets="command-palette-page-stack.localOcticons" data-octicon-id="arrow-right-color-fg-default">
              <svg height="16" class="octicon octicon-arrow-right color-fg-default" viewBox="0 0 16 16" version="1.1" width="16" aria-hidden="true"><path d="M8.22 2.97a.75.75 0 0 1 1.06 0l4.25 4.25a.75.75 0 0 1 0 1.06l-4.25 4.25a.751.751 0 0 1-1.042-.018.751.751 0 0 1-.018-1.042l2.97-2.97H3.75a.75.75 0 0 1 0-1.5h7.44L8.22 4.03a.75.75 0 0 1 0-1.06Z"></path></svg>
            </div>
            <div data-targets="command-palette-page-stack.localOcticons" data-octicon-id="codespaces-color-fg-muted">
              <svg height="16" class="octicon octicon-codespaces color-fg-muted" viewBox="0 0 16 16" version="1.1" width="16" aria-hidden="true"><path d="M0 11.25c0-.966.784-1.75 1.75-1.75h12.5c.966 0 1.75.784 1.75 1.75v3A1.75 1.75 0 0 1 14.25 16H1.75A1.75 1.75 0 0 1 0 14.25Zm2-9.5C2 .784 2.784 0 3.75 0h8.5C13.216 0 14 .784 14 1.75v5a1.75 1.75 0 0 1-1.75 1.75h-8.5A1.75 1.75 0 0 1 2 6.75Zm1.75-.25a.25.25 0 0 0-.25.25v5c0 .138.112.25.25.25h8.5a.25.25 0 0 0 .25-.25v-5a.25.25 0 0 0-.25-.25Zm-2 9.5a.25.25 0 0 0-.25.25v3c0 .138.112.25.25.25h12.5a.25.25 0 0 0 .25-.25v-3a.25.25 0 0 0-.25-.25Z"></path><path d="M7 12.75a.75.75 0 0 1 .75-.75h4.5a.75.75 0 0 1 0 1.5h-4.5a.75.75 0 0 1-.75-.75Zm-4 0a.75.75 0 0 1 .75-.75h.5a.75.75 0 0 1 0 1.5h-.5a.75.75 0 0 1-.75-.75Z"></path></svg>
            </div>
            <div data-targets="command-palette-page-stack.localOcticons" data-octicon-id="copy-color-fg-muted">
              <svg height="16" class="octicon octicon-copy color-fg-muted" viewBox="0 0 16 16" version="1.1" width="16" aria-hidden="true"><path d="M0 6.75C0 5.784.784 5 1.75 5h1.5a.75.75 0 0 1 0 1.5h-1.5a.25.25 0 0 0-.25.25v7.5c0 .138.112.25.25.25h7.5a.25.25 0 0 0 .25-.25v-1.5a.75.75 0 0 1 1.5 0v1.5A1.75 1.75 0 0 1 9.25 16h-7.5A1.75 1.75 0 0 1 0 14.25Z"></path><path d="M5 1.75C5 .784 5.784 0 6.75 0h7.5C15.216 0 16 .784 16 1.75v7.5A1.75 1.75 0 0 1 14.25 11h-7.5A1.75 1.75 0 0 1 5 9.25Zm1.75-.25a.25.25 0 0 0-.25.25v7.5c0 .138.112.25.25.25h7.5a.25.25 0 0 0 .25-.25v-7.5a.25.25 0 0 0-.25-.25Z"></path></svg>
            </div>
            <div data-targets="command-palette-page-stack.localOcticons" data-octicon-id="dash-color-fg-muted">
              <svg height="16" class="octicon octicon-dash color-fg-muted" viewBox="0 0 16 16" version="1.1" width="16" aria-hidden="true"><path d="M2 7.75A.75.75 0 0 1 2.75 7h10a.75.75 0 0 1 0 1.5h-10A.75.75 0 0 1 2 7.75Z"></path></svg>
            </div>
            <div data-targets="command-palette-page-stack.localOcticons" data-octicon-id="file-color-fg-muted">
              <svg height="16" class="octicon octicon-file color-fg-muted" viewBox="0 0 16 16" version="1.1" width="16" aria-hidden="true"><path d="M2 1.75C2 .784 2.784 0 3.75 0h6.586c.464 0 .909.184 1.237.513l2.914 2.914c.329.328.513.773.513 1.237v9.586A1.75 1.75 0 0 1 13.25 16h-9.5A1.75 1.75 0 0 1 2 14.25Zm1.75-.25a.25.25 0 0 0-.25.25v12.5c0 .138.112.25.25.25h9.5a.25.25 0 0 0 .25-.25V6h-2.75A1.75 1.75 0 0 1 9 4.25V1.5Zm6.75.062V4.25c0 .138.112.25.25.25h2.688l-.011-.013-2.914-2.914-.013-.011Z"></path></svg>
            </div>
            <div data-targets="command-palette-page-stack.localOcticons" data-octicon-id="gear-color-fg-muted">
              <svg height="16" class="octicon octicon-gear color-fg-muted" viewBox="0 0 16 16" version="1.1" width="16" aria-hidden="true"><path d="M8 0a8.2 8.2 0 0 1 .701.031C9.444.095 9.99.645 10.16 1.29l.288 1.107c.018.066.079.158.212.224.231.114.454.243.668.386.123.082.233.09.299.071l1.103-.303c.644-.176 1.392.021 1.82.63.27.385.506.792.704 1.218.315.675.111 1.422-.364 1.891l-.814.806c-.049.048-.098.147-.088.294.016.257.016.515 0 .772-.01.147.038.246.088.294l.814.806c.475.469.679 1.216.364 1.891a7.977 7.977 0 0 1-.704 1.217c-.428.61-1.176.807-1.82.63l-1.102-.302c-.067-.019-.177-.011-.3.071a5.909 5.909 0 0 1-.668.386c-.133.066-.194.158-.211.224l-.29 1.106c-.168.646-.715 1.196-1.458 1.26a8.006 8.006 0 0 1-1.402 0c-.743-.064-1.289-.614-1.458-1.26l-.289-1.106c-.018-.066-.079-.158-.212-.224a5.738 5.738 0 0 1-.668-.386c-.123-.082-.233-.09-.299-.071l-1.103.303c-.644.176-1.392-.021-1.82-.63a8.12 8.12 0 0 1-.704-1.218c-.315-.675-.111-1.422.363-1.891l.815-.806c.05-.048.098-.147.088-.294a6.214 6.214 0 0 1 0-.772c.01-.147-.038-.246-.088-.294l-.815-.806C.635 6.045.431 5.298.746 4.623a7.92 7.92 0 0 1 .704-1.217c.428-.61 1.176-.807 1.82-.63l1.102.302c.067.019.177.011.3-.071.214-.143.437-.272.668-.386.133-.066.194-.158.211-.224l.29-1.106C6.009.645 6.556.095 7.299.03 7.53.01 7.764 0 8 0Zm-.571 1.525c-.036.003-.108.036-.137.146l-.289 1.105c-.147.561-.549.967-.998 1.189-.173.086-.34.183-.5.29-.417.278-.97.423-1.529.27l-1.103-.303c-.109-.03-.175.016-.195.045-.22.312-.412.644-.573.99-.014.031-.021.11.059.19l.815.806c.411.406.562.957.53 1.456a4.709 4.709 0 0 0 0 .582c.032.499-.119 1.05-.53 1.456l-.815.806c-.081.08-.073.159-.059.19.162.346.353.677.573.989.02.03.085.076.195.046l1.102-.303c.56-.153 1.113-.008 1.53.27.161.107.328.204.501.29.447.222.85.629.997 1.189l.289 1.105c.029.109.101.143.137.146a6.6 6.6 0 0 0 1.142 0c.036-.003.108-.036.137-.146l.289-1.105c.147-.561.549-.967.998-1.189.173-.086.34-.183.5-.29.417-.278.97-.423 1.529-.27l1.103.303c.109.029.175-.016.195-.045.22-.313.411-.644.573-.99.014-.031.021-.11-.059-.19l-.815-.806c-.411-.406-.562-.957-.53-1.456a4.709 4.709 0 0 0 0-.582c-.032-.499.119-1.05.53-1.456l.815-.806c.081-.08.073-.159.059-.19a6.464 6.464 0 0 0-.573-.989c-.02-.03-.085-.076-.195-.046l-1.102.303c-.56.153-1.113.008-1.53-.27a4.44 4.44 0 0 0-.501-.29c-.447-.222-.85-.629-.997-1.189l-.289-1.105c-.029-.11-.101-.143-.137-.146a6.6 6.6 0 0 0-1.142 0ZM11 8a3 3 0 1 1-6 0 3 3 0 0 1 6 0ZM9.5 8a1.5 1.5 0 1 0-3.001.001A1.5 1.5 0 0 0 9.5 8Z"></path></svg>
            </div>
            <div data-targets="command-palette-page-stack.localOcticons" data-octicon-id="lock-color-fg-muted">
              <svg height="16" class="octicon octicon-lock color-fg-muted" viewBox="0 0 16 16" version="1.1" width="16" aria-hidden="true"><path d="M4 4a4 4 0 0 1 8 0v2h.25c.966 0 1.75.784 1.75 1.75v5.5A1.75 1.75 0 0 1 12.25 15h-8.5A1.75 1.75 0 0 1 2 13.25v-5.5C2 6.784 2.784 6 3.75 6H4Zm8.25 3.5h-8.5a.25.25 0 0 0-.25.25v5.5c0 .138.112.25.25.25h8.5a.25.25 0 0 0 .25-.25v-5.5a.25.25 0 0 0-.25-.25ZM10.5 6V4a2.5 2.5 0 1 0-5 0v2Z"></path></svg>
            </div>
            <div data-targets="command-palette-page-stack.localOcticons" data-octicon-id="moon-color-fg-muted">
              <svg height="16" class="octicon octicon-moon color-fg-muted" viewBox="0 0 16 16" version="1.1" width="16" aria-hidden="true"><path d="M9.598 1.591a.749.749 0 0 1 .785-.175 7.001 7.001 0 1 1-8.967 8.967.75.75 0 0 1 .961-.96 5.5 5.5 0 0 0 7.046-7.046.75.75 0 0 1 .175-.786Zm1.616 1.945a7 7 0 0 1-7.678 7.678 5.499 5.499 0 1 0 7.678-7.678Z"></path></svg>
            </div>
            <div data-targets="command-palette-page-stack.localOcticons" data-octicon-id="person-color-fg-muted">
              <svg height="16" class="octicon octicon-person color-fg-muted" viewBox="0 0 16 16" version="1.1" width="16" aria-hidden="true"><path d="M10.561 8.073a6.005 6.005 0 0 1 3.432 5.142.75.75 0 1 1-1.498.07 4.5 4.5 0 0 0-8.99 0 .75.75 0 0 1-1.498-.07 6.004 6.004 0 0 1 3.431-5.142 3.999 3.999 0 1 1 5.123 0ZM10.5 5a2.5 2.5 0 1 0-5 0 2.5 2.5 0 0 0 5 0Z"></path></svg>
            </div>
            <div data-targets="command-palette-page-stack.localOcticons" data-octicon-id="pencil-color-fg-muted">
              <svg height="16" class="octicon octicon-pencil color-fg-muted" viewBox="0 0 16 16" version="1.1" width="16" aria-hidden="true"><path d="M11.013 1.427a1.75 1.75 0 0 1 2.474 0l1.086 1.086a1.75 1.75 0 0 1 0 2.474l-8.61 8.61c-.21.21-.47.364-.756.445l-3.251.93a.75.75 0 0 1-.927-.928l.929-3.25c.081-.286.235-.547.445-.758l8.61-8.61Zm.176 4.823L9.75 4.81l-6.286 6.287a.253.253 0 0 0-.064.108l-.558 1.953 1.953-.558a.253.253 0 0 0 .108-.064Zm1.238-3.763a.25.25 0 0 0-.354 0L10.811 3.75l1.439 1.44 1.263-1.263a.25.25 0 0 0 0-.354Z"></path></svg>
            </div>
            <div data-targets="command-palette-page-stack.localOcticons" data-octicon-id="issue-opened-open">
              <svg height="16" class="octicon octicon-issue-opened open" viewBox="0 0 16 16" version="1.1" width="16" aria-hidden="true"><path d="M8 9.5a1.5 1.5 0 1 0 0-3 1.5 1.5 0 0 0 0 3Z"></path><path d="M8 0a8 8 0 1 1 0 16A8 8 0 0 1 8 0ZM1.5 8a6.5 6.5 0 1 0 13 0 6.5 6.5 0 0 0-13 0Z"></path></svg>
            </div>
            <div data-targets="command-palette-page-stack.localOcticons" data-octicon-id="git-pull-request-draft-color-fg-muted">
              <svg height="16" class="octicon octicon-git-pull-request-draft color-fg-muted" viewBox="0 0 16 16" version="1.1" width="16" aria-hidden="true"><path d="M3.25 1A2.25 2.25 0 0 1 4 5.372v5.256a2.251 2.251 0 1 1-1.5 0V5.372A2.251 2.251 0 0 1 3.25 1Zm9.5 14a2.25 2.25 0 1 1 0-4.5 2.25 2.25 0 0 1 0 4.5ZM2.5 3.25a.75.75 0 1 0 1.5 0 .75.75 0 0 0-1.5 0ZM3.25 12a.75.75 0 1 0 0 1.5.75.75 0 0 0 0-1.5Zm9.5 0a.75.75 0 1 0 0 1.5.75.75 0 0 0 0-1.5ZM14 7.5a1.25 1.25 0 1 1-2.5 0 1.25 1.25 0 0 1 2.5 0Zm0-4.25a1.25 1.25 0 1 1-2.5 0 1.25 1.25 0 0 1 2.5 0Z"></path></svg>
            </div>
            <div data-targets="command-palette-page-stack.localOcticons" data-octicon-id="search-color-fg-muted">
              <svg height="16" class="octicon octicon-search color-fg-muted" viewBox="0 0 16 16" version="1.1" width="16" aria-hidden="true"><path d="M10.68 11.74a6 6 0 0 1-7.922-8.982 6 6 0 0 1 8.982 7.922l3.04 3.04a.749.749 0 0 1-.326 1.275.749.749 0 0 1-.734-.215ZM11.5 7a4.499 4.499 0 1 0-8.997 0A4.499 4.499 0 0 0 11.5 7Z"></path></svg>
            </div>
            <div data-targets="command-palette-page-stack.localOcticons" data-octicon-id="sun-color-fg-muted">
              <svg height="16" class="octicon octicon-sun color-fg-muted" viewBox="0 0 16 16" version="1.1" width="16" aria-hidden="true"><path d="M8 12a4 4 0 1 1 0-8 4 4 0 0 1 0 8Zm0-1.5a2.5 2.5 0 1 0 0-5 2.5 2.5 0 0 0 0 5Zm5.657-8.157a.75.75 0 0 1 0 1.061l-1.061 1.06a.749.749 0 0 1-1.275-.326.749.749 0 0 1 .215-.734l1.06-1.06a.75.75 0 0 1 1.06 0Zm-9.193 9.193a.75.75 0 0 1 0 1.06l-1.06 1.061a.75.75 0 1 1-1.061-1.06l1.06-1.061a.75.75 0 0 1 1.061 0ZM8 0a.75.75 0 0 1 .75.75v1.5a.75.75 0 0 1-1.5 0V.75A.75.75 0 0 1 8 0ZM3 8a.75.75 0 0 1-.75.75H.75a.75.75 0 0 1 0-1.5h1.5A.75.75 0 0 1 3 8Zm13 0a.75.75 0 0 1-.75.75h-1.5a.75.75 0 0 1 0-1.5h1.5A.75.75 0 0 1 16 8Zm-8 5a.75.75 0 0 1 .75.75v1.5a.75.75 0 0 1-1.5 0v-1.5A.75.75 0 0 1 8 13Zm3.536-1.464a.75.75 0 0 1 1.06 0l1.061 1.06a.75.75 0 0 1-1.06 1.061l-1.061-1.06a.75.75 0 0 1 0-1.061ZM2.343 2.343a.75.75 0 0 1 1.061 0l1.06 1.061a.751.751 0 0 1-.018 1.042.751.751 0 0 1-1.042.018l-1.06-1.06a.75.75 0 0 1 0-1.06Z"></path></svg>
            </div>
            <div data-targets="command-palette-page-stack.localOcticons" data-octicon-id="sync-color-fg-muted">
              <svg height="16" class="octicon octicon-sync color-fg-muted" viewBox="0 0 16 16" version="1.1" width="16" aria-hidden="true"><path d="M1.705 8.005a.75.75 0 0 1 .834.656 5.5 5.5 0 0 0 9.592 2.97l-1.204-1.204a.25.25 0 0 1 .177-.427h3.646a.25.25 0 0 1 .25.25v3.646a.25.25 0 0 1-.427.177l-1.38-1.38A7.002 7.002 0 0 1 1.05 8.84a.75.75 0 0 1 .656-.834ZM8 2.5a5.487 5.487 0 0 0-4.131 1.869l1.204 1.204A.25.25 0 0 1 4.896 6H1.25A.25.25 0 0 1 1 5.75V2.104a.25.25 0 0 1 .427-.177l1.38 1.38A7.002 7.002 0 0 1 14.95 7.16a.75.75 0 0 1-1.49.178A5.5 5.5 0 0 0 8 2.5Z"></path></svg>
            </div>
            <div data-targets="command-palette-page-stack.localOcticons" data-octicon-id="trash-color-fg-muted">
              <svg height="16" class="octicon octicon-trash color-fg-muted" viewBox="0 0 16 16" version="1.1" width="16" aria-hidden="true"><path d="M11 1.75V3h2.25a.75.75 0 0 1 0 1.5H2.75a.75.75 0 0 1 0-1.5H5V1.75C5 .784 5.784 0 6.75 0h2.5C10.216 0 11 .784 11 1.75ZM4.496 6.675l.66 6.6a.25.25 0 0 0 .249.225h5.19a.25.25 0 0 0 .249-.225l.66-6.6a.75.75 0 0 1 1.492.149l-.66 6.6A1.748 1.748 0 0 1 10.595 15h-5.19a1.75 1.75 0 0 1-1.741-1.575l-.66-6.6a.75.75 0 1 1 1.492-.15ZM6.5 1.75V3h3V1.75a.25.25 0 0 0-.25-.25h-2.5a.25.25 0 0 0-.25.25Z"></path></svg>
            </div>
            <div data-targets="command-palette-page-stack.localOcticons" data-octicon-id="key-color-fg-muted">
              <svg height="16" class="octicon octicon-key color-fg-muted" viewBox="0 0 16 16" version="1.1" width="16" aria-hidden="true"><path d="M10.5 0a5.499 5.499 0 1 1-1.288 10.848l-.932.932a.749.749 0 0 1-.53.22H7v.75a.749.749 0 0 1-.22.53l-.5.5a.749.749 0 0 1-.53.22H5v.75a.749.749 0 0 1-.22.53l-.5.5a.749.749 0 0 1-.53.22h-2A1.75 1.75 0 0 1 0 14.25v-2c0-.199.079-.389.22-.53l4.932-4.932A5.5 5.5 0 0 1 10.5 0Zm-4 5.5c-.001.431.069.86.205 1.269a.75.75 0 0 1-.181.768L1.5 12.56v1.69c0 .138.112.25.25.25h1.69l.06-.06v-1.19a.75.75 0 0 1 .75-.75h1.19l.06-.06v-1.19a.75.75 0 0 1 .75-.75h1.19l1.023-1.025a.75.75 0 0 1 .768-.18A4 4 0 1 0 6.5 5.5ZM11 6a1 1 0 1 1 0-2 1 1 0 0 1 0 2Z"></path></svg>
            </div>
            <div data-targets="command-palette-page-stack.localOcticons" data-octicon-id="comment-discussion-color-fg-muted">
              <svg height="16" class="octicon octicon-comment-discussion color-fg-muted" viewBox="0 0 16 16" version="1.1" width="16" aria-hidden="true"><path d="M1.75 1h8.5c.966 0 1.75.784 1.75 1.75v5.5A1.75 1.75 0 0 1 10.25 10H7.061l-2.574 2.573A1.458 1.458 0 0 1 2 11.543V10h-.25A1.75 1.75 0 0 1 0 8.25v-5.5C0 1.784.784 1 1.75 1ZM1.5 2.75v5.5c0 .138.112.25.25.25h1a.75.75 0 0 1 .75.75v2.19l2.72-2.72a.749.749 0 0 1 .53-.22h3.5a.25.25 0 0 0 .25-.25v-5.5a.25.25 0 0 0-.25-.25h-8.5a.25.25 0 0 0-.25.25Zm13 2a.25.25 0 0 0-.25-.25h-.5a.75.75 0 0 1 0-1.5h.5c.966 0 1.75.784 1.75 1.75v5.5A1.75 1.75 0 0 1 14.25 12H14v1.543a1.458 1.458 0 0 1-2.487 1.03L9.22 12.28a.749.749 0 0 1 .326-1.275.749.749 0 0 1 .734.215l2.22 2.22v-2.19a.75.75 0 0 1 .75-.75h1a.25.25 0 0 0 .25-.25Z"></path></svg>
            </div>
            <div data-targets="command-palette-page-stack.localOcticons" data-octicon-id="bell-color-fg-muted">
              <svg height="16" class="octicon octicon-bell color-fg-muted" viewBox="0 0 16 16" version="1.1" width="16" aria-hidden="true"><path d="M8 16a2 2 0 0 0 1.985-1.75c.017-.137-.097-.25-.235-.25h-3.5c-.138 0-.252.113-.235.25A2 2 0 0 0 8 16ZM3 5a5 5 0 0 1 10 0v2.947c0 .05.015.098.042.139l1.703 2.555A1.519 1.519 0 0 1 13.482 13H2.518a1.516 1.516 0 0 1-1.263-2.36l1.703-2.554A.255.255 0 0 0 3 7.947Zm5-3.5A3.5 3.5 0 0 0 4.5 5v2.947c0 .346-.102.683-.294.97l-1.703 2.556a.017.017 0 0 0-.003.01l.001.006c0 .002.002.004.004.006l.006.004.007.001h10.964l.007-.001.006-.004.004-.006.001-.007a.017.017 0 0 0-.003-.01l-1.703-2.554a1.745 1.745 0 0 1-.294-.97V5A3.5 3.5 0 0 0 8 1.5Z"></path></svg>
            </div>
            <div data-targets="command-palette-page-stack.localOcticons" data-octicon-id="bell-slash-color-fg-muted">
              <svg height="16" class="octicon octicon-bell-slash color-fg-muted" viewBox="0 0 16 16" version="1.1" width="16" aria-hidden="true"><path d="m4.182 4.31.016.011 10.104 7.316.013.01 1.375.996a.75.75 0 1 1-.88 1.214L13.626 13H2.518a1.516 1.516 0 0 1-1.263-2.36l1.703-2.554A.255.255 0 0 0 3 7.947V5.305L.31 3.357a.75.75 0 1 1 .88-1.214Zm7.373 7.19L4.5 6.391v1.556c0 .346-.102.683-.294.97l-1.703 2.556a.017.017 0 0 0-.003.01c0 .005.002.009.005.012l.006.004.007.001ZM8 1.5c-.997 0-1.895.416-2.534 1.086A.75.75 0 1 1 4.38 1.55 5 5 0 0 1 13 5v2.373a.75.75 0 0 1-1.5 0V5A3.5 3.5 0 0 0 8 1.5ZM8 16a2 2 0 0 1-1.985-1.75c-.017-.137.097-.25.235-.25h3.5c.138 0 .252.113.235.25A2 2 0 0 1 8 16Z"></path></svg>
            </div>
            <div data-targets="command-palette-page-stack.localOcticons" data-octicon-id="paintbrush-color-fg-muted">
              <svg height="16" class="octicon octicon-paintbrush color-fg-muted" viewBox="0 0 16 16" version="1.1" width="16" aria-hidden="true"><path d="M11.134 1.535c.7-.509 1.416-.942 2.076-1.155.649-.21 1.463-.267 2.069.34.603.601.568 1.411.368 2.07-.202.668-.624 1.39-1.125 2.096-1.011 1.424-2.496 2.987-3.775 4.249-1.098 1.084-2.132 1.839-3.04 2.3a3.744 3.744 0 0 1-1.055 3.217c-.431.431-1.065.691-1.657.861-.614.177-1.294.287-1.914.357A21.151 21.151 0 0 1 .797 16H.743l.007-.75H.749L.742 16a.75.75 0 0 1-.743-.742l.743-.008-.742.007v-.054a21.25 21.25 0 0 1 .13-2.284c.067-.647.187-1.287.358-1.914.17-.591.43-1.226.86-1.657a3.746 3.746 0 0 1 3.227-1.054c.466-.893 1.225-1.907 2.314-2.982 1.271-1.255 2.833-2.75 4.245-3.777ZM1.62 13.089c-.051.464-.086.929-.104 1.395.466-.018.932-.053 1.396-.104a10.511 10.511 0 0 0 1.668-.309c.526-.151.856-.325 1.011-.48a2.25 2.25 0 1 0-3.182-3.182c-.155.155-.329.485-.48 1.01a10.515 10.515 0 0 0-.309 1.67Zm10.396-10.34c-1.224.89-2.605 2.189-3.822 3.384l1.718 1.718c1.21-1.205 2.51-2.597 3.387-3.833.47-.662.78-1.227.912-1.662.134-.444.032-.551.009-.575h-.001V1.78c-.014-.014-.113-.113-.548.027-.432.14-.995.462-1.655.942Zm-4.832 7.266-.001.001a9.859 9.859 0 0 0 1.63-1.142L7.155 7.216a9.7 9.7 0 0 0-1.161 1.607c.482.302.889.71 1.19 1.192Z"></path></svg>
            </div>

            <command-palette-item-group data-group-id="top" data-group-title="Top result" data-group-hint="" data-group-limits="{}" data-default-priority="0" data-catalyst="" class="py-2 border-top" hidden="true" data-skip-template="">
            
          <div class="d-flex flex-justify-between my-2 px-3">
            <span data-target="command-palette-item-group.header" class="color-fg-muted text-bold f6 text-normal">
              Top result
            </span>
            <span data-target="command-palette-item-group.header" class="color-fg-muted f6 text-normal">
              
            </span>
          </div>
          <div role="listbox" class="list-style-none" data-target="command-palette-item-group.list" aria-label="Top result results"></div>
        </command-palette-item-group>
            <command-palette-item-group data-group-id="commands" data-group-title="Commands" data-group-hint="Type &gt; to filter" data-group-limits="{&quot;static_items_page&quot;:50,&quot;issue&quot;:50,&quot;pull_request&quot;:50,&quot;discussion&quot;:50}" data-default-priority="1" data-catalyst="" class="py-2 border-top" hidden="true" data-skip-template="">
            
          <div class="d-flex flex-justify-between my-2 px-3">
            <span data-target="command-palette-item-group.header" class="color-fg-muted text-bold f6 text-normal">
              Commands
            </span>
            <span data-target="command-palette-item-group.header" class="color-fg-muted f6 text-normal">
              Type &gt; to filter
            </span>
          </div>
          <div role="listbox" class="list-style-none" data-target="command-palette-item-group.list" aria-label="Commands results"></div>
        </command-palette-item-group>
            <command-palette-item-group data-group-id="global_commands" data-group-title="Global Commands" data-group-hint="Type &gt; to filter" data-group-limits="{&quot;issue&quot;:0,&quot;pull_request&quot;:0,&quot;discussion&quot;:0}" data-default-priority="2" data-catalyst="" class="py-2 border-top" hidden="true" data-skip-template="">
            
          <div class="d-flex flex-justify-between my-2 px-3">
            <span data-target="command-palette-item-group.header" class="color-fg-muted text-bold f6 text-normal">
              Global Commands
            </span>
            <span data-target="command-palette-item-group.header" class="color-fg-muted f6 text-normal">
              Type &gt; to filter
            </span>
          </div>
          <div role="listbox" class="list-style-none" data-target="command-palette-item-group.list" aria-label="Global Commands results"></div>
        </command-palette-item-group>
            <command-palette-item-group data-group-id="this_page" data-group-title="This Page" data-group-hint="" data-group-limits="{}" data-default-priority="3" data-catalyst="" class="py-2 border-top" hidden="true" data-skip-template="">
            
          <div class="d-flex flex-justify-between my-2 px-3">
            <span data-target="command-palette-item-group.header" class="color-fg-muted text-bold f6 text-normal">
              This Page
            </span>
            <span data-target="command-palette-item-group.header" class="color-fg-muted f6 text-normal">
              
            </span>
          </div>
          <div role="listbox" class="list-style-none" data-target="command-palette-item-group.list" aria-label="This Page results"></div>
        </command-palette-item-group>
            <command-palette-item-group data-group-id="files" data-group-title="Files" data-group-hint="" data-group-limits="{}" data-default-priority="4" data-catalyst="" class="py-2 border-top" hidden="true" data-skip-template="">
            
          <div class="d-flex flex-justify-between my-2 px-3">
            <span data-target="command-palette-item-group.header" class="color-fg-muted text-bold f6 text-normal">
              Files
            </span>
            <span data-target="command-palette-item-group.header" class="color-fg-muted f6 text-normal">
              
            </span>
          </div>
          <div role="listbox" class="list-style-none" data-target="command-palette-item-group.list" aria-label="Files results"></div>
        </command-palette-item-group>
            <command-palette-item-group data-group-id="default" data-group-title="Default" data-group-hint="" data-group-limits="{&quot;static_items_page&quot;:50}" data-default-priority="5" data-catalyst="" class="py-2 border-top" hidden="true" data-skip-template="">
            
          <div role="listbox" class="list-style-none" data-target="command-palette-item-group.list" aria-label="Default results"></div>
        </command-palette-item-group>
            <command-palette-item-group data-group-id="pages" data-group-title="Pages" data-group-hint="" data-group-limits="{&quot;repository&quot;:10}" data-default-priority="6" data-catalyst="" class="py-2 border-top" hidden="true" data-skip-template="">
            
          <div class="d-flex flex-justify-between my-2 px-3">
            <span data-target="command-palette-item-group.header" class="color-fg-muted text-bold f6 text-normal">
              Pages
            </span>
            <span data-target="command-palette-item-group.header" class="color-fg-muted f6 text-normal">
              
            </span>
          </div>
          <div role="listbox" class="list-style-none" data-target="command-palette-item-group.list" aria-label="Pages results"></div>
        </command-palette-item-group>
            <command-palette-item-group data-group-id="access_policies" data-group-title="Access Policies" data-group-hint="" data-group-limits="{}" data-default-priority="7" data-catalyst="" class="py-2 border-top" hidden="true" data-skip-template="">
            
          <div class="d-flex flex-justify-between my-2 px-3">
            <span data-target="command-palette-item-group.header" class="color-fg-muted text-bold f6 text-normal">
              Access Policies
            </span>
            <span data-target="command-palette-item-group.header" class="color-fg-muted f6 text-normal">
              
            </span>
          </div>
          <div role="listbox" class="list-style-none" data-target="command-palette-item-group.list" aria-label="Access Policies results"></div>
        </command-palette-item-group>
            <command-palette-item-group data-group-id="organizations" data-group-title="Organizations" data-group-hint="" data-group-limits="{}" data-default-priority="8" data-catalyst="" class="py-2 border-top" hidden="true" data-skip-template="">
            
          <div class="d-flex flex-justify-between my-2 px-3">
            <span data-target="command-palette-item-group.header" class="color-fg-muted text-bold f6 text-normal">
              Organizations
            </span>
            <span data-target="command-palette-item-group.header" class="color-fg-muted f6 text-normal">
              
            </span>
          </div>
          <div role="listbox" class="list-style-none" data-target="command-palette-item-group.list" aria-label="Organizations results"></div>
        </command-palette-item-group>
            <command-palette-item-group data-group-id="repositories" data-group-title="Repositories" data-group-hint="" data-group-limits="{}" data-default-priority="9" data-catalyst="" class="py-2 border-top" hidden="true" data-skip-template="">
            
          <div class="d-flex flex-justify-between my-2 px-3">
            <span data-target="command-palette-item-group.header" class="color-fg-muted text-bold f6 text-normal">
              Repositories
            </span>
            <span data-target="command-palette-item-group.header" class="color-fg-muted f6 text-normal">
              
            </span>
          </div>
          <div role="listbox" class="list-style-none" data-target="command-palette-item-group.list" aria-label="Repositories results"></div>
        </command-palette-item-group>
            <command-palette-item-group data-group-id="references" data-group-title="Issues, pull requests, and discussions" data-group-hint="Type # to filter" data-group-limits="{}" data-default-priority="10" data-catalyst="" class="py-2 border-top" hidden="true" data-skip-template="">
            
          <div class="d-flex flex-justify-between my-2 px-3">
            <span data-target="command-palette-item-group.header" class="color-fg-muted text-bold f6 text-normal">
              Issues, pull requests, and discussions
            </span>
            <span data-target="command-palette-item-group.header" class="color-fg-muted f6 text-normal">
              Type # to filter
            </span>
          </div>
          <div role="listbox" class="list-style-none" data-target="command-palette-item-group.list" aria-label="Issues, pull requests, and discussions results"></div>
        </command-palette-item-group>
            <command-palette-item-group data-group-id="teams" data-group-title="Teams" data-group-hint="" data-group-limits="{}" data-default-priority="11" data-catalyst="" class="py-2 border-top" hidden="true" data-skip-template="">
            
          <div class="d-flex flex-justify-between my-2 px-3">
            <span data-target="command-palette-item-group.header" class="color-fg-muted text-bold f6 text-normal">
              Teams
            </span>
            <span data-target="command-palette-item-group.header" class="color-fg-muted f6 text-normal">
              
            </span>
          </div>
          <div role="listbox" class="list-style-none" data-target="command-palette-item-group.list" aria-label="Teams results"></div>
        </command-palette-item-group>
            <command-palette-item-group data-group-id="users" data-group-title="Users" data-group-hint="" data-group-limits="{}" data-default-priority="12" data-catalyst="" class="py-2 border-top" hidden="true" data-skip-template="">
            
          <div class="d-flex flex-justify-between my-2 px-3">
            <span data-target="command-palette-item-group.header" class="color-fg-muted text-bold f6 text-normal">
              Users
            </span>
            <span data-target="command-palette-item-group.header" class="color-fg-muted f6 text-normal">
              
            </span>
          </div>
          <div role="listbox" class="list-style-none" data-target="command-palette-item-group.list" aria-label="Users results"></div>
        </command-palette-item-group>
            <command-palette-item-group data-group-id="memex_projects" data-group-title="Projects" data-group-hint="" data-group-limits="{}" data-default-priority="13" data-catalyst="" class="py-2 border-top" hidden="true" data-skip-template="">
            
          <div class="d-flex flex-justify-between my-2 px-3">
            <span data-target="command-palette-item-group.header" class="color-fg-muted text-bold f6 text-normal">
              Projects
            </span>
            <span data-target="command-palette-item-group.header" class="color-fg-muted f6 text-normal">
              
            </span>
          </div>
          <div role="listbox" class="list-style-none" data-target="command-palette-item-group.list" aria-label="Projects results"></div>
        </command-palette-item-group>
            <command-palette-item-group data-group-id="projects" data-group-title="Projects (classic)" data-group-hint="" data-group-limits="{}" data-default-priority="14" data-catalyst="" class="py-2 border-top" hidden="true" data-skip-template="">
            
          <div class="d-flex flex-justify-between my-2 px-3">
            <span data-target="command-palette-item-group.header" class="color-fg-muted text-bold f6 text-normal">
              Projects (classic)
            </span>
            <span data-target="command-palette-item-group.header" class="color-fg-muted f6 text-normal">
              
            </span>
          </div>
          <div role="listbox" class="list-style-none" data-target="command-palette-item-group.list" aria-label="Projects (classic) results"></div>
        </command-palette-item-group>
            <command-palette-item-group data-group-id="footer" data-group-title="Footer" data-group-hint="" data-group-limits="{}" data-default-priority="15" data-catalyst="" class="py-2 border-top" hidden="true" data-skip-template="">
            
          <div role="listbox" class="list-style-none" data-target="command-palette-item-group.list" aria-label="Footer results"></div>
        </command-palette-item-group>
            <command-palette-item-group data-group-id="modes_help" data-group-title="Modes" data-group-hint="" data-group-limits="{}" data-default-priority="16" data-catalyst="" class="py-2 border-top" hidden="true" data-skip-template="">
            
          <div class="d-flex flex-justify-between my-2 px-3">
            <span data-target="command-palette-item-group.header" class="color-fg-muted text-bold f6 text-normal">
              Modes
            </span>
            <span data-target="command-palette-item-group.header" class="color-fg-muted f6 text-normal">
              
            </span>
          </div>
          <div role="listbox" class="list-style-none" data-target="command-palette-item-group.list" aria-label="Modes results"></div>
        </command-palette-item-group>
            <command-palette-item-group data-group-id="filters_help" data-group-title="Use filters in issues, pull requests, discussions, and projects" data-group-hint="" data-group-limits="{}" data-default-priority="17" data-catalyst="" class="py-2 border-top" hidden="true" data-skip-template="">
            
          <div class="d-flex flex-justify-between my-2 px-3">
            <span data-target="command-palette-item-group.header" class="color-fg-muted text-bold f6 text-normal">
              Use filters in issues, pull requests, discussions, and projects
            </span>
            <span data-target="command-palette-item-group.header" class="color-fg-muted f6 text-normal">
              
            </span>
          </div>
          <div role="listbox" class="list-style-none" data-target="command-palette-item-group.list" aria-label="Use filters in issues, pull requests, discussions, and projects results"></div>
        </command-palette-item-group>

            <command-palette-page data-page-title="Priyam219" data-scope-id="U_kgDOBhqs5A" data-scope-type="owner" data-targets="command-palette-page-stack.defaultPages" hidden="" data-catalyst="" class="rounded-bottom-2 page-stack-transition-height" style="max-height:400px;">
            </command-palette-page>
            <command-palette-page data-page-title="Bharat-Intern---ML" data-scope-id="R_kgDOJlKGNg" data-scope-type="repository" data-targets="command-palette-page-stack.defaultPages" hidden="" data-catalyst="" class="rounded-bottom-2 page-stack-transition-height" style="max-height:400px;">
            </command-palette-page>
        </div>

        <command-palette-page data-is-root="" hidden="" data-page-title="" data-catalyst="" class="rounded-bottom-2 page-stack-transition-height" data-targets="command-palette-page-stack.pages" style="max-height:400px;" data-scope-id="" data-scope-type="">
        </command-palette-page>
          <command-palette-page data-page-title="Priyam219" data-scope-id="U_kgDOBhqs5A" data-scope-type="owner" hidden="" data-catalyst="" class="rounded-bottom-2 page-stack-transition-height" data-targets="command-palette-page-stack.pages" style="max-height:400px;">
          </command-palette-page>
          <command-palette-page data-page-title="Bharat-Intern---ML" data-scope-id="R_kgDOJlKGNg" data-scope-type="repository" hidden="" data-catalyst="" class="rounded-bottom-2 page-stack-transition-height" data-targets="command-palette-page-stack.pages" style="max-height:400px;">
          </command-palette-page>
      </command-palette-page-stack>

      <server-defined-provider data-type="search-links" data-targets="command-palette.serverDefinedProviderElements" data-supported-modes="" data-catalyst="" data-fetch-debounce="" data-supported-scope-types="" data-src="" data-supports-commands=""></server-defined-provider>
      <server-defined-provider data-type="help" data-targets="command-palette.serverDefinedProviderElements" data-supported-modes="" data-catalyst="" data-fetch-debounce="" data-supported-scope-types="" data-src="" data-supports-commands="">
          <command-palette-help data-group="modes_help" data-prefix="#" data-scope-types="[&quot;&quot;]" data-catalyst="" hidden="">
            <span data-target="command-palette-help.titleElement">Search for <strong>issues</strong> and <strong>pull requests</strong></span>
              <span data-target="command-palette-help.hintElement">
                <kbd class="hx_kbd">#</kbd>
              </span>
          </command-palette-help>
          <command-palette-help data-group="modes_help" data-prefix="#" data-scope-types="[&quot;owner&quot;,&quot;repository&quot;]" data-catalyst="" hidden="">
            <span data-target="command-palette-help.titleElement">Search for <strong>issues, pull requests, discussions,</strong> and <strong>projects</strong></span>
              <span data-target="command-palette-help.hintElement">
                <kbd class="hx_kbd">#</kbd>
              </span>
          </command-palette-help>
          <command-palette-help data-group="modes_help" data-prefix="@" data-scope-types="[&quot;&quot;]" data-catalyst="" hidden="">
            <span data-target="command-palette-help.titleElement">Search for <strong>organizations, repositories,</strong> and <strong>users</strong></span>
              <span data-target="command-palette-help.hintElement">
                <kbd class="hx_kbd">@</kbd>
              </span>
          </command-palette-help>
          <command-palette-help data-group="modes_help" data-prefix="!" data-scope-types="[&quot;owner&quot;,&quot;repository&quot;]" data-catalyst="" hidden="">
            <span data-target="command-palette-help.titleElement">Search for <strong>projects</strong></span>
              <span data-target="command-palette-help.hintElement">
                <kbd class="hx_kbd">!</kbd>
              </span>
          </command-palette-help>
          <command-palette-help data-group="modes_help" data-prefix="/" data-scope-types="[&quot;repository&quot;]" data-catalyst="" hidden="">
            <span data-target="command-palette-help.titleElement">Search for <strong>files</strong></span>
              <span data-target="command-palette-help.hintElement">
                <kbd class="hx_kbd">/</kbd>
              </span>
          </command-palette-help>
          <command-palette-help data-group="modes_help" data-prefix="&gt;" data-scope-types="" data-catalyst="" hidden="">
            <span data-target="command-palette-help.titleElement">Activate <strong>command mode</strong></span>
              <span data-target="command-palette-help.hintElement">
                <kbd class="hx_kbd">&gt;</kbd>
              </span>
          </command-palette-help>
          <command-palette-help data-group="filters_help" data-prefix="# author:@me" data-scope-types="" data-catalyst="" hidden="">
            <span data-target="command-palette-help.titleElement">Search your issues, pull requests, and discussions</span>
              <span data-target="command-palette-help.hintElement">
                <kbd class="hx_kbd"># author:@me</kbd>
              </span>
          </command-palette-help>
          <command-palette-help data-group="filters_help" data-prefix="# author:@me" data-scope-types="" data-catalyst="" hidden="">
            <span data-target="command-palette-help.titleElement">Search your issues, pull requests, and discussions</span>
              <span data-target="command-palette-help.hintElement">
                <kbd class="hx_kbd"># author:@me</kbd>
              </span>
          </command-palette-help>
          <command-palette-help data-group="filters_help" data-prefix="# is:pr" data-scope-types="" data-catalyst="" hidden="">
            <span data-target="command-palette-help.titleElement">Filter to pull requests</span>
              <span data-target="command-palette-help.hintElement">
                <kbd class="hx_kbd"># is:pr</kbd>
              </span>
          </command-palette-help>
          <command-palette-help data-group="filters_help" data-prefix="# is:issue" data-scope-types="" data-catalyst="" hidden="">
            <span data-target="command-palette-help.titleElement">Filter to issues</span>
              <span data-target="command-palette-help.hintElement">
                <kbd class="hx_kbd"># is:issue</kbd>
              </span>
          </command-palette-help>
          <command-palette-help data-group="filters_help" data-prefix="# is:discussion" data-scope-types="[&quot;owner&quot;,&quot;repository&quot;]" data-catalyst="" hidden="">
            <span data-target="command-palette-help.titleElement">Filter to discussions</span>
              <span data-target="command-palette-help.hintElement">
                <kbd class="hx_kbd"># is:discussion</kbd>
              </span>
          </command-palette-help>
          <command-palette-help data-group="filters_help" data-prefix="# is:project" data-scope-types="[&quot;owner&quot;,&quot;repository&quot;]" data-catalyst="" hidden="">
            <span data-target="command-palette-help.titleElement">Filter to projects</span>
              <span data-target="command-palette-help.hintElement">
                <kbd class="hx_kbd"># is:project</kbd>
              </span>
          </command-palette-help>
          <command-palette-help data-group="filters_help" data-prefix="# is:open" data-scope-types="" data-catalyst="" hidden="">
            <span data-target="command-palette-help.titleElement">Filter to open issues, pull requests, and discussions</span>
              <span data-target="command-palette-help.hintElement">
                <kbd class="hx_kbd"># is:open</kbd>
              </span>
          </command-palette-help>
      </server-defined-provider>

        <server-defined-provider data-type="commands" data-fetch-debounce="0" data-src="/command_palette/commands" data-supported-modes="[]" data-supports-commands="" data-targets="command-palette.serverDefinedProviderElements" data-supported-scope-types="" data-catalyst=""></server-defined-provider>
        <server-defined-provider data-type="prefetched" data-fetch-debounce="0" data-src="/command_palette/jump_to_page_navigation" data-supported-modes="[&quot;&quot;]" data-supported-scope-types="[&quot;&quot;,&quot;owner&quot;,&quot;repository&quot;]" data-targets="command-palette.serverDefinedProviderElements" data-supports-commands="" data-catalyst=""></server-defined-provider>
        <server-defined-provider data-type="remote" data-fetch-debounce="200" data-src="/command_palette/issues" data-supported-modes="[&quot;#&quot;,&quot;#&quot;]" data-supported-scope-types="[&quot;owner&quot;,&quot;repository&quot;,&quot;&quot;]" data-targets="command-palette.serverDefinedProviderElements" data-supports-commands="" data-catalyst=""></server-defined-provider>
        <server-defined-provider data-type="remote" data-fetch-debounce="200" data-src="/command_palette/jump_to" data-supported-modes="[&quot;@&quot;,&quot;@&quot;]" data-supported-scope-types="[&quot;&quot;,&quot;owner&quot;]" data-targets="command-palette.serverDefinedProviderElements" data-supports-commands="" data-catalyst=""></server-defined-provider>
        <server-defined-provider data-type="remote" data-fetch-debounce="200" data-src="/command_palette/jump_to_members_only" data-supported-modes="[&quot;@&quot;,&quot;@&quot;,&quot;&quot;,&quot;&quot;]" data-supported-scope-types="[&quot;&quot;,&quot;owner&quot;]" data-targets="command-palette.serverDefinedProviderElements" data-supports-commands="" data-catalyst=""></server-defined-provider>
        <server-defined-provider data-type="prefetched" data-fetch-debounce="0" data-src="/command_palette/jump_to_members_only_prefetched" data-supported-modes="[&quot;@&quot;,&quot;@&quot;,&quot;&quot;,&quot;&quot;]" data-supported-scope-types="[&quot;&quot;,&quot;owner&quot;]" data-targets="command-palette.serverDefinedProviderElements" data-supports-commands="" data-catalyst=""></server-defined-provider>
        <server-defined-provider data-type="files" data-fetch-debounce="0" data-src="/command_palette/files" data-supported-modes="[&quot;/&quot;]" data-supported-scope-types="[&quot;repository&quot;]" data-targets="command-palette.serverDefinedProviderElements" data-supports-commands="" data-catalyst=""></server-defined-provider>
        <server-defined-provider data-type="remote" data-fetch-debounce="200" data-src="/command_palette/discussions" data-supported-modes="[&quot;#&quot;]" data-supported-scope-types="[&quot;owner&quot;,&quot;repository&quot;]" data-targets="command-palette.serverDefinedProviderElements" data-supports-commands="" data-catalyst=""></server-defined-provider>
        <server-defined-provider data-type="remote" data-fetch-debounce="200" data-src="/command_palette/projects" data-supported-modes="[&quot;#&quot;,&quot;!&quot;]" data-supported-scope-types="[&quot;owner&quot;,&quot;repository&quot;]" data-targets="command-palette.serverDefinedProviderElements" data-supports-commands="" data-catalyst=""></server-defined-provider>
        <server-defined-provider data-type="prefetched" data-fetch-debounce="0" data-src="/command_palette/recent_issues" data-supported-modes="[&quot;#&quot;,&quot;#&quot;]" data-supported-scope-types="[&quot;owner&quot;,&quot;repository&quot;,&quot;&quot;]" data-targets="command-palette.serverDefinedProviderElements" data-supports-commands="" data-catalyst=""></server-defined-provider>
        <server-defined-provider data-type="remote" data-fetch-debounce="200" data-src="/command_palette/teams" data-supported-modes="[&quot;@&quot;,&quot;&quot;]" data-supported-scope-types="[&quot;owner&quot;]" data-targets="command-palette.serverDefinedProviderElements" data-supports-commands="" data-catalyst=""></server-defined-provider>
        <server-defined-provider data-type="remote" data-fetch-debounce="200" data-src="/command_palette/name_with_owner_repository" data-supported-modes="[&quot;@&quot;,&quot;@&quot;,&quot;&quot;,&quot;&quot;]" data-supported-scope-types="[&quot;&quot;,&quot;owner&quot;]" data-targets="command-palette.serverDefinedProviderElements" data-supports-commands="" data-catalyst=""></server-defined-provider>
    <client-defined-provider data-catalyst="" data-provider-id="main-window-commands-provider" data-targets="command-palette.clientDefinedProviderElements"></client-defined-provider></command-palette>
  </details-dialog>
</details>

<div class="position-fixed bottom-0 left-0 ml-5 mb-5 js-command-palette-toasts" style="z-index: 1000">
  <div hidden="" class="Toast Toast--loading">
    <span class="Toast-icon">
      <svg class="Toast--spinner" viewBox="0 0 32 32" width="18" height="18" aria-hidden="true">
        <path fill="#959da5" d="M16 0 A16 16 0 0 0 16 32 A16 16 0 0 0 16 0 M16 4 A12 12 0 0 1 16 28 A12 12 0 0 1 16 4"></path>
        <path fill="#ffffff" d="M16 0 A16 16 0 0 1 32 16 L28 16 A12 12 0 0 0 16 4z"></path>
      </svg>
    </span>
    <span class="Toast-content"></span>
  </div>

  <div hidden="" class="anim-fade-in fast Toast Toast--error">
    <span class="Toast-icon">
      <svg aria-hidden="true" height="16" viewBox="0 0 16 16" version="1.1" width="16" data-view-component="true" class="octicon octicon-stop">
    <path d="M4.47.22A.749.749 0 0 1 5 0h6c.199 0 .389.079.53.22l4.25 4.25c.141.14.22.331.22.53v6a.749.749 0 0 1-.22.53l-4.25 4.25A.749.749 0 0 1 11 16H5a.749.749 0 0 1-.53-.22L.22 11.53A.749.749 0 0 1 0 11V5c0-.199.079-.389.22-.53Zm.84 1.28L1.5 5.31v5.38l3.81 3.81h5.38l3.81-3.81V5.31L10.69 1.5ZM8 4a.75.75 0 0 1 .75.75v3.5a.75.75 0 0 1-1.5 0v-3.5A.75.75 0 0 1 8 4Zm0 8a1 1 0 1 1 0-2 1 1 0 0 1 0 2Z"></path>
</svg>
    </span>
    <span class="Toast-content"></span>
  </div>

  <div hidden="" class="anim-fade-in fast Toast Toast--warning">
    <span class="Toast-icon">
      <svg aria-hidden="true" height="16" viewBox="0 0 16 16" version="1.1" width="16" data-view-component="true" class="octicon octicon-alert">
    <path d="M6.457 1.047c.659-1.234 2.427-1.234 3.086 0l6.082 11.378A1.75 1.75 0 0 1 14.082 15H1.918a1.75 1.75 0 0 1-1.543-2.575Zm1.763.707a.25.25 0 0 0-.44 0L1.698 13.132a.25.25 0 0 0 .22.368h12.164a.25.25 0 0 0 .22-.368Zm.53 3.996v2.5a.75.75 0 0 1-1.5 0v-2.5a.75.75 0 0 1 1.5 0ZM9 11a1 1 0 1 1-2 0 1 1 0 0 1 2 0Z"></path>
</svg>
    </span>
    <span class="Toast-content"></span>
  </div>


  <div hidden="" class="anim-fade-in fast Toast Toast--success">
    <span class="Toast-icon">
      <svg aria-hidden="true" height="16" viewBox="0 0 16 16" version="1.1" width="16" data-view-component="true" class="octicon octicon-check">
    <path d="M13.78 4.22a.75.75 0 0 1 0 1.06l-7.25 7.25a.75.75 0 0 1-1.06 0L2.22 9.28a.751.751 0 0 1 .018-1.042.751.751 0 0 1 1.042-.018L6 10.94l6.72-6.72a.75.75 0 0 1 1.06 0Z"></path>
</svg>
    </span>
    <span class="Toast-content"></span>
  </div>

  <div hidden="" class="anim-fade-in fast Toast">
    <span class="Toast-icon">
      <svg aria-hidden="true" height="16" viewBox="0 0 16 16" version="1.1" width="16" data-view-component="true" class="octicon octicon-info">
    <path d="M0 8a8 8 0 1 1 16 0A8 8 0 0 1 0 8Zm8-6.5a6.5 6.5 0 1 0 0 13 6.5 6.5 0 0 0 0-13ZM6.5 7.75A.75.75 0 0 1 7.25 7h1a.75.75 0 0 1 .75.75v2.75h.25a.75.75 0 0 1 0 1.5h-2a.75.75 0 0 1 0-1.5h.25v-2h-.25a.75.75 0 0 1-.75-.75ZM8 6a1 1 0 1 1 0-2 1 1 0 0 1 0 2Z"></path>
</svg>
    </span>
    <span class="Toast-content"></span>
  </div>
</div>


  <div class="application-main " data-commit-hovercards-enabled="" data-discussion-hovercards-enabled="" data-issue-and-pr-hovercards-enabled="">
        <div itemscope="" itemtype="http://schema.org/SoftwareSourceCode" class="">
    <main id="js-repo-pjax-container">
      
      
      






    
  <div id="repository-container-header" data-turbo-replace="" hidden=""></div>




<turbo-frame id="repo-content-turbo-frame" target="_top" data-turbo-action="advance" class="">
    <div id="repo-content-pjax-container" class="repository-content ">
      <a href="https://github.dev/" class="d-none js-github-dev-shortcut" data-hotkey=".,Alt+Meta+≥,Control+Alt+.">Open in github.dev</a>
  <a href="https://github.dev/" class="d-none js-github-dev-new-tab-shortcut" data-hotkey="Shift+.,Shift+&gt;,&gt;" target="_blank" rel="noopener noreferrer">Open in a new github.dev tab</a>
    <a class="d-none" data-hotkey=",,Alt+Meta+≤,Control+Alt+," target="_blank" href="https://github.com/codespaces/new/Priyam219/Bharat-Intern---ML/tree/04a8df9791d2d791f393362165355ec6140659ac?resume=1">Open in codespace</a>



    
      
    





<react-app app-name="react-code-view" initial-path="/Priyam219/Bharat-Intern---ML/blob/04a8df9791d2d791f393362165355ec6140659ac/Task-1%20-%20House%20Price%20Prediction/House_Price_Prediction/House_Price_Prediction.ipynb" style="min-height: calc(100vh - 62px)" data-ssr="false" data-lazy="false" data-alternate="false" data-catalyst="" class="loaded">
  
  <script type="application/json" data-target="react-app.embeddedData">{"payload":{"allShortcutsEnabled":true,"fileTree":{"Task-1 - House Price Prediction/House_Price_Prediction":{"items":[{"name":"House_Price_Prediction.ipynb","path":"Task-1 - House Price Prediction/House_Price_Prediction/House_Price_Prediction.ipynb","contentType":"file"},{"name":"Housing.csv","path":"Task-1 - House Price Prediction/House_Price_Prediction/Housing.csv","contentType":"file"}],"totalCount":2},"Task-1 - House Price Prediction":{"items":[{"name":"House_Price_Prediction","path":"Task-1 - House Price Prediction/House_Price_Prediction","contentType":"directory"},{"name":".gitignore","path":"Task-1 - House Price Prediction/.gitignore","contentType":"file"}],"totalCount":2},"":{"items":[{"name":"Task-1 - House Price Prediction","path":"Task-1 - House Price Prediction","contentType":"directory"},{"name":"Task-2 - Wine Quality Prediction","path":"Task-2 - Wine Quality Prediction","contentType":"directory"},{"name":"Task-3 - Iris Flower Classification","path":"Task-3 - Iris Flower Classification","contentType":"directory"},{"name":"README.md","path":"README.md","contentType":"file"}],"totalCount":4}},"fileTreeProcessingTime":3.644625,"foldersToFetch":[],"reducedMotionEnabled":"system","repo":{"id":642942518,"defaultBranch":"master","name":"Bharat-Intern---ML","ownerLogin":"Priyam219","currentUserCanPush":false,"isFork":false,"isEmpty":false,"createdAt":"2023-05-19T23:18:55.000+05:30","ownerAvatar":"https://avatars.githubusercontent.com/u/102411492?v=4","public":true,"private":false,"isOrgOwned":false},"symbolsExpanded":false,"treeExpanded":false,"refInfo":{"name":"04a8df9791d2d791f393362165355ec6140659ac","listCacheKey":"v0:1684519110.0901241","canEdit":false,"refType":"tree","currentOid":"04a8df9791d2d791f393362165355ec6140659ac"},"path":"Task-1 - House Price Prediction/House_Price_Prediction/House_Price_Prediction.ipynb","currentUser":{"id":141622351,"login":"Pradeepsahu0","userEmail":"Pradeepsahuid2002@gmail.com"},"blob":{"rawLines":["{"," \"cells\": [","  {","   \"cell_type\": \"markdown\",","   \"id\": \"c35870f1\",","   \"metadata\": {},","   \"source\": [","    \"# Importing the required libraries :\"","   ]","  },","  {","   \"cell_type\": \"code\",","   \"execution_count\": 1,","   \"id\": \"79c9be8c\",","   \"metadata\": {},","   \"outputs\": [],","   \"source\": [","    \"import pandas as pd\\n\",","    \"import numpy as np\\n\",","    \"import matplotlib.pyplot as plt\\n\",","    \"import seaborn as sns\"","   ]","  },","  {","   \"cell_type\": \"markdown\",","   \"id\": \"f7d12389\",","   \"metadata\": {},","   \"source\": [","    \"# Importing the dataset :\"","   ]","  },","  {","   \"cell_type\": \"code\",","   \"execution_count\": 2,","   \"id\": \"d2cd0c9a\",","   \"metadata\": {},","   \"outputs\": [],","   \"source\": [","    \"df = pd.read_csv(r\\\"C:\\\\Users\\\\PRIYAM\\\\Documents\\\\Jupyter\\\\House_Price_Prediction\\\\Housing.csv\\\")\"","   ]","  },","  {","   \"cell_type\": \"code\",","   \"execution_count\": 3,","   \"id\": \"28b8a1d5\",","   \"metadata\": {},","   \"outputs\": [","    {","     \"data\": {","      \"text/html\": [","       \"\u003cdiv\u003e\\n\",","       \"\u003cstyle scoped\u003e\\n\",","       \"    .dataframe tbody tr th:only-of-type {\\n\",","       \"        vertical-align: middle;\\n\",","       \"    }\\n\",","       \"\\n\",","       \"    .dataframe tbody tr th {\\n\",","       \"        vertical-align: top;\\n\",","       \"    }\\n\",","       \"\\n\",","       \"    .dataframe thead th {\\n\",","       \"        text-align: right;\\n\",","       \"    }\\n\",","       \"\u003c/style\u003e\\n\",","       \"\u003ctable border=\\\"1\\\" class=\\\"dataframe\\\"\u003e\\n\",","       \"  \u003cthead\u003e\\n\",","       \"    \u003ctr style=\\\"text-align: right;\\\"\u003e\\n\",","       \"      \u003cth\u003e\u003c/th\u003e\\n\",","       \"      \u003cth\u003eprice\u003c/th\u003e\\n\",","       \"      \u003cth\u003earea\u003c/th\u003e\\n\",","       \"      \u003cth\u003ebedrooms\u003c/th\u003e\\n\",","       \"      \u003cth\u003ebathrooms\u003c/th\u003e\\n\",","       \"      \u003cth\u003estories\u003c/th\u003e\\n\",","       \"      \u003cth\u003emainroad\u003c/th\u003e\\n\",","       \"      \u003cth\u003eguestroom\u003c/th\u003e\\n\",","       \"      \u003cth\u003ebasement\u003c/th\u003e\\n\",","       \"      \u003cth\u003ehotwaterheating\u003c/th\u003e\\n\",","       \"      \u003cth\u003eairconditioning\u003c/th\u003e\\n\",","       \"      \u003cth\u003eparking\u003c/th\u003e\\n\",","       \"      \u003cth\u003eprefarea\u003c/th\u003e\\n\",","       \"      \u003cth\u003efurnishingstatus\u003c/th\u003e\\n\",","       \"    \u003c/tr\u003e\\n\",","       \"  \u003c/thead\u003e\\n\",","       \"  \u003ctbody\u003e\\n\",","       \"    \u003ctr\u003e\\n\",","       \"      \u003cth\u003e0\u003c/th\u003e\\n\",","       \"      \u003ctd\u003e13300000\u003c/td\u003e\\n\",","       \"      \u003ctd\u003e7420\u003c/td\u003e\\n\",","       \"      \u003ctd\u003e4\u003c/td\u003e\\n\",","       \"      \u003ctd\u003e2\u003c/td\u003e\\n\",","       \"      \u003ctd\u003e3\u003c/td\u003e\\n\",","       \"      \u003ctd\u003eyes\u003c/td\u003e\\n\",","       \"      \u003ctd\u003eno\u003c/td\u003e\\n\",","       \"      \u003ctd\u003eno\u003c/td\u003e\\n\",","       \"      \u003ctd\u003eno\u003c/td\u003e\\n\",","       \"      \u003ctd\u003eyes\u003c/td\u003e\\n\",","       \"      \u003ctd\u003e2\u003c/td\u003e\\n\",","       \"      \u003ctd\u003eyes\u003c/td\u003e\\n\",","       \"      \u003ctd\u003efurnished\u003c/td\u003e\\n\",","       \"    \u003c/tr\u003e\\n\",","       \"    \u003ctr\u003e\\n\",","       \"      \u003cth\u003e1\u003c/th\u003e\\n\",","       \"      \u003ctd\u003e12250000\u003c/td\u003e\\n\",","       \"      \u003ctd\u003e8960\u003c/td\u003e\\n\",","       \"      \u003ctd\u003e4\u003c/td\u003e\\n\",","       \"      \u003ctd\u003e4\u003c/td\u003e\\n\",","       \"      \u003ctd\u003e4\u003c/td\u003e\\n\",","       \"      \u003ctd\u003eyes\u003c/td\u003e\\n\",","       \"      \u003ctd\u003eno\u003c/td\u003e\\n\",","       \"      \u003ctd\u003eno\u003c/td\u003e\\n\",","       \"      \u003ctd\u003eno\u003c/td\u003e\\n\",","       \"      \u003ctd\u003eyes\u003c/td\u003e\\n\",","       \"      \u003ctd\u003e3\u003c/td\u003e\\n\",","       \"      \u003ctd\u003eno\u003c/td\u003e\\n\",","       \"      \u003ctd\u003efurnished\u003c/td\u003e\\n\",","       \"    \u003c/tr\u003e\\n\",","       \"    \u003ctr\u003e\\n\",","       \"      \u003cth\u003e2\u003c/th\u003e\\n\",","       \"      \u003ctd\u003e12250000\u003c/td\u003e\\n\",","       \"      \u003ctd\u003e9960\u003c/td\u003e\\n\",","       \"      \u003ctd\u003e3\u003c/td\u003e\\n\",","       \"      \u003ctd\u003e2\u003c/td\u003e\\n\",","       \"      \u003ctd\u003e2\u003c/td\u003e\\n\",","       \"      \u003ctd\u003eyes\u003c/td\u003e\\n\",","       \"      \u003ctd\u003eno\u003c/td\u003e\\n\",","       \"      \u003ctd\u003eyes\u003c/td\u003e\\n\",","       \"      \u003ctd\u003eno\u003c/td\u003e\\n\",","       \"      \u003ctd\u003eno\u003c/td\u003e\\n\",","       \"      \u003ctd\u003e2\u003c/td\u003e\\n\",","       \"      \u003ctd\u003eyes\u003c/td\u003e\\n\",","       \"      \u003ctd\u003esemi-furnished\u003c/td\u003e\\n\",","       \"    \u003c/tr\u003e\\n\",","       \"    \u003ctr\u003e\\n\",","       \"      \u003cth\u003e3\u003c/th\u003e\\n\",","       \"      \u003ctd\u003e12215000\u003c/td\u003e\\n\",","       \"      \u003ctd\u003e7500\u003c/td\u003e\\n\",","       \"      \u003ctd\u003e4\u003c/td\u003e\\n\",","       \"      \u003ctd\u003e2\u003c/td\u003e\\n\",","       \"      \u003ctd\u003e2\u003c/td\u003e\\n\",","       \"      \u003ctd\u003eyes\u003c/td\u003e\\n\",","       \"      \u003ctd\u003eno\u003c/td\u003e\\n\",","       \"      \u003ctd\u003eyes\u003c/td\u003e\\n\",","       \"      \u003ctd\u003eno\u003c/td\u003e\\n\",","       \"      \u003ctd\u003eyes\u003c/td\u003e\\n\",","       \"      \u003ctd\u003e3\u003c/td\u003e\\n\",","       \"      \u003ctd\u003eyes\u003c/td\u003e\\n\",","       \"      \u003ctd\u003efurnished\u003c/td\u003e\\n\",","       \"    \u003c/tr\u003e\\n\",","       \"    \u003ctr\u003e\\n\",","       \"      \u003cth\u003e4\u003c/th\u003e\\n\",","       \"      \u003ctd\u003e11410000\u003c/td\u003e\\n\",","       \"      \u003ctd\u003e7420\u003c/td\u003e\\n\",","       \"      \u003ctd\u003e4\u003c/td\u003e\\n\",","       \"      \u003ctd\u003e1\u003c/td\u003e\\n\",","       \"      \u003ctd\u003e2\u003c/td\u003e\\n\",","       \"      \u003ctd\u003eyes\u003c/td\u003e\\n\",","       \"      \u003ctd\u003eyes\u003c/td\u003e\\n\",","       \"      \u003ctd\u003eyes\u003c/td\u003e\\n\",","       \"      \u003ctd\u003eno\u003c/td\u003e\\n\",","       \"      \u003ctd\u003eyes\u003c/td\u003e\\n\",","       \"      \u003ctd\u003e2\u003c/td\u003e\\n\",","       \"      \u003ctd\u003eno\u003c/td\u003e\\n\",","       \"      \u003ctd\u003efurnished\u003c/td\u003e\\n\",","       \"    \u003c/tr\u003e\\n\",","       \"    \u003ctr\u003e\\n\",","       \"      \u003cth\u003e5\u003c/th\u003e\\n\",","       \"      \u003ctd\u003e10850000\u003c/td\u003e\\n\",","       \"      \u003ctd\u003e7500\u003c/td\u003e\\n\",","       \"      \u003ctd\u003e3\u003c/td\u003e\\n\",","       \"      \u003ctd\u003e3\u003c/td\u003e\\n\",","       \"      \u003ctd\u003e1\u003c/td\u003e\\n\",","       \"      \u003ctd\u003eyes\u003c/td\u003e\\n\",","       \"      \u003ctd\u003eno\u003c/td\u003e\\n\",","       \"      \u003ctd\u003eyes\u003c/td\u003e\\n\",","       \"      \u003ctd\u003eno\u003c/td\u003e\\n\",","       \"      \u003ctd\u003eyes\u003c/td\u003e\\n\",","       \"      \u003ctd\u003e2\u003c/td\u003e\\n\",","       \"      \u003ctd\u003eyes\u003c/td\u003e\\n\",","       \"      \u003ctd\u003esemi-furnished\u003c/td\u003e\\n\",","       \"    \u003c/tr\u003e\\n\",","       \"    \u003ctr\u003e\\n\",","       \"      \u003cth\u003e6\u003c/th\u003e\\n\",","       \"      \u003ctd\u003e10150000\u003c/td\u003e\\n\",","       \"      \u003ctd\u003e8580\u003c/td\u003e\\n\",","       \"      \u003ctd\u003e4\u003c/td\u003e\\n\",","       \"      \u003ctd\u003e3\u003c/td\u003e\\n\",","       \"      \u003ctd\u003e4\u003c/td\u003e\\n\",","       \"      \u003ctd\u003eyes\u003c/td\u003e\\n\",","       \"      \u003ctd\u003eno\u003c/td\u003e\\n\",","       \"      \u003ctd\u003eno\u003c/td\u003e\\n\",","       \"      \u003ctd\u003eno\u003c/td\u003e\\n\",","       \"      \u003ctd\u003eyes\u003c/td\u003e\\n\",","       \"      \u003ctd\u003e2\u003c/td\u003e\\n\",","       \"      \u003ctd\u003eyes\u003c/td\u003e\\n\",","       \"      \u003ctd\u003esemi-furnished\u003c/td\u003e\\n\",","       \"    \u003c/tr\u003e\\n\",","       \"    \u003ctr\u003e\\n\",","       \"      \u003cth\u003e7\u003c/th\u003e\\n\",","       \"      \u003ctd\u003e10150000\u003c/td\u003e\\n\",","       \"      \u003ctd\u003e16200\u003c/td\u003e\\n\",","       \"      \u003ctd\u003e5\u003c/td\u003e\\n\",","       \"      \u003ctd\u003e3\u003c/td\u003e\\n\",","       \"      \u003ctd\u003e2\u003c/td\u003e\\n\",","       \"      \u003ctd\u003eyes\u003c/td\u003e\\n\",","       \"      \u003ctd\u003eno\u003c/td\u003e\\n\",","       \"      \u003ctd\u003eno\u003c/td\u003e\\n\",","       \"      \u003ctd\u003eno\u003c/td\u003e\\n\",","       \"      \u003ctd\u003eno\u003c/td\u003e\\n\",","       \"      \u003ctd\u003e0\u003c/td\u003e\\n\",","       \"      \u003ctd\u003eno\u003c/td\u003e\\n\",","       \"      \u003ctd\u003eunfurnished\u003c/td\u003e\\n\",","       \"    \u003c/tr\u003e\\n\",","       \"    \u003ctr\u003e\\n\",","       \"      \u003cth\u003e8\u003c/th\u003e\\n\",","       \"      \u003ctd\u003e9870000\u003c/td\u003e\\n\",","       \"      \u003ctd\u003e8100\u003c/td\u003e\\n\",","       \"      \u003ctd\u003e4\u003c/td\u003e\\n\",","       \"      \u003ctd\u003e1\u003c/td\u003e\\n\",","       \"      \u003ctd\u003e2\u003c/td\u003e\\n\",","       \"      \u003ctd\u003eyes\u003c/td\u003e\\n\",","       \"      \u003ctd\u003eyes\u003c/td\u003e\\n\",","       \"      \u003ctd\u003eyes\u003c/td\u003e\\n\",","       \"      \u003ctd\u003eno\u003c/td\u003e\\n\",","       \"      \u003ctd\u003eyes\u003c/td\u003e\\n\",","       \"      \u003ctd\u003e2\u003c/td\u003e\\n\",","       \"      \u003ctd\u003eyes\u003c/td\u003e\\n\",","       \"      \u003ctd\u003efurnished\u003c/td\u003e\\n\",","       \"    \u003c/tr\u003e\\n\",","       \"    \u003ctr\u003e\\n\",","       \"      \u003cth\u003e9\u003c/th\u003e\\n\",","       \"      \u003ctd\u003e9800000\u003c/td\u003e\\n\",","       \"      \u003ctd\u003e5750\u003c/td\u003e\\n\",","       \"      \u003ctd\u003e3\u003c/td\u003e\\n\",","       \"      \u003ctd\u003e2\u003c/td\u003e\\n\",","       \"      \u003ctd\u003e4\u003c/td\u003e\\n\",","       \"      \u003ctd\u003eyes\u003c/td\u003e\\n\",","       \"      \u003ctd\u003eyes\u003c/td\u003e\\n\",","       \"      \u003ctd\u003eno\u003c/td\u003e\\n\",","       \"      \u003ctd\u003eno\u003c/td\u003e\\n\",","       \"      \u003ctd\u003eyes\u003c/td\u003e\\n\",","       \"      \u003ctd\u003e1\u003c/td\u003e\\n\",","       \"      \u003ctd\u003eyes\u003c/td\u003e\\n\",","       \"      \u003ctd\u003eunfurnished\u003c/td\u003e\\n\",","       \"    \u003c/tr\u003e\\n\",","       \"  \u003c/tbody\u003e\\n\",","       \"\u003c/table\u003e\\n\",","       \"\u003c/div\u003e\"","      ],","      \"text/plain\": [","       \"      price   area  bedrooms  bathrooms  stories mainroad guestroom basement  \\\\\\n\",","       \"0  13300000   7420         4          2        3      yes        no       no   \\n\",","       \"1  12250000   8960         4          4        4      yes        no       no   \\n\",","       \"2  12250000   9960         3          2        2      yes        no      yes   \\n\",","       \"3  12215000   7500         4          2        2      yes        no      yes   \\n\",","       \"4  11410000   7420         4          1        2      yes       yes      yes   \\n\",","       \"5  10850000   7500         3          3        1      yes        no      yes   \\n\",","       \"6  10150000   8580         4          3        4      yes        no       no   \\n\",","       \"7  10150000  16200         5          3        2      yes        no       no   \\n\",","       \"8   9870000   8100         4          1        2      yes       yes      yes   \\n\",","       \"9   9800000   5750         3          2        4      yes       yes       no   \\n\",","       \"\\n\",","       \"  hotwaterheating airconditioning  parking prefarea furnishingstatus  \\n\",","       \"0              no             yes        2      yes        furnished  \\n\",","       \"1              no             yes        3       no        furnished  \\n\",","       \"2              no              no        2      yes   semi-furnished  \\n\",","       \"3              no             yes        3      yes        furnished  \\n\",","       \"4              no             yes        2       no        furnished  \\n\",","       \"5              no             yes        2      yes   semi-furnished  \\n\",","       \"6              no             yes        2      yes   semi-furnished  \\n\",","       \"7              no              no        0       no      unfurnished  \\n\",","       \"8              no             yes        2      yes        furnished  \\n\",","       \"9              no             yes        1      yes      unfurnished  \"","      ]","     },","     \"execution_count\": 3,","     \"metadata\": {},","     \"output_type\": \"execute_result\"","    }","   ],","   \"source\": [","    \"# FIRST 10 ROWS OF THE DATASET\\n\",","    \"\\n\",","    \"df.head(10)\"","   ]","  },","  {","   \"cell_type\": \"code\",","   \"execution_count\": 4,","   \"id\": \"6b624072\",","   \"metadata\": {},","   \"outputs\": [","    {","     \"data\": {","      \"text/plain\": [","       \"Index(['price', 'area', 'bedrooms', 'bathrooms', 'stories', 'mainroad',\\n\",","       \"       'guestroom', 'basement', 'hotwaterheating', 'airconditioning',\\n\",","       \"       'parking', 'prefarea', 'furnishingstatus'],\\n\",","       \"      dtype='object')\"","      ]","     },","     \"execution_count\": 4,","     \"metadata\": {},","     \"output_type\": \"execute_result\"","    }","   ],","   \"source\": [","    \"# COLUMNS :\\n\",","    \"\\n\",","    \"df.columns\"","   ]","  },","  {","   \"cell_type\": \"code\",","   \"execution_count\": 5,","   \"id\": \"cbf5593b\",","   \"metadata\": {},","   \"outputs\": [","    {","     \"data\": {","      \"text/plain\": [","       \"(545, 13)\"","      ]","     },","     \"execution_count\": 5,","     \"metadata\": {},","     \"output_type\": \"execute_result\"","    }","   ],","   \"source\": [","    \"# SIZE OF THE DATASET \\n\",","    \"\\n\",","    \"df.shape\"","   ]","  },","  {","   \"cell_type\": \"markdown\",","   \"id\": \"497d76b5\",","   \"metadata\": {},","   \"source\": [","    \"**As we can see our dataset has 545 rows and 13 columns.**\"","   ]","  },","  {","   \"cell_type\": \"code\",","   \"execution_count\": 6,","   \"id\": \"fbc83246\",","   \"metadata\": {},","   \"outputs\": [","    {","     \"name\": \"stdout\",","     \"output_type\": \"stream\",","     \"text\": [","      \"\u003cclass 'pandas.core.frame.DataFrame'\u003e\\n\",","      \"RangeIndex: 545 entries, 0 to 544\\n\",","      \"Data columns (total 13 columns):\\n\",","      \" #   Column            Non-Null Count  Dtype \\n\",","      \"---  ------            --------------  ----- \\n\",","      \" 0   price             545 non-null    int64 \\n\",","      \" 1   area              545 non-null    int64 \\n\",","      \" 2   bedrooms          545 non-null    int64 \\n\",","      \" 3   bathrooms         545 non-null    int64 \\n\",","      \" 4   stories           545 non-null    int64 \\n\",","      \" 5   mainroad          545 non-null    object\\n\",","      \" 6   guestroom         545 non-null    object\\n\",","      \" 7   basement          545 non-null    object\\n\",","      \" 8   hotwaterheating   545 non-null    object\\n\",","      \" 9   airconditioning   545 non-null    object\\n\",","      \" 10  parking           545 non-null    int64 \\n\",","      \" 11  prefarea          545 non-null    object\\n\",","      \" 12  furnishingstatus  545 non-null    object\\n\",","      \"dtypes: int64(6), object(7)\\n\",","      \"memory usage: 55.5+ KB\\n\"","     ]","    }","   ],","   \"source\": [","    \"# DATA TYPES OF THE COLUMNS OF THE DATASET\\n\",","    \"\\n\",","    \"df.info()\"","   ]","  },","  {","   \"cell_type\": \"markdown\",","   \"id\": \"6fa95d77\",","   \"metadata\": {},","   \"source\": [","    \"# Data Preprocessing :\"","   ]","  },","  {","   \"cell_type\": \"code\",","   \"execution_count\": 7,","   \"id\": \"64fc1a37\",","   \"metadata\": {},","   \"outputs\": [","    {","     \"data\": {","      \"text/plain\": [","       \"price               0\\n\",","       \"area                0\\n\",","       \"bedrooms            0\\n\",","       \"bathrooms           0\\n\",","       \"stories             0\\n\",","       \"mainroad            0\\n\",","       \"guestroom           0\\n\",","       \"basement            0\\n\",","       \"hotwaterheating     0\\n\",","       \"airconditioning     0\\n\",","       \"parking             0\\n\",","       \"prefarea            0\\n\",","       \"furnishingstatus    0\\n\",","       \"dtype: int64\"","      ]","     },","     \"execution_count\": 7,","     \"metadata\": {},","     \"output_type\": \"execute_result\"","    }","   ],","   \"source\": [","    \"# CHECKING FOR NULL VALUES\\n\",","    \"\\n\",","    \"df.isnull().sum()\"","   ]","  },","  {","   \"cell_type\": \"code\",","   \"execution_count\": 8,","   \"id\": \"09f559c7\",","   \"metadata\": {},","   \"outputs\": [","    {","     \"name\": \"stdout\",","     \"output_type\": \"stream\",","     \"text\": [","      \"\\n\",","      \"\\u001b[1mInference:\\u001b[0m The dataset doesn't have any duplicates\\n\"","     ]","    }","   ],","   \"source\": [","    \"# REMOVAL OF DUPLICATE VALUE \\n\",","    \"\\n\",","    \"counter = 0\\n\",","    \"rs,cs = df.shape\\n\",","    \"\\n\",","    \"df.drop_duplicates(inplace=True)\\n\",","    \"\\n\",","    \"if df.shape==(rs,cs):\\n\",","    \"    print('\\\\n\\\\033[1mInference:\\\\033[0m The dataset doesn\\\\'t have any duplicates')\\n\",","    \"else:\\n\",","    \"    print(f'\\\\n\\\\033[1mInference:\\\\033[0m Number of duplicates dropped/fixed ---\u003e {rs-df.shape[0]}')\"","   ]","  },","  {","   \"cell_type\": \"markdown\",","   \"id\": \"4342bbc4\",","   \"metadata\": {},","   \"source\": [","    \"**No null values present our dataset.**\"","   ]","  },","  {","   \"cell_type\": \"code\",","   \"execution_count\": 9,","   \"id\": \"eb6d52c0\",","   \"metadata\": {},","   \"outputs\": [],","   \"source\": [","    \"# CONVERTING ALL OUR CATEGORICAL DATA COLUMNS TO NUMERIC FORM\\n\",","    \"\\n\",","    \"from sklearn.preprocessing import LabelEncoder\\n\",","    \"categ = [\\\"mainroad\\\",\\\"guestroom\\\",\\\"basement\\\",\\\"hotwaterheating\\\",\\\"airconditioning\\\",\\\"prefarea\\\",\\\"furnishingstatus\\\"]\\n\",","    \"\\n\",","    \"# Encode Categorical Columns\\n\",","    \"le = LabelEncoder()\\n\",","    \"df[categ] = df[categ].apply(le.fit_transform)\"","   ]","  },","  {","   \"cell_type\": \"code\",","   \"execution_count\": 10,","   \"id\": \"c8d8c2bd\",","   \"metadata\": {},","   \"outputs\": [","    {","     \"data\": {","      \"text/html\": [","       \"\u003cdiv\u003e\\n\",","       \"\u003cstyle scoped\u003e\\n\",","       \"    .dataframe tbody tr th:only-of-type {\\n\",","       \"        vertical-align: middle;\\n\",","       \"    }\\n\",","       \"\\n\",","       \"    .dataframe tbody tr th {\\n\",","       \"        vertical-align: top;\\n\",","       \"    }\\n\",","       \"\\n\",","       \"    .dataframe thead th {\\n\",","       \"        text-align: right;\\n\",","       \"    }\\n\",","       \"\u003c/style\u003e\\n\",","       \"\u003ctable border=\\\"1\\\" class=\\\"dataframe\\\"\u003e\\n\",","       \"  \u003cthead\u003e\\n\",","       \"    \u003ctr style=\\\"text-align: right;\\\"\u003e\\n\",","       \"      \u003cth\u003e\u003c/th\u003e\\n\",","       \"      \u003cth\u003eprice\u003c/th\u003e\\n\",","       \"      \u003cth\u003earea\u003c/th\u003e\\n\",","       \"      \u003cth\u003ebedrooms\u003c/th\u003e\\n\",","       \"      \u003cth\u003ebathrooms\u003c/th\u003e\\n\",","       \"      \u003cth\u003estories\u003c/th\u003e\\n\",","       \"      \u003cth\u003emainroad\u003c/th\u003e\\n\",","       \"      \u003cth\u003eguestroom\u003c/th\u003e\\n\",","       \"      \u003cth\u003ebasement\u003c/th\u003e\\n\",","       \"      \u003cth\u003ehotwaterheating\u003c/th\u003e\\n\",","       \"      \u003cth\u003eairconditioning\u003c/th\u003e\\n\",","       \"      \u003cth\u003eparking\u003c/th\u003e\\n\",","       \"      \u003cth\u003eprefarea\u003c/th\u003e\\n\",","       \"      \u003cth\u003efurnishingstatus\u003c/th\u003e\\n\",","       \"    \u003c/tr\u003e\\n\",","       \"  \u003c/thead\u003e\\n\",","       \"  \u003ctbody\u003e\\n\",","       \"    \u003ctr\u003e\\n\",","       \"      \u003cth\u003e0\u003c/th\u003e\\n\",","       \"      \u003ctd\u003e13300000\u003c/td\u003e\\n\",","       \"      \u003ctd\u003e7420\u003c/td\u003e\\n\",","       \"      \u003ctd\u003e4\u003c/td\u003e\\n\",","       \"      \u003ctd\u003e2\u003c/td\u003e\\n\",","       \"      \u003ctd\u003e3\u003c/td\u003e\\n\",","       \"      \u003ctd\u003e1\u003c/td\u003e\\n\",","       \"      \u003ctd\u003e0\u003c/td\u003e\\n\",","       \"      \u003ctd\u003e0\u003c/td\u003e\\n\",","       \"      \u003ctd\u003e0\u003c/td\u003e\\n\",","       \"      \u003ctd\u003e1\u003c/td\u003e\\n\",","       \"      \u003ctd\u003e2\u003c/td\u003e\\n\",","       \"      \u003ctd\u003e1\u003c/td\u003e\\n\",","       \"      \u003ctd\u003e0\u003c/td\u003e\\n\",","       \"    \u003c/tr\u003e\\n\",","       \"    \u003ctr\u003e\\n\",","       \"      \u003cth\u003e1\u003c/th\u003e\\n\",","       \"      \u003ctd\u003e12250000\u003c/td\u003e\\n\",","       \"      \u003ctd\u003e8960\u003c/td\u003e\\n\",","       \"      \u003ctd\u003e4\u003c/td\u003e\\n\",","       \"      \u003ctd\u003e4\u003c/td\u003e\\n\",","       \"      \u003ctd\u003e4\u003c/td\u003e\\n\",","       \"      \u003ctd\u003e1\u003c/td\u003e\\n\",","       \"      \u003ctd\u003e0\u003c/td\u003e\\n\",","       \"      \u003ctd\u003e0\u003c/td\u003e\\n\",","       \"      \u003ctd\u003e0\u003c/td\u003e\\n\",","       \"      \u003ctd\u003e1\u003c/td\u003e\\n\",","       \"      \u003ctd\u003e3\u003c/td\u003e\\n\",","       \"      \u003ctd\u003e0\u003c/td\u003e\\n\",","       \"      \u003ctd\u003e0\u003c/td\u003e\\n\",","       \"    \u003c/tr\u003e\\n\",","       \"    \u003ctr\u003e\\n\",","       \"      \u003cth\u003e2\u003c/th\u003e\\n\",","       \"      \u003ctd\u003e12250000\u003c/td\u003e\\n\",","       \"      \u003ctd\u003e9960\u003c/td\u003e\\n\",","       \"      \u003ctd\u003e3\u003c/td\u003e\\n\",","       \"      \u003ctd\u003e2\u003c/td\u003e\\n\",","       \"      \u003ctd\u003e2\u003c/td\u003e\\n\",","       \"      \u003ctd\u003e1\u003c/td\u003e\\n\",","       \"      \u003ctd\u003e0\u003c/td\u003e\\n\",","       \"      \u003ctd\u003e1\u003c/td\u003e\\n\",","       \"      \u003ctd\u003e0\u003c/td\u003e\\n\",","       \"      \u003ctd\u003e0\u003c/td\u003e\\n\",","       \"      \u003ctd\u003e2\u003c/td\u003e\\n\",","       \"      \u003ctd\u003e1\u003c/td\u003e\\n\",","       \"      \u003ctd\u003e1\u003c/td\u003e\\n\",","       \"    \u003c/tr\u003e\\n\",","       \"    \u003ctr\u003e\\n\",","       \"      \u003cth\u003e3\u003c/th\u003e\\n\",","       \"      \u003ctd\u003e12215000\u003c/td\u003e\\n\",","       \"      \u003ctd\u003e7500\u003c/td\u003e\\n\",","       \"      \u003ctd\u003e4\u003c/td\u003e\\n\",","       \"      \u003ctd\u003e2\u003c/td\u003e\\n\",","       \"      \u003ctd\u003e2\u003c/td\u003e\\n\",","       \"      \u003ctd\u003e1\u003c/td\u003e\\n\",","       \"      \u003ctd\u003e0\u003c/td\u003e\\n\",","       \"      \u003ctd\u003e1\u003c/td\u003e\\n\",","       \"      \u003ctd\u003e0\u003c/td\u003e\\n\",","       \"      \u003ctd\u003e1\u003c/td\u003e\\n\",","       \"      \u003ctd\u003e3\u003c/td\u003e\\n\",","       \"      \u003ctd\u003e1\u003c/td\u003e\\n\",","       \"      \u003ctd\u003e0\u003c/td\u003e\\n\",","       \"    \u003c/tr\u003e\\n\",","       \"    \u003ctr\u003e\\n\",","       \"      \u003cth\u003e4\u003c/th\u003e\\n\",","       \"      \u003ctd\u003e11410000\u003c/td\u003e\\n\",","       \"      \u003ctd\u003e7420\u003c/td\u003e\\n\",","       \"      \u003ctd\u003e4\u003c/td\u003e\\n\",","       \"      \u003ctd\u003e1\u003c/td\u003e\\n\",","       \"      \u003ctd\u003e2\u003c/td\u003e\\n\",","       \"      \u003ctd\u003e1\u003c/td\u003e\\n\",","       \"      \u003ctd\u003e1\u003c/td\u003e\\n\",","       \"      \u003ctd\u003e1\u003c/td\u003e\\n\",","       \"      \u003ctd\u003e0\u003c/td\u003e\\n\",","       \"      \u003ctd\u003e1\u003c/td\u003e\\n\",","       \"      \u003ctd\u003e2\u003c/td\u003e\\n\",","       \"      \u003ctd\u003e0\u003c/td\u003e\\n\",","       \"      \u003ctd\u003e0\u003c/td\u003e\\n\",","       \"    \u003c/tr\u003e\\n\",","       \"  \u003c/tbody\u003e\\n\",","       \"\u003c/table\u003e\\n\",","       \"\u003c/div\u003e\"","      ],","      \"text/plain\": [","       \"      price  area  bedrooms  bathrooms  stories  mainroad  guestroom  \\\\\\n\",","       \"0  13300000  7420         4          2        3         1          0   \\n\",","       \"1  12250000  8960         4          4        4         1          0   \\n\",","       \"2  12250000  9960         3          2        2         1          0   \\n\",","       \"3  12215000  7500         4          2        2         1          0   \\n\",","       \"4  11410000  7420         4          1        2         1          1   \\n\",","       \"\\n\",","       \"   basement  hotwaterheating  airconditioning  parking  prefarea  \\\\\\n\",","       \"0         0                0                1        2         1   \\n\",","       \"1         0                0                1        3         0   \\n\",","       \"2         1                0                0        2         1   \\n\",","       \"3         1                0                1        3         1   \\n\",","       \"4         1                0                1        2         0   \\n\",","       \"\\n\",","       \"   furnishingstatus  \\n\",","       \"0                 0  \\n\",","       \"1                 0  \\n\",","       \"2                 1  \\n\",","       \"3                 0  \\n\",","       \"4                 0  \"","      ]","     },","     \"execution_count\": 10,","     \"metadata\": {},","     \"output_type\": \"execute_result\"","    }","   ],","   \"source\": [","    \"# AFTER CONVERTING OUR DATASET LOOKS LIKE THIS ...\\n\",","    \"\\n\",","    \"df.head()\"","   ]","  },","  {","   \"cell_type\": \"code\",","   \"execution_count\": 11,","   \"id\": \"9cf675e6\",","   \"metadata\": {},","   \"outputs\": [","    {","     \"data\": {","      \"text/plain\": [","       \"\u003cAxesSubplot:\u003e\"","      ]","     },","     \"execution_count\": 11,","     \"metadata\": {},","     \"output_type\": \"execute_result\"","    },","    {","     \"data\": {","      \"image/png\": \"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\\n\",","      \"text/plain\": [","       \"\u003cFigure size 864x504 with 2 Axes\u003e\"","      ]","     },","     \"metadata\": {","      \"needs_background\": \"light\"","     },","     \"output_type\": \"display_data\"","    }","   ],","   \"source\": [","    \"# CORRELATION BETWEEN THE COLUMNS\\n\",","    \"\\n\",","    \"corr = df.corr()\\n\",","    \"plt.figure(figsize=(12,7))\\n\",","    \"sns.heatmap(corr,cmap='coolwarm',annot=True)\"","   ]","  },","  {","   \"cell_type\": \"markdown\",","   \"id\": \"be6dfaef\",","   \"metadata\": {},","   \"source\": [","    \"# Spliting The Dataset :\"","   ]","  },","  {","   \"cell_type\": \"code\",","   \"execution_count\": 12,","   \"id\": \"0e060771\",","   \"metadata\": {},","   \"outputs\": [],","   \"source\": [","    \"X = df.drop(['price'],axis=1)\\n\",","    \"y = df['price']\"","   ]","  },","  {","   \"cell_type\": \"code\",","   \"execution_count\": 13,","   \"id\": \"06a729e4\",","   \"metadata\": {},","   \"outputs\": [","    {","     \"data\": {","      \"text/html\": [","       \"\u003cdiv\u003e\\n\",","       \"\u003cstyle scoped\u003e\\n\",","       \"    .dataframe tbody tr th:only-of-type {\\n\",","       \"        vertical-align: middle;\\n\",","       \"    }\\n\",","       \"\\n\",","       \"    .dataframe tbody tr th {\\n\",","       \"        vertical-align: top;\\n\",","       \"    }\\n\",","       \"\\n\",","       \"    .dataframe thead th {\\n\",","       \"        text-align: right;\\n\",","       \"    }\\n\",","       \"\u003c/style\u003e\\n\",","       \"\u003ctable border=\\\"1\\\" class=\\\"dataframe\\\"\u003e\\n\",","       \"  \u003cthead\u003e\\n\",","       \"    \u003ctr style=\\\"text-align: right;\\\"\u003e\\n\",","       \"      \u003cth\u003e\u003c/th\u003e\\n\",","       \"      \u003cth\u003earea\u003c/th\u003e\\n\",","       \"      \u003cth\u003ebedrooms\u003c/th\u003e\\n\",","       \"      \u003cth\u003ebathrooms\u003c/th\u003e\\n\",","       \"      \u003cth\u003estories\u003c/th\u003e\\n\",","       \"      \u003cth\u003emainroad\u003c/th\u003e\\n\",","       \"      \u003cth\u003eguestroom\u003c/th\u003e\\n\",","       \"      \u003cth\u003ebasement\u003c/th\u003e\\n\",","       \"      \u003cth\u003ehotwaterheating\u003c/th\u003e\\n\",","       \"      \u003cth\u003eairconditioning\u003c/th\u003e\\n\",","       \"      \u003cth\u003eparking\u003c/th\u003e\\n\",","       \"      \u003cth\u003eprefarea\u003c/th\u003e\\n\",","       \"      \u003cth\u003efurnishingstatus\u003c/th\u003e\\n\",","       \"    \u003c/tr\u003e\\n\",","       \"  \u003c/thead\u003e\\n\",","       \"  \u003ctbody\u003e\\n\",","       \"    \u003ctr\u003e\\n\",","       \"      \u003cth\u003e0\u003c/th\u003e\\n\",","       \"      \u003ctd\u003e7420\u003c/td\u003e\\n\",","       \"      \u003ctd\u003e4\u003c/td\u003e\\n\",","       \"      \u003ctd\u003e2\u003c/td\u003e\\n\",","       \"      \u003ctd\u003e3\u003c/td\u003e\\n\",","       \"      \u003ctd\u003e1\u003c/td\u003e\\n\",","       \"      \u003ctd\u003e0\u003c/td\u003e\\n\",","       \"      \u003ctd\u003e0\u003c/td\u003e\\n\",","       \"      \u003ctd\u003e0\u003c/td\u003e\\n\",","       \"      \u003ctd\u003e1\u003c/td\u003e\\n\",","       \"      \u003ctd\u003e2\u003c/td\u003e\\n\",","       \"      \u003ctd\u003e1\u003c/td\u003e\\n\",","       \"      \u003ctd\u003e0\u003c/td\u003e\\n\",","       \"    \u003c/tr\u003e\\n\",","       \"    \u003ctr\u003e\\n\",","       \"      \u003cth\u003e1\u003c/th\u003e\\n\",","       \"      \u003ctd\u003e8960\u003c/td\u003e\\n\",","       \"      \u003ctd\u003e4\u003c/td\u003e\\n\",","       \"      \u003ctd\u003e4\u003c/td\u003e\\n\",","       \"      \u003ctd\u003e4\u003c/td\u003e\\n\",","       \"      \u003ctd\u003e1\u003c/td\u003e\\n\",","       \"      \u003ctd\u003e0\u003c/td\u003e\\n\",","       \"      \u003ctd\u003e0\u003c/td\u003e\\n\",","       \"      \u003ctd\u003e0\u003c/td\u003e\\n\",","       \"      \u003ctd\u003e1\u003c/td\u003e\\n\",","       \"      \u003ctd\u003e3\u003c/td\u003e\\n\",","       \"      \u003ctd\u003e0\u003c/td\u003e\\n\",","       \"      \u003ctd\u003e0\u003c/td\u003e\\n\",","       \"    \u003c/tr\u003e\\n\",","       \"    \u003ctr\u003e\\n\",","       \"      \u003cth\u003e2\u003c/th\u003e\\n\",","       \"      \u003ctd\u003e9960\u003c/td\u003e\\n\",","       \"      \u003ctd\u003e3\u003c/td\u003e\\n\",","       \"      \u003ctd\u003e2\u003c/td\u003e\\n\",","       \"      \u003ctd\u003e2\u003c/td\u003e\\n\",","       \"      \u003ctd\u003e1\u003c/td\u003e\\n\",","       \"      \u003ctd\u003e0\u003c/td\u003e\\n\",","       \"      \u003ctd\u003e1\u003c/td\u003e\\n\",","       \"      \u003ctd\u003e0\u003c/td\u003e\\n\",","       \"      \u003ctd\u003e0\u003c/td\u003e\\n\",","       \"      \u003ctd\u003e2\u003c/td\u003e\\n\",","       \"      \u003ctd\u003e1\u003c/td\u003e\\n\",","       \"      \u003ctd\u003e1\u003c/td\u003e\\n\",","       \"    \u003c/tr\u003e\\n\",","       \"    \u003ctr\u003e\\n\",","       \"      \u003cth\u003e3\u003c/th\u003e\\n\",","       \"      \u003ctd\u003e7500\u003c/td\u003e\\n\",","       \"      \u003ctd\u003e4\u003c/td\u003e\\n\",","       \"      \u003ctd\u003e2\u003c/td\u003e\\n\",","       \"      \u003ctd\u003e2\u003c/td\u003e\\n\",","       \"      \u003ctd\u003e1\u003c/td\u003e\\n\",","       \"      \u003ctd\u003e0\u003c/td\u003e\\n\",","       \"      \u003ctd\u003e1\u003c/td\u003e\\n\",","       \"      \u003ctd\u003e0\u003c/td\u003e\\n\",","       \"      \u003ctd\u003e1\u003c/td\u003e\\n\",","       \"      \u003ctd\u003e3\u003c/td\u003e\\n\",","       \"      \u003ctd\u003e1\u003c/td\u003e\\n\",","       \"      \u003ctd\u003e0\u003c/td\u003e\\n\",","       \"    \u003c/tr\u003e\\n\",","       \"    \u003ctr\u003e\\n\",","       \"      \u003cth\u003e4\u003c/th\u003e\\n\",","       \"      \u003ctd\u003e7420\u003c/td\u003e\\n\",","       \"      \u003ctd\u003e4\u003c/td\u003e\\n\",","       \"      \u003ctd\u003e1\u003c/td\u003e\\n\",","       \"      \u003ctd\u003e2\u003c/td\u003e\\n\",","       \"      \u003ctd\u003e1\u003c/td\u003e\\n\",","       \"      \u003ctd\u003e1\u003c/td\u003e\\n\",","       \"      \u003ctd\u003e1\u003c/td\u003e\\n\",","       \"      \u003ctd\u003e0\u003c/td\u003e\\n\",","       \"      \u003ctd\u003e1\u003c/td\u003e\\n\",","       \"      \u003ctd\u003e2\u003c/td\u003e\\n\",","       \"      \u003ctd\u003e0\u003c/td\u003e\\n\",","       \"      \u003ctd\u003e0\u003c/td\u003e\\n\",","       \"    \u003c/tr\u003e\\n\",","       \"    \u003ctr\u003e\\n\",","       \"      \u003cth\u003e...\u003c/th\u003e\\n\",","       \"      \u003ctd\u003e...\u003c/td\u003e\\n\",","       \"      \u003ctd\u003e...\u003c/td\u003e\\n\",","       \"      \u003ctd\u003e...\u003c/td\u003e\\n\",","       \"      \u003ctd\u003e...\u003c/td\u003e\\n\",","       \"      \u003ctd\u003e...\u003c/td\u003e\\n\",","       \"      \u003ctd\u003e...\u003c/td\u003e\\n\",","       \"      \u003ctd\u003e...\u003c/td\u003e\\n\",","       \"      \u003ctd\u003e...\u003c/td\u003e\\n\",","       \"      \u003ctd\u003e...\u003c/td\u003e\\n\",","       \"      \u003ctd\u003e...\u003c/td\u003e\\n\",","       \"      \u003ctd\u003e...\u003c/td\u003e\\n\",","       \"      \u003ctd\u003e...\u003c/td\u003e\\n\",","       \"    \u003c/tr\u003e\\n\",","       \"    \u003ctr\u003e\\n\",","       \"      \u003cth\u003e540\u003c/th\u003e\\n\",","       \"      \u003ctd\u003e3000\u003c/td\u003e\\n\",","       \"      \u003ctd\u003e2\u003c/td\u003e\\n\",","       \"      \u003ctd\u003e1\u003c/td\u003e\\n\",","       \"      \u003ctd\u003e1\u003c/td\u003e\\n\",","       \"      \u003ctd\u003e1\u003c/td\u003e\\n\",","       \"      \u003ctd\u003e0\u003c/td\u003e\\n\",","       \"      \u003ctd\u003e1\u003c/td\u003e\\n\",","       \"      \u003ctd\u003e0\u003c/td\u003e\\n\",","       \"      \u003ctd\u003e0\u003c/td\u003e\\n\",","       \"      \u003ctd\u003e2\u003c/td\u003e\\n\",","       \"      \u003ctd\u003e0\u003c/td\u003e\\n\",","       \"      \u003ctd\u003e2\u003c/td\u003e\\n\",","       \"    \u003c/tr\u003e\\n\",","       \"    \u003ctr\u003e\\n\",","       \"      \u003cth\u003e541\u003c/th\u003e\\n\",","       \"      \u003ctd\u003e2400\u003c/td\u003e\\n\",","       \"      \u003ctd\u003e3\u003c/td\u003e\\n\",","       \"      \u003ctd\u003e1\u003c/td\u003e\\n\",","       \"      \u003ctd\u003e1\u003c/td\u003e\\n\",","       \"      \u003ctd\u003e0\u003c/td\u003e\\n\",","       \"      \u003ctd\u003e0\u003c/td\u003e\\n\",","       \"      \u003ctd\u003e0\u003c/td\u003e\\n\",","       \"      \u003ctd\u003e0\u003c/td\u003e\\n\",","       \"      \u003ctd\u003e0\u003c/td\u003e\\n\",","       \"      \u003ctd\u003e0\u003c/td\u003e\\n\",","       \"      \u003ctd\u003e0\u003c/td\u003e\\n\",","       \"      \u003ctd\u003e1\u003c/td\u003e\\n\",","       \"    \u003c/tr\u003e\\n\",","       \"    \u003ctr\u003e\\n\",","       \"      \u003cth\u003e542\u003c/th\u003e\\n\",","       \"      \u003ctd\u003e3620\u003c/td\u003e\\n\",","       \"      \u003ctd\u003e2\u003c/td\u003e\\n\",","       \"      \u003ctd\u003e1\u003c/td\u003e\\n\",","       \"      \u003ctd\u003e1\u003c/td\u003e\\n\",","       \"      \u003ctd\u003e1\u003c/td\u003e\\n\",","       \"      \u003ctd\u003e0\u003c/td\u003e\\n\",","       \"      \u003ctd\u003e0\u003c/td\u003e\\n\",","       \"      \u003ctd\u003e0\u003c/td\u003e\\n\",","       \"      \u003ctd\u003e0\u003c/td\u003e\\n\",","       \"      \u003ctd\u003e0\u003c/td\u003e\\n\",","       \"      \u003ctd\u003e0\u003c/td\u003e\\n\",","       \"      \u003ctd\u003e2\u003c/td\u003e\\n\",","       \"    \u003c/tr\u003e\\n\",","       \"    \u003ctr\u003e\\n\",","       \"      \u003cth\u003e543\u003c/th\u003e\\n\",","       \"      \u003ctd\u003e2910\u003c/td\u003e\\n\",","       \"      \u003ctd\u003e3\u003c/td\u003e\\n\",","       \"      \u003ctd\u003e1\u003c/td\u003e\\n\",","       \"      \u003ctd\u003e1\u003c/td\u003e\\n\",","       \"      \u003ctd\u003e0\u003c/td\u003e\\n\",","       \"      \u003ctd\u003e0\u003c/td\u003e\\n\",","       \"      \u003ctd\u003e0\u003c/td\u003e\\n\",","       \"      \u003ctd\u003e0\u003c/td\u003e\\n\",","       \"      \u003ctd\u003e0\u003c/td\u003e\\n\",","       \"      \u003ctd\u003e0\u003c/td\u003e\\n\",","       \"      \u003ctd\u003e0\u003c/td\u003e\\n\",","       \"      \u003ctd\u003e0\u003c/td\u003e\\n\",","       \"    \u003c/tr\u003e\\n\",","       \"    \u003ctr\u003e\\n\",","       \"      \u003cth\u003e544\u003c/th\u003e\\n\",","       \"      \u003ctd\u003e3850\u003c/td\u003e\\n\",","       \"      \u003ctd\u003e3\u003c/td\u003e\\n\",","       \"      \u003ctd\u003e1\u003c/td\u003e\\n\",","       \"      \u003ctd\u003e2\u003c/td\u003e\\n\",","       \"      \u003ctd\u003e1\u003c/td\u003e\\n\",","       \"      \u003ctd\u003e0\u003c/td\u003e\\n\",","       \"      \u003ctd\u003e0\u003c/td\u003e\\n\",","       \"      \u003ctd\u003e0\u003c/td\u003e\\n\",","       \"      \u003ctd\u003e0\u003c/td\u003e\\n\",","       \"      \u003ctd\u003e0\u003c/td\u003e\\n\",","       \"      \u003ctd\u003e0\u003c/td\u003e\\n\",","       \"      \u003ctd\u003e2\u003c/td\u003e\\n\",","       \"    \u003c/tr\u003e\\n\",","       \"  \u003c/tbody\u003e\\n\",","       \"\u003c/table\u003e\\n\",","       \"\u003cp\u003e545 rows × 12 columns\u003c/p\u003e\\n\",","       \"\u003c/div\u003e\"","      ],","      \"text/plain\": [","       \"     area  bedrooms  bathrooms  stories  mainroad  guestroom  basement  \\\\\\n\",","       \"0    7420         4          2        3         1          0         0   \\n\",","       \"1    8960         4          4        4         1          0         0   \\n\",","       \"2    9960         3          2        2         1          0         1   \\n\",","       \"3    7500         4          2        2         1          0         1   \\n\",","       \"4    7420         4          1        2         1          1         1   \\n\",","       \"..    ...       ...        ...      ...       ...        ...       ...   \\n\",","       \"540  3000         2          1        1         1          0         1   \\n\",","       \"541  2400         3          1        1         0          0         0   \\n\",","       \"542  3620         2          1        1         1          0         0   \\n\",","       \"543  2910         3          1        1         0          0         0   \\n\",","       \"544  3850         3          1        2         1          0         0   \\n\",","       \"\\n\",","       \"     hotwaterheating  airconditioning  parking  prefarea  furnishingstatus  \\n\",","       \"0                  0                1        2         1                 0  \\n\",","       \"1                  0                1        3         0                 0  \\n\",","       \"2                  0                0        2         1                 1  \\n\",","       \"3                  0                1        3         1                 0  \\n\",","       \"4                  0                1        2         0                 0  \\n\",","       \"..               ...              ...      ...       ...               ...  \\n\",","       \"540                0                0        2         0                 2  \\n\",","       \"541                0                0        0         0                 1  \\n\",","       \"542                0                0        0         0                 2  \\n\",","       \"543                0                0        0         0                 0  \\n\",","       \"544                0                0        0         0                 2  \\n\",","       \"\\n\",","       \"[545 rows x 12 columns]\"","      ]","     },","     \"execution_count\": 13,","     \"metadata\": {},","     \"output_type\": \"execute_result\"","    }","   ],","   \"source\": [","    \"X\"","   ]","  },","  {","   \"cell_type\": \"code\",","   \"execution_count\": 14,","   \"id\": \"3c761825\",","   \"metadata\": {},","   \"outputs\": [","    {","     \"data\": {","      \"text/plain\": [","       \"0      13300000\\n\",","       \"1      12250000\\n\",","       \"2      12250000\\n\",","       \"3      12215000\\n\",","       \"4      11410000\\n\",","       \"         ...   \\n\",","       \"540     1820000\\n\",","       \"541     1767150\\n\",","       \"542     1750000\\n\",","       \"543     1750000\\n\",","       \"544     1750000\\n\",","       \"Name: price, Length: 545, dtype: int64\"","      ]","     },","     \"execution_count\": 14,","     \"metadata\": {},","     \"output_type\": \"execute_result\"","    }","   ],","   \"source\": [","    \"y\"","   ]","  },","  {","   \"cell_type\": \"code\",","   \"execution_count\": 15,","   \"id\": \"d547d3bc\",","   \"metadata\": {},","   \"outputs\": [],","   \"source\": [","    \"from sklearn.model_selection import train_test_split\\n\",","    \"X_train,X_test,y_train,y_test = train_test_split(X,y,test_size=0.3,random_state=42)\"","   ]","  },","  {","   \"cell_type\": \"code\",","   \"execution_count\": 16,","   \"id\": \"1451327d\",","   \"metadata\": {},","   \"outputs\": [","    {","     \"data\": {","      \"text/plain\": [","       \"(381, 164)\"","      ]","     },","     \"execution_count\": 16,","     \"metadata\": {},","     \"output_type\": \"execute_result\"","    }","   ],","   \"source\": [","    \"# LENGTH OF X_train AND X_test\\n\",","    \"\\n\",","    \"len(X_train),len(X_test)\"","   ]","  },","  {","   \"cell_type\": \"markdown\",","   \"id\": \"ef2ddbfe\",","   \"metadata\": {},","   \"source\": [","    \"# Linear Regression :\"","   ]","  },","  {","   \"cell_type\": \"code\",","   \"execution_count\": 17,","   \"id\": \"904efb96\",","   \"metadata\": {},","   \"outputs\": [],","   \"source\": [","    \"# IMPORTING THE MODULE\\n\",","    \"\\n\",","    \"from sklearn.linear_model import LinearRegression\\n\",","    \"model = LinearRegression()\"","   ]","  },","  {","   \"cell_type\": \"code\",","   \"execution_count\": 18,","   \"id\": \"91e3225c\",","   \"metadata\": {},","   \"outputs\": [","    {","     \"data\": {","      \"text/plain\": [","       \"LinearRegression()\"","      ]","     },","     \"execution_count\": 18,","     \"metadata\": {},","     \"output_type\": \"execute_result\"","    }","   ],","   \"source\": [","    \"# FITTING THE DATA INTO THE MODEL\\n\",","    \"\\n\",","    \"model.fit(X_train,y_train)\"","   ]","  },","  {","   \"cell_type\": \"code\",","   \"execution_count\": 19,","   \"id\": \"25925073\",","   \"metadata\": {},","   \"outputs\": [],","   \"source\": [","    \"# PREDICTING THE OUTCOMES\\n\",","    \"\\n\",","    \"y_predict = model.predict(X_test)\"","   ]","  },","  {","   \"cell_type\": \"code\",","   \"execution_count\": 20,","   \"id\": \"97df504d\",","   \"metadata\": {},","   \"outputs\": [","    {","     \"data\": {","      \"text/plain\": [","       \"array([5407508.87024418, 7097185.46706854, 3055462.44314053,\\n\",","       \"       4476945.19636315, 3315983.65663579, 3618373.03255259,\\n\",","       \"       5758111.46044028, 6466502.43909126, 2830273.16469119,\\n\",","       \"       2588804.65810567, 9649589.31414054, 2830606.51113843,\\n\",","       \"       3048137.62898116, 3392779.60203048, 3823232.9673009 ,\\n\",","       \"       5358170.87034032, 2955016.41578148, 4836054.53230682,\\n\",","       \"       4603068.47740645, 3551464.60674927, 5625018.82657786,\\n\",","       \"       5796938.54363456, 2758483.74755246, 4873266.20950521,\\n\",","       \"       5600804.93370716, 7772078.63540938, 3381536.16270183,\\n\",","       \"       5370732.06725797, 8352665.9587942 , 3406110.06934798,\\n\",","       \"       6335677.41367624, 3427228.10570008, 6740746.88053743,\\n\",","       \"       4205633.93578768, 3624702.80095917, 5797171.46441145,\\n\",","       \"       5080025.13346592, 4386055.52335342, 3070137.54474224,\\n\",","       \"       4635050.40917587, 4743419.55702887, 3433682.48420933,\\n\",","       \"       7076940.4807988 , 4096598.07073102, 3741261.35302812,\\n\",","       \"       4308416.36745432, 6678982.6364043 , 4092649.04459023,\\n\",","       \"       3872211.05471678, 3687383.17722361, 7462374.91109114,\\n\",","       \"       2898324.62920572, 4501494.58592862, 4427073.78264694,\\n\",","       \"       3822457.27350851, 2641947.74706375, 7510739.56714418,\\n\",","       \"       2940944.89650582, 4246613.52617664, 2796696.1591366 ,\\n\",","       \"       5048338.5881557 , 3582935.78133612, 5255053.95042848,\\n\",","       \"       4255235.59619517, 4807607.51782258, 4711232.00096705,\\n\",","       \"       7260531.24221025, 3577762.50878024, 6285890.98464552,\\n\",","       \"       6318431.41494409, 4758297.02517639, 5066345.6283754 ,\\n\",","       \"       4660923.85280286, 8066891.08353479, 3498363.85433616,\\n\",","       \"       5429714.24082061, 4058399.55113095, 4441034.13232771,\\n\",","       \"       4816316.06017677, 4040152.44618202, 7752648.28119992,\\n\",","       \"       4172277.59889827, 6705184.89500425, 5431743.8402273 ,\\n\",","       \"       2763801.26664556, 7145185.10824616, 2626368.70533511,\\n\",","       \"       3708769.99925747, 8020894.34927404, 8360086.48106035,\\n\",","       \"       3255839.86876679, 6099608.09004818, 3610311.65133947,\\n\",","       \"       3666255.62947034, 7909304.88416764, 4708264.41070268,\\n\",","       \"       5200345.04442613, 6430338.84553524, 4954759.03354751,\\n\",","       \"       5980566.29859787, 3959705.24306595, 6578815.16383058,\\n\",","       \"       3699022.87139188, 6086458.26574741, 5225872.35919378,\\n\",","       \"       4461872.63697472, 7065795.84374117, 6430992.76558985,\\n\",","       \"       6577488.25056946, 7181092.29436555, 7132469.27644317,\\n\",","       \"       4969951.60846033, 3988509.66451833, 3282579.03980776,\\n\",","       \"       4284449.11400227, 3307885.27264494, 2794018.0999277 ,\\n\",","       \"       2314211.92533476, 3639260.72788702, 4017775.19574567,\\n\",","       \"       3783639.23978665, 4997528.13318576, 3920039.36114686,\\n\",","       \"       4086116.99024392, 6051867.67437964, 2314854.63439944,\\n\",","       \"       5648580.65216443, 3388208.4469447 , 8106887.379355  ,\\n\",","       \"       6945211.4619021 , 3290813.6187236 , 4943358.78455695,\\n\",","       \"       7021438.17367802, 6633943.09586481, 3257272.80697058,\\n\",","       \"       2346620.41017362, 3128074.82457597, 5602713.80008826,\\n\",","       \"       3052041.70375378, 3931847.49328003, 2574372.82187877,\\n\",","       \"       4011784.5084254 , 5232639.95388041, 4105734.9218601 ,\\n\",","       \"       4188942.50390193, 2421273.7970433 , 6767186.36585123,\\n\",","       \"       5302303.58194732, 6807894.55657294, 7246680.49265498,\\n\",","       \"       5468336.15501999, 4606361.04221866, 3769887.60312207,\\n\",","       \"       3860336.84228787, 3308041.40432699, 7268912.41470939,\\n\",","       \"       8146912.63449662, 4013563.22451008, 7210577.89436119,\\n\",","       \"       3796902.64702948, 4130262.35836178, 7058248.99034354,\\n\",","       \"       5417344.25448755, 5180833.66432886])\"","      ]","     },","     \"execution_count\": 20,","     \"metadata\": {},","     \"output_type\": \"execute_result\"","    }","   ],","   \"source\": [","    \"y_predict\"","   ]","  },","  {","   \"cell_type\": \"markdown\",","   \"id\": \"3e1f2371\",","   \"metadata\": {},","   \"source\": [","    \"# Evaluation :\"","   ]","  },","  {","   \"cell_type\": \"code\",","   \"execution_count\": 24,","   \"id\": \"3194da17\",","   \"metadata\": {},","   \"outputs\": [],","   \"source\": [","    \"from sklearn.metrics import r2_score,mean_absolute_error\\n\",","    \"score = r2_score(y_test,y_predict)\\n\",","    \"mae = mean_absolute_error(y_test,y_predict)\"","   ]","  },","  {","   \"cell_type\": \"code\",","   \"execution_count\": 25,","   \"id\": \"a5d593f5\",","   \"metadata\": {},","   \"outputs\": [","    {","     \"data\": {","      \"text/plain\": [","       \"0.6435419628959106\"","      ]","     },","     \"execution_count\": 25,","     \"metadata\": {},","     \"output_type\": \"execute_result\"","    }","   ],","   \"source\": [","    \"score\"","   ]","  },","  {","   \"cell_type\": \"code\",","   \"execution_count\": 26,","   \"id\": \"1cb8b2c4\",","   \"metadata\": {},","   \"outputs\": [","    {","     \"data\": {","      \"text/plain\": [","       \"925543.5483156563\"","      ]","     },","     \"execution_count\": 26,","     \"metadata\": {},","     \"output_type\": \"execute_result\"","    }","   ],","   \"source\": [","    \"mae\"","   ]","  },","  {","   \"cell_type\": \"code\",","   \"execution_count\": null,","   \"id\": \"74635022\",","   \"metadata\": {},","   \"outputs\": [],","   \"source\": []","  }"," ],"," \"metadata\": {","  \"kernelspec\": {","   \"display_name\": \"Python 3 (ipykernel)\",","   \"language\": \"python\",","   \"name\": \"python3\"","  },","  \"language_info\": {","   \"codemirror_mode\": {","    \"name\": \"ipython\",","    \"version\": 3","   },","   \"file_extension\": \".py\",","   \"mimetype\": \"text/x-python\",","   \"name\": \"python\",","   \"nbconvert_exporter\": \"python\",","   \"pygments_lexer\": \"ipython3\",","   \"version\": \"3.9.12\"","  }"," },"," \"nbformat\": 4,"," \"nbformat_minor\": 5","}"],"stylingDirectives":null,"csv":null,"csvError":null,"dependabotInfo":{"showConfigurationBanner":false,"configFilePath":null,"networkDependabotPath":"/Priyam219/Bharat-Intern---ML/network/updates","dismissConfigurationNoticePath":"/settings/dismiss-notice/dependabot_configuration_notice","configurationNoticeDismissed":false,"repoAlertsPath":"/Priyam219/Bharat-Intern---ML/security/dependabot","repoSecurityAndAnalysisPath":"/Priyam219/Bharat-Intern---ML/settings/security_analysis","repoOwnerIsOrg":false,"currentUserCanAdminRepo":false},"displayName":"House_Price_Prediction.ipynb","displayUrl":"https://notebooks.githubusercontent.com/view/ipynb?browser=chrome\u0026bypass_fastly=true\u0026color_mode=auto\u0026commit=04a8df9791d2d791f393362165355ec6140659ac\u0026device=unknown_device\u0026docs_host=https%3A%2F%2Fdocs.github.com\u0026enc_url=68747470733a2f2f7261772e67697468756275736572636f6e74656e742e636f6d2f50726979616d3231392f4268617261742d496e7465726e2d2d2d4d4c2f303461386466393739316432643739316633393333363231363533353565633631343036353961632f5461736b2d312532302d253230486f757365253230507269636525323050726564696374696f6e2f486f7573655f50726963655f50726564696374696f6e2f486f7573655f50726963655f50726564696374696f6e2e6970796e62\u0026logged_in=true\u0026nwo=Priyam219%2FBharat-Intern---ML\u0026path=Task-1+-+House+Price+Prediction%2FHouse_Price_Prediction%2FHouse_Price_Prediction.ipynb\u0026platform=windows\u0026repository_id=642942518\u0026repository_type=Repository\u0026version=116","headerInfo":{"blobSize":"148 KB","deleteInfo":{"deleteTooltip":"You must be on a branch to make or propose changes to this file"},"editInfo":{"editTooltip":"You must be on a branch to make or propose changes to this file"},"ghDesktopPath":null,"gitLfsPath":null,"onBranch":false,"shortPath":"9ed5dcb","siteNavLoginPath":"/login?return_to=https%3A%2F%2Fgithub.com%2FPriyam219%2FBharat-Intern---ML%2Fblob%2F04a8df9791d2d791f393362165355ec6140659ac%2FTask-1%2520-%2520House%2520Price%2520Prediction%2FHouse_Price_Prediction%2FHouse_Price_Prediction.ipynb","isCSV":false,"isRichtext":false,"toc":null,"lineInfo":{"truncatedLoc":"1237","truncatedSloc":"1237"},"mode":"file"},"image":false,"isCodeownersFile":null,"isPlain":false,"isValidLegacyIssueTemplate":false,"issueTemplateHelpUrl":"https://docs.github.com/articles/about-issue-and-pull-request-templates","issueTemplate":null,"discussionTemplate":null,"language":"Jupyter Notebook","languageID":185,"large":false,"loggedIn":true,"newDiscussionPath":"/Priyam219/Bharat-Intern---ML/discussions/new","newIssuePath":"/Priyam219/Bharat-Intern---ML/issues/new","planSupportInfo":{"repoIsFork":null,"repoOwnedByCurrentUser":null,"requestFullPath":"/Priyam219/Bharat-Intern---ML/blob/04a8df9791d2d791f393362165355ec6140659ac/Task-1%20-%20House%20Price%20Prediction/House_Price_Prediction/House_Price_Prediction.ipynb","showFreeOrgGatedFeatureMessage":null,"showPlanSupportBanner":null,"upgradeDataAttributes":null,"upgradePath":null},"publishBannersInfo":{"dismissActionNoticePath":"/settings/dismiss-notice/publish_action_from_dockerfile","dismissStackNoticePath":"/settings/dismiss-notice/publish_stack_from_file","releasePath":"/Priyam219/Bharat-Intern---ML/releases/new?marketplace=true","showPublishActionBanner":false,"showPublishStackBanner":false},"renderImageOrRaw":false,"richText":null,"renderedFileInfo":{"identityUUID":"204dacc2-3960-4d47-9a51-0d980055dc65","renderFileType":"ipynb","size":151814},"shortPath":null,"tabSize":8,"topBannersInfo":{"overridingGlobalFundingFile":false,"globalPreferredFundingPath":null,"repoOwner":"Priyam219","repoName":"Bharat-Intern---ML","showInvalidCitationWarning":false,"citationHelpUrl":"https://docs.github.com/en/github/creating-cloning-and-archiving-repositories/creating-a-repository-on-github/about-citation-files","showDependabotConfigurationBanner":false,"actionsOnboardingTip":null},"truncated":false,"viewable":true,"workflowRedirectUrl":null,"symbols":{"timedOut":false,"notAnalyzed":true,"symbols":[]}},"copilotInfo":null,"csrf_tokens":{"/Priyam219/Bharat-Intern---ML/branches":{"post":"5_LCc-ygUHcoLrAZFNjPrF8Y1DZEVA6vMZ_NmEkiiiNw47R4-Bn6cc_9KvTRaP985WNNbuu8VnFq9NPB-5eOxA"},"/repos/preferences":{"post":"OgbZ3Q9dAHRHwINJHs5Tq84woZo_duQyd9zAfa7NqpI0momiWtHM_vozs5GOdIYkvMaWcvjDVMfeRTR4fODAsg"}}},"title":"Bharat-Intern---ML/Task-1 - House Price Prediction/House_Price_Prediction/House_Price_Prediction.ipynb at 04a8df9791d2d791f393362165355ec6140659ac · Priyam219/Bharat-Intern---ML","appPayload":{"helpUrl":"https://docs.github.com","findFileWorkerPath":"/assets-cdn/worker/find-file-worker-83d4418b406d.js","findInFileWorkerPath":"/assets-cdn/worker/find-in-file-worker-2dd6b5095052.js","githubDevUrl":"https://github.dev/","enabled_features":{"virtualize_file_tree":true,"react_repos_overview":true,"code_nav_ui_events":false,"ref_selector_v2":false,"blob_firefox_separate_characters":true,"copilot_conversational_ux":false,"react_code_view_delete":true,"copilot_conversational_ux_symbols":false,"copilot_popover_file_editor_header":true,"copilot_smell_icebreaker_ux":false,"lfs_download_button":true}}}</script>
  <div data-target="react-app.reactRoot"><meta data-hydrostats="publish">    <button hidden="" data-testid="header-permalink-button" data-hotkey="y,Y" data-hotkey-scope="read-only-cursor-text-area"></button><div class="Box-sc-g0xbh4-0"><div class="Box-sc-g0xbh4-0 fSWWem" style="--sticky-pane-height: calc(100vh - (max(61px, 0px)));"><div class="Box-sc-g0xbh4-0 kPPmzM"><div class="Box-sc-g0xbh4-0 cIAPDV"><div tabindex="0" class="Box-sc-g0xbh4-0 gvCnwW"><div class="Box-sc-g0xbh4-0 bmoGdi"><div class="Box-sc-g0xbh4-0 eUyHuk"></div><div class="Box-sc-g0xbh4-0 cvKirU"><div role="separator" class="Box-sc-g0xbh4-0 dZCkhR"></div></div><div class="Box-sc-g0xbh4-0 gNdDUH" style="--pane-width: 320px;"><span class="_VisuallyHidden__VisuallyHidden-sc-11jhm7a-0 rTZSs"><form><label for=":ro:-width-input">Pane width</label><p id=":ro:-input-hint">Use a value between 19% and 30%</p><input id=":ro:-width-input" aria-describedby=":ro:-input-hint" name="pane-width" inputmode="numeric" pattern="[0-9]*" autocorrect="off" autocomplete="off" type="text" value="0"><button type="submit">Change width</button></form></span></div></div></div><main class="Box-sc-g0xbh4-0 emFMJu"><div class="Box-sc-g0xbh4-0"></div><div class="Box-sc-g0xbh4-0 hlUAHL"><div data-selector="repos-split-pane-content" tabindex="0" class="Box-sc-g0xbh4-0 iStsmI"><div class="Box-sc-g0xbh4-0 eIgvIk"><div class="Box-sc-g0xbh4-0 eVFfWF container"><div class="Box-sc-g0xbh4-0 kgXdnT react-code-view-header--narrow"><div class="Box-sc-g0xbh4-0 kzTa-dF"><div class="Box-sc-g0xbh4-0 bbXCl"><h2 class="Heading__StyledHeading-sc-1c1dgg0-0 fNPcqd"><button type="button" aria-label="Expand side panel" data-hotkey="Control+b" data-testid="expand-file-tree-button-mobile" class="types__StyledButton-sc-ws60qy-0 cmNjCr"><span data-component="buttonContent" class="Box-sc-g0xbh4-0 kkrdEu"><span data-component="leadingVisual" class="Box-sc-g0xbh4-0 trpoQ"><svg aria-hidden="true" focusable="false" role="img" class="octicon octicon-arrow-left" viewBox="0 0 16 16" width="16" height="16" fill="currentColor" style="display: inline-block; user-select: none; vertical-align: text-bottom; overflow: visible;"><path d="M7.78 12.53a.75.75 0 0 1-1.06 0L2.47 8.28a.75.75 0 0 1 0-1.06l4.25-4.25a.751.751 0 0 1 1.042.018.751.751 0 0 1 .018 1.042L4.81 7h7.44a.75.75 0 0 1 0 1.5H4.81l2.97 2.97a.75.75 0 0 1 0 1.06Z"></path></svg></span><span data-component="text">Files</span></span></button><button data-component="IconButton" data-testid="expand-file-tree-button" aria-label="Side panel" aria-expanded="false" aria-controls="repos-file-tree" data-hotkey="Control+b" class="types__StyledButton-sc-ws60qy-0 lhczWi" data-no-visuals="true"><svg aria-hidden="true" focusable="false" role="img" class="octicon octicon-sidebar-collapse" viewBox="0 0 16 16" width="16" height="16" fill="currentColor" style="display: inline-block; user-select: none; vertical-align: text-bottom; overflow: visible;"><path d="M6.823 7.823a.25.25 0 0 1 0 .354l-2.396 2.396A.25.25 0 0 1 4 10.396V5.604a.25.25 0 0 1 .427-.177Z"></path><path d="M1.75 0h12.5C15.216 0 16 .784 16 1.75v12.5A1.75 1.75 0 0 1 14.25 16H1.75A1.75 1.75 0 0 1 0 14.25V1.75C0 .784.784 0 1.75 0ZM1.5 1.75v12.5c0 .138.112.25.25.25H9.5v-13H1.75a.25.25 0 0 0-.25.25ZM11 14.5h3.25a.25.25 0 0 0 .25-.25V1.75a.25.25 0 0 0-.25-.25H11Z"></path></svg></button><button hidden="" data-testid="" data-hotkey="Control+b" data-hotkey-scope="read-only-cursor-text-area"></button></h2><div class="Box-sc-g0xbh4-0 hGGMNu"><div class="Box-sc-g0xbh4-0 eHRrYV"><button type="button" id="branch-picker-repos-header-ref-selector-narrow" aria-haspopup="true" tabindex="0" data-hotkey="w" aria-label="04a8df9 branch" data-testid="anchor-button" class="types__StyledButton-sc-ws60qy-0 ePclzw ref-selector-class"><span data-component="buttonContent" class="Box-sc-g0xbh4-0 kkrdEu"><span data-component="text"><div class="Box-sc-g0xbh4-0 bKgizp"><div class="Box-sc-g0xbh4-0 bwTunw"><svg aria-hidden="true" focusable="false" role="img" class="octicon octicon-git-branch" viewBox="0 0 16 16" width="16" height="16" fill="currentColor" style="display: inline-block; user-select: none; vertical-align: text-bottom; overflow: visible;"><path d="M9.5 3.25a2.25 2.25 0 1 1 3 2.122V6A2.5 2.5 0 0 1 10 8.5H6a1 1 0 0 0-1 1v1.128a2.251 2.251 0 1 1-1.5 0V5.372a2.25 2.25 0 1 1 1.5 0v1.836A2.493 2.493 0 0 1 6 7h4a1 1 0 0 0 1-1v-.628A2.25 2.25 0 0 1 9.5 3.25Zm-6 0a.75.75 0 1 0 1.5 0 .75.75 0 0 0-1.5 0Zm8.25-.75a.75.75 0 1 0 0 1.5.75.75 0 0 0 0-1.5ZM4.25 12a.75.75 0 1 0 0 1.5.75.75 0 0 0 0-1.5Z"></path></svg></div><div class="Box-sc-g0xbh4-0 dKmYfk"><span class="Text-sc-17v1xeu-0 bOMzPg">&nbsp;04a8df9</span></div></div></span><span data-component="trailingVisual" class="Box-sc-g0xbh4-0 trpoQ"><svg aria-hidden="true" focusable="false" role="img" class="octicon octicon-triangle-down" viewBox="0 0 16 16" width="16" height="16" fill="currentColor" style="display: inline-block; user-select: none; vertical-align: text-bottom; overflow: visible;"><path d="m4.427 7.427 3.396 3.396a.25.25 0 0 0 .354 0l3.396-3.396A.25.25 0 0 0 11.396 7H4.604a.25.25 0 0 0-.177.427Z"></path></svg></span></span></button><button hidden="" data-hotkey="w" data-hotkey-scope="read-only-cursor-text-area"></button></div> <button type="button" data-hotkey="b,B,Control+/ Control+b" data-no-visuals="true" class="types__StyledButton-sc-ws60qy-0 hPOZTU"><span data-component="buttonContent" class="Box-sc-g0xbh4-0 kkrdEu"><span data-component="text">Blame</span></span></button><button hidden="" data-testid="" data-hotkey="b,B,Control+/ Control+b" data-hotkey-scope="read-only-cursor-text-area"></button><button data-component="IconButton" aria-label="More file actions" class="types__StyledButton-sc-ws60qy-0 jcILRt js-blob-dropdown-click" title="More file actions" data-testid="more-file-actions-button" id=":rq:" aria-haspopup="true" tabindex="0" data-no-visuals="true"><svg aria-hidden="true" focusable="false" role="img" class="octicon octicon-kebab-horizontal" viewBox="0 0 16 16" width="16" height="16" fill="currentColor" style="display: inline-block; user-select: none; vertical-align: text-bottom; overflow: visible;"><path d="M8 9a1.5 1.5 0 1 0 0-3 1.5 1.5 0 0 0 0 3ZM1.5 9a1.5 1.5 0 1 0 0-3 1.5 1.5 0 0 0 0 3Zm13 0a1.5 1.5 0 1 0 0-3 1.5 1.5 0 0 0 0 3Z"></path></svg></button> </div></div><div class="Box-sc-g0xbh4-0 hSNzKh"><div class="Box-sc-g0xbh4-0 eTvGbF"><nav data-testid="breadcrumbs" aria-labelledby="repos-header-breadcrumb-mobile-heading" id="repos-header-breadcrumb-mobile" class="Box-sc-g0xbh4-0 kzRgrI"><h2 class="Heading__StyledHeading-sc-1c1dgg0-0 cgQnMS sr-only" data-testid="screen-reader-heading" id="repos-header-breadcrumb-mobile-heading">Breadcrumbs</h2><ol class="Box-sc-g0xbh4-0 cmAPIB"><li class="Box-sc-g0xbh4-0 jwXCBK"><a sx="[object Object]" data-testid="breadcrumbs-repo-link" class="Link__StyledLink-sc-14289xe-0 iJtJJh" href="https://github.com/Priyam219/Bharat-Intern---ML/tree/04a8df9791d2d791f393362165355ec6140659ac">Bharat-Intern---ML</a></li><li class="Box-sc-g0xbh4-0 jwXCBK"><span aria-hidden="true" class="Text-sc-17v1xeu-0 fWVgeN">/</span><a sx="[object Object]" class="Link__StyledLink-sc-14289xe-0 hUWqlv" href="https://github.com/Priyam219/Bharat-Intern---ML/tree/04a8df9791d2d791f393362165355ec6140659ac/Task-1%20-%20House%20Price%20Prediction">Task-1 - House Price Prediction</a></li><li class="Box-sc-g0xbh4-0 jwXCBK"><span aria-hidden="true" class="Text-sc-17v1xeu-0 fWVgeN">/</span><a sx="[object Object]" class="Link__StyledLink-sc-14289xe-0 hUWqlv" href="https://github.com/Priyam219/Bharat-Intern---ML/tree/04a8df9791d2d791f393362165355ec6140659ac/Task-1%20-%20House%20Price%20Prediction/House_Price_Prediction">House_Price_Prediction</a></li></ol></nav><div data-testid="breadcrumbs-filename" class="Box-sc-g0xbh4-0 jwXCBK"><span aria-hidden="true" class="Text-sc-17v1xeu-0 fWVgeN">/</span><h1 tabindex="-1" id="file-name-id-mobile" class="Heading__StyledHeading-sc-1c1dgg0-0 diwsLq">House_Price_Prediction.ipynb</h1></div><button data-component="IconButton" aria-label="Copy path" data-testid="breadcrumb-copy-path-button" data-size="small" data-no-visuals="true" class="types__StyledButton-sc-ws60qy-0 dzga-dt"><svg aria-hidden="true" focusable="false" role="img" class="octicon octicon-copy" viewBox="0 0 16 16" width="16" height="16" fill="currentColor" style="display: inline-block; user-select: none; vertical-align: text-bottom; overflow: visible;"><path d="M0 6.75C0 5.784.784 5 1.75 5h1.5a.75.75 0 0 1 0 1.5h-1.5a.25.25 0 0 0-.25.25v7.5c0 .138.112.25.25.25h7.5a.25.25 0 0 0 .25-.25v-1.5a.75.75 0 0 1 1.5 0v1.5A1.75 1.75 0 0 1 9.25 16h-7.5A1.75 1.75 0 0 1 0 14.25Z"></path><path d="M5 1.75C5 .784 5.784 0 6.75 0h7.5C15.216 0 16 .784 16 1.75v7.5A1.75 1.75 0 0 1 14.25 11h-7.5A1.75 1.75 0 0 1 5 9.25Zm1.75-.25a.25.25 0 0 0-.25.25v7.5c0 .138.112.25.25.25h7.5a.25.25 0 0 0 .25-.25v-7.5a.25.25 0 0 0-.25-.25Z"></path></svg></button></div></div></div></div><div id="StickyHeader" class="Box-sc-g0xbh4-0 bDwCYs react-code-view-header--wide"><div class="Box-sc-g0xbh4-0 fywjmm"><div class="Box-sc-g0xbh4-0 dyczTK"><div class="Box-sc-g0xbh4-0 cpXcux"><div class="Box-sc-g0xbh4-0 iPEkxH"><h2 class="Heading__StyledHeading-sc-1c1dgg0-0 fNPcqd"><button type="button" aria-label="Expand side panel" data-hotkey="Control+b" data-testid="expand-file-tree-button-mobile" class="types__StyledButton-sc-ws60qy-0 cmNjCr"><span data-component="buttonContent" class="Box-sc-g0xbh4-0 kkrdEu"><span data-component="leadingVisual" class="Box-sc-g0xbh4-0 trpoQ"><svg aria-hidden="true" focusable="false" role="img" class="octicon octicon-arrow-left" viewBox="0 0 16 16" width="16" height="16" fill="currentColor" style="display: inline-block; user-select: none; vertical-align: text-bottom; overflow: visible;"><path d="M7.78 12.53a.75.75 0 0 1-1.06 0L2.47 8.28a.75.75 0 0 1 0-1.06l4.25-4.25a.751.751 0 0 1 1.042.018.751.751 0 0 1 .018 1.042L4.81 7h7.44a.75.75 0 0 1 0 1.5H4.81l2.97 2.97a.75.75 0 0 1 0 1.06Z"></path></svg></span><span data-component="text">Files</span></span></button><button data-component="IconButton" data-testid="expand-file-tree-button" aria-label="Side panel" aria-expanded="false" aria-controls="repos-file-tree" data-hotkey="Control+b" class="types__StyledButton-sc-ws60qy-0 lhczWi" data-no-visuals="true"><svg aria-hidden="true" focusable="false" role="img" class="octicon octicon-sidebar-collapse" viewBox="0 0 16 16" width="16" height="16" fill="currentColor" style="display: inline-block; user-select: none; vertical-align: text-bottom; overflow: visible;"><path d="M6.823 7.823a.25.25 0 0 1 0 .354l-2.396 2.396A.25.25 0 0 1 4 10.396V5.604a.25.25 0 0 1 .427-.177Z"></path><path d="M1.75 0h12.5C15.216 0 16 .784 16 1.75v12.5A1.75 1.75 0 0 1 14.25 16H1.75A1.75 1.75 0 0 1 0 14.25V1.75C0 .784.784 0 1.75 0ZM1.5 1.75v12.5c0 .138.112.25.25.25H9.5v-13H1.75a.25.25 0 0 0-.25.25ZM11 14.5h3.25a.25.25 0 0 0 .25-.25V1.75a.25.25 0 0 0-.25-.25H11Z"></path></svg></button><button hidden="" data-testid="" data-hotkey="Control+b" data-hotkey-scope="read-only-cursor-text-area"></button></h2></div><div class="Box-sc-g0xbh4-0 AaBxc"><button type="button" id="branch-picker-repos-header-ref-selector-wide" aria-haspopup="true" tabindex="0" data-hotkey="w" aria-label="04a8df9 branch" data-testid="anchor-button" class="types__StyledButton-sc-ws60qy-0 ePclzw ref-selector-class"><span data-component="buttonContent" class="Box-sc-g0xbh4-0 kkrdEu"><span data-component="text"><div class="Box-sc-g0xbh4-0 bKgizp"><div class="Box-sc-g0xbh4-0 bwTunw"><svg aria-hidden="true" focusable="false" role="img" class="octicon octicon-git-branch" viewBox="0 0 16 16" width="16" height="16" fill="currentColor" style="display: inline-block; user-select: none; vertical-align: text-bottom; overflow: visible;"><path d="M9.5 3.25a2.25 2.25 0 1 1 3 2.122V6A2.5 2.5 0 0 1 10 8.5H6a1 1 0 0 0-1 1v1.128a2.251 2.251 0 1 1-1.5 0V5.372a2.25 2.25 0 1 1 1.5 0v1.836A2.493 2.493 0 0 1 6 7h4a1 1 0 0 0 1-1v-.628A2.25 2.25 0 0 1 9.5 3.25Zm-6 0a.75.75 0 1 0 1.5 0 .75.75 0 0 0-1.5 0Zm8.25-.75a.75.75 0 1 0 0 1.5.75.75 0 0 0 0-1.5ZM4.25 12a.75.75 0 1 0 0 1.5.75.75 0 0 0 0-1.5Z"></path></svg></div><div class="Box-sc-g0xbh4-0 dKmYfk"><span class="Text-sc-17v1xeu-0 bOMzPg">&nbsp;04a8df9</span></div></div></span><span data-component="trailingVisual" class="Box-sc-g0xbh4-0 trpoQ"><svg aria-hidden="true" focusable="false" role="img" class="octicon octicon-triangle-down" viewBox="0 0 16 16" width="16" height="16" fill="currentColor" style="display: inline-block; user-select: none; vertical-align: text-bottom; overflow: visible;"><path d="m4.427 7.427 3.396 3.396a.25.25 0 0 0 .354 0l3.396-3.396A.25.25 0 0 0 11.396 7H4.604a.25.25 0 0 0-.177.427Z"></path></svg></span></span></button><button hidden="" data-hotkey="w" data-hotkey-scope="read-only-cursor-text-area"></button></div><div class="Box-sc-g0xbh4-0 ehCeGn"><div class="Box-sc-g0xbh4-0 eTvGbF"><nav data-testid="breadcrumbs" aria-labelledby="repos-header-breadcrumb-wide-heading" id="repos-header-breadcrumb-wide" class="Box-sc-g0xbh4-0 kzRgrI"><h2 class="Heading__StyledHeading-sc-1c1dgg0-0 cgQnMS sr-only" data-testid="screen-reader-heading" id="repos-header-breadcrumb-wide-heading">Breadcrumbs</h2><ol class="Box-sc-g0xbh4-0 cmAPIB"><li class="Box-sc-g0xbh4-0 jwXCBK"><a sx="[object Object]" data-testid="breadcrumbs-repo-link" class="Link__StyledLink-sc-14289xe-0 iJtJJh" href="https://github.com/Priyam219/Bharat-Intern---ML/tree/04a8df9791d2d791f393362165355ec6140659ac">Bharat-Intern---ML</a></li><li class="Box-sc-g0xbh4-0 jwXCBK"><span aria-hidden="true" class="Text-sc-17v1xeu-0 fWVgeN">/</span><a sx="[object Object]" class="Link__StyledLink-sc-14289xe-0 hUWqlv" href="https://github.com/Priyam219/Bharat-Intern---ML/tree/04a8df9791d2d791f393362165355ec6140659ac/Task-1%20-%20House%20Price%20Prediction">Task-1 - House Price Prediction</a></li><li class="Box-sc-g0xbh4-0 jwXCBK"><span aria-hidden="true" class="Text-sc-17v1xeu-0 fWVgeN">/</span><a sx="[object Object]" class="Link__StyledLink-sc-14289xe-0 hUWqlv" href="https://github.com/Priyam219/Bharat-Intern---ML/tree/04a8df9791d2d791f393362165355ec6140659ac/Task-1%20-%20House%20Price%20Prediction/House_Price_Prediction">House_Price_Prediction</a></li></ol></nav><div data-testid="breadcrumbs-filename" class="Box-sc-g0xbh4-0 jwXCBK"><span aria-hidden="true" class="Text-sc-17v1xeu-0 fWVgeN">/</span><h1 tabindex="-1" id="file-name-id-wide" class="Heading__StyledHeading-sc-1c1dgg0-0 diwsLq">House_Price_Prediction.ipynb</h1></div><button data-component="IconButton" aria-label="Copy path" data-testid="breadcrumb-copy-path-button" data-size="small" data-no-visuals="true" class="types__StyledButton-sc-ws60qy-0 dzga-dt"><svg aria-hidden="true" focusable="false" role="img" class="octicon octicon-copy" viewBox="0 0 16 16" width="16" height="16" fill="currentColor" style="display: inline-block; user-select: none; vertical-align: text-bottom; overflow: visible;"><path d="M0 6.75C0 5.784.784 5 1.75 5h1.5a.75.75 0 0 1 0 1.5h-1.5a.25.25 0 0 0-.25.25v7.5c0 .138.112.25.25.25h7.5a.25.25 0 0 0 .25-.25v-1.5a.75.75 0 0 1 1.5 0v1.5A1.75 1.75 0 0 1 9.25 16h-7.5A1.75 1.75 0 0 1 0 14.25Z"></path><path d="M5 1.75C5 .784 5.784 0 6.75 0h7.5C15.216 0 16 .784 16 1.75v7.5A1.75 1.75 0 0 1 14.25 11h-7.5A1.75 1.75 0 0 1 5 9.25Zm1.75-.25a.25.25 0 0 0-.25.25v7.5c0 .138.112.25.25.25h7.5a.25.25 0 0 0 .25-.25v-7.5a.25.25 0 0 0-.25-.25Z"></path></svg></button></div></div></div><div class="Box-sc-g0xbh4-0 gtBUEp"><div class="d-flex gap-2"> <div class="Box-sc-g0xbh4-0 kfYOBR"><button hidden="" data-testid="" data-hotkey="t,T" data-hotkey-scope="read-only-cursor-text-area"></button><button hidden="" data-hotkey="t,T"></button><span class="TextInputWrapper__TextInputBaseWrapper-sc-1mqhpbi-0 TextInputWrapper-sc-1mqhpbi-1 hSXtjz hZMmEi TextInput-wrapper" aria-busy="false"><span class="TextInput-icon"><svg aria-hidden="true" focusable="false" role="img" class="octicon octicon-search" viewBox="0 0 16 16" width="16" height="16" fill="currentColor" style="display: inline-block; user-select: none; vertical-align: text-bottom; overflow: visible;"><path d="M10.68 11.74a6 6 0 0 1-7.922-8.982 6 6 0 0 1 8.982 7.922l3.04 3.04a.749.749 0 0 1-.326 1.275.749.749 0 0 1-.734-.215ZM11.5 7a4.499 4.499 0 1 0-8.997 0A4.499 4.499 0 0 0 11.5 7Z"></path></svg></span><input type="text" aria-label="Go to file" role="combobox" aria-controls="file-results-list" aria-expanded="false" aria-haspopup="dialog" autocorrect="off" spellcheck="false" placeholder="Go to file" data-component="input" class="UnstyledTextInput-sc-14ypya-0 cDLBls" value=""><span class="TextInput-icon"><div class="Box-sc-g0xbh4-0 cNvKlH"><kbd>t</kbd></div></span></span></div><button type="button" data-hotkey="b,B,Control+/ Control+b" data-no-visuals="true" class="types__StyledButton-sc-ws60qy-0 hPOZTU"><span data-component="buttonContent" class="Box-sc-g0xbh4-0 kkrdEu"><span data-component="text">Blame</span></span></button><button hidden="" data-testid="" data-hotkey="b,B,Control+/ Control+b" data-hotkey-scope="read-only-cursor-text-area"></button><button data-component="IconButton" aria-label="More file actions" class="types__StyledButton-sc-ws60qy-0 jcILRt js-blob-dropdown-click" title="More file actions" data-testid="more-file-actions-button" id=":rt:" aria-haspopup="true" tabindex="0" data-no-visuals="true"><svg aria-hidden="true" focusable="false" role="img" class="octicon octicon-kebab-horizontal" viewBox="0 0 16 16" width="16" height="16" fill="currentColor" style="display: inline-block; user-select: none; vertical-align: text-bottom; overflow: visible;"><path d="M8 9a1.5 1.5 0 1 0 0-3 1.5 1.5 0 0 0 0 3ZM1.5 9a1.5 1.5 0 1 0 0-3 1.5 1.5 0 0 0 0 3Zm13 0a1.5 1.5 0 1 0 0-3 1.5 1.5 0 0 0 0 3Z"></path></svg></button> </div></div></div></div></div></div></div><div class="Box-sc-g0xbh4-0 MERGN react-code-view-bottom-padding"> <div class="Box-sc-g0xbh4-0 cMYnca"></div><div class="Box-sc-g0xbh4-0"></div>   </div><div class="Box-sc-g0xbh4-0 MERGN">   <div class="Box-sc-g0xbh4-0 brFBoI"><div class="Box-sc-g0xbh4-0 eYedVD"><h2 class="Heading__StyledHeading-sc-1c1dgg0-0 cgQnMS sr-only" data-testid="screen-reader-heading">Latest commit</h2><div data-testid="latest-commit" class="Box-sc-g0xbh4-0 drtGBr"><div data-testid="author-avatar" class="Box-sc-g0xbh4-0 hLLhje"><a href="https://github.com/Priyam219" data-testid="avatar-icon-link" data-hovercard-url="/users/Priyam219/hovercard" class="Link__StyledLink-sc-14289xe-0 bJBoUI"><img alt="Priyam219" size="20" src="./House_Price _Prediction_files/102411492" data-testid="github-avatar" aria-label="Priyam219" height="20" width="20" class="Avatar__StyledAvatar-sc-2lv0r8-0 daiFtt"></a><span role="tooltip" aria-label="commits by Priyam219" class="Tooltip__TooltipBase-sc-uha8qm-0 fCnxTL tooltipped-se"><a href="https://github.com/Priyam219/Bharat-Intern---ML/commits?author=Priyam219" aria-label="commits by Priyam219" class="Link__StyledLink-sc-14289xe-0 cBrzIN">Priyam219</a></span></div><div class="Box-sc-g0xbh4-0 fqNQBl react-last-commit-message"><div class="Box-sc-g0xbh4-0 jEKUjt Truncate"><span class="Text-sc-17v1xeu-0 gPDEWA Truncate-text" data-testid="latest-commit-html"><a href="https://github.com/Priyam219/Bharat-Intern---ML/commit/ce4af6b0e93ac753d32136b3a5875372926faaf1" class="Link--secondary" title="added task 1" data-pjax="true" data-hovercard-url="/Priyam219/Bharat-Intern---ML/commit/ce4af6b0e93ac753d32136b3a5875372926faaf1/hovercard">added task 1</a></span></div></div><span class="Text-sc-17v1xeu-0 kKFNhh react-last-commit-summary-timestamp"><relative-time class="RelativeTime-sc-lqbqy3-0" datetime="2023-05-20T00:26:47.000+05:30" tense="past" title="May 20, 2023, 12:26 AM GMT+5:30"><template shadowrootmode="open">4 months ago</template></relative-time></span></div><div class="Box-sc-g0xbh4-0 jGfYmh"><div data-testid="latest-commit-details" class="Box-sc-g0xbh4-0 lhFvfi"><span class="Text-sc-17v1xeu-0 kKFNhh react-last-commit-oid-timestamp"><a class="Link__StyledLink-sc-14289xe-0 bJBoUI Link--secondary" aria-label="Commit ce4af6b" href="https://github.com/Priyam219/Bharat-Intern---ML/commit/ce4af6b0e93ac753d32136b3a5875372926faaf1">ce4af6b</a>&nbsp;·&nbsp;<relative-time class="RelativeTime-sc-lqbqy3-0" datetime="2023-05-20T00:26:47.000+05:30" tense="past" title="May 20, 2023, 12:26 AM GMT+5:30"><template shadowrootmode="open">4 months ago</template></relative-time></span><span class="Text-sc-17v1xeu-0 kKFNhh react-last-commit-timestamp"><relative-time class="RelativeTime-sc-lqbqy3-0" datetime="2023-05-20T00:26:47.000+05:30" tense="past" title="May 20, 2023, 12:26 AM GMT+5:30"><template shadowrootmode="open">4 months ago</template></relative-time></span></div><h2 class="Heading__StyledHeading-sc-1c1dgg0-0 cgQnMS sr-only" data-testid="screen-reader-heading">History</h2><a aria-label="Commit history" class="types__StyledButton-sc-ws60qy-0 dWukOn react-last-commit-history-group" href="https://github.com/Priyam219/Bharat-Intern---ML/commits/04a8df9791d2d791f393362165355ec6140659ac/Task-1%20-%20House%20Price%20Prediction/House_Price_Prediction/House_Price_Prediction.ipynb" data-size="small"><span data-component="buttonContent" class="Box-sc-g0xbh4-0 kkrdEu"><span data-component="leadingVisual" class="Box-sc-g0xbh4-0 trpoQ"><svg aria-hidden="true" focusable="false" role="img" class="octicon octicon-history" viewBox="0 0 16 16" width="16" height="16" fill="currentColor" style="display: inline-block; user-select: none; vertical-align: text-bottom; overflow: visible;"><path d="m.427 1.927 1.215 1.215a8.002 8.002 0 1 1-1.6 5.685.75.75 0 1 1 1.493-.154 6.5 6.5 0 1 0 1.18-4.458l1.358 1.358A.25.25 0 0 1 3.896 6H.25A.25.25 0 0 1 0 5.75V2.104a.25.25 0 0 1 .427-.177ZM7.75 4a.75.75 0 0 1 .75.75v2.992l2.028.812a.75.75 0 0 1-.557 1.392l-2.5-1A.751.751 0 0 1 7 8.25v-3.5A.75.75 0 0 1 7.75 4Z"></path></svg></span><span data-component="text"><span class="Text-sc-17v1xeu-0 hfRvxg">History</span></span></span></a><div class="Box-sc-g0xbh4-0 bqgLjk"><button data-component="IconButton" aria-label="Open commit details" aria-pressed="false" aria-expanded="false" data-testid="latest-commit-details-toggle" data-no-visuals="true" class="types__StyledButton-sc-ws60qy-0 gsYLUy"><svg aria-hidden="true" focusable="false" role="img" class="octicon octicon-ellipsis" viewBox="0 0 16 16" width="16" height="16" fill="currentColor" style="display: inline-block; user-select: none; vertical-align: text-bottom; overflow: visible;"><path d="M0 5.75C0 4.784.784 4 1.75 4h12.5c.966 0 1.75.784 1.75 1.75v4.5A1.75 1.75 0 0 1 14.25 12H1.75A1.75 1.75 0 0 1 0 10.25ZM12 7a1 1 0 1 0 0 2 1 1 0 0 0 0-2ZM7 8a1 1 0 1 0 2 0 1 1 0 0 0-2 0ZM4 7a1 1 0 1 0 0 2 1 1 0 0 0 0-2Z"></path></svg></button></div><span role="tooltip" aria-label="Commit history" class="Tooltip__TooltipBase-sc-uha8qm-0 fCnxTL tooltipped-n"><a aria-label="Commit history" class="types__StyledButton-sc-ws60qy-0 dWukOn react-last-commit-history-icon" href="https://github.com/Priyam219/Bharat-Intern---ML/commits/04a8df9791d2d791f393362165355ec6140659ac/Task-1%20-%20House%20Price%20Prediction/House_Price_Prediction/House_Price_Prediction.ipynb"><span data-component="buttonContent" class="Box-sc-g0xbh4-0 kkrdEu"><span data-component="leadingVisual" class="Box-sc-g0xbh4-0 trpoQ"><svg aria-hidden="true" focusable="false" role="img" class="octicon octicon-history" viewBox="0 0 16 16" width="16" height="16" fill="currentColor" style="display: inline-block; user-select: none; vertical-align: text-bottom; overflow: visible;"><path d="m.427 1.927 1.215 1.215a8.002 8.002 0 1 1-1.6 5.685.75.75 0 1 1 1.493-.154 6.5 6.5 0 1 0 1.18-4.458l1.358 1.358A.25.25 0 0 1 3.896 6H.25A.25.25 0 0 1 0 5.75V2.104a.25.25 0 0 1 .427-.177ZM7.75 4a.75.75 0 0 1 .75.75v2.992l2.028.812a.75.75 0 0 1-.557 1.392l-2.5-1A.751.751 0 0 1 7 8.25v-3.5A.75.75 0 0 1 7.75 4Z"></path></svg></span></span></a></span></div></div></div><div class="Box-sc-g0xbh4-0 iJmJly"><div class="Box-sc-g0xbh4-0 jACbi container"><div class="Box-sc-g0xbh4-0 bSdwWB react-code-size-details-banner"><div class="Box-sc-g0xbh4-0 fleZSW react-code-size-details-banner"><div class="Box-sc-g0xbh4-0 fOEJrA text-mono"><div title="148 KB" data-testid="blob-size" class="Truncate__StyledTruncate-sc-23o1d2-0 fUpWeN"><span class="Text-sc-17v1xeu-0 gPDEWA">1237 lines (1237 loc) · 148 KB</span></div></div></div></div><div class="Box-sc-g0xbh4-0 gBKNLX react-blob-view-header-sticky" id="repos-sticky-header"><div class="Box-sc-g0xbh4-0 ePiodO"><div class="Box-sc-g0xbh4-0 react-blob-sticky-header"><div class="Box-sc-g0xbh4-0 kQJlnf"><div class="Box-sc-g0xbh4-0 nSWSp"><div class="Box-sc-g0xbh4-0 lhFvfi"><div class="Box-sc-g0xbh4-0 doiYd"><button type="button" id="branch-picker-repos-header-ref-selector" aria-haspopup="true" tabindex="0" data-hotkey="w" aria-label="04a8df9 branch" data-testid="anchor-button" class="types__StyledButton-sc-ws60qy-0 ePclzw ref-selector-class"><span data-component="buttonContent" class="Box-sc-g0xbh4-0 kkrdEu"><span data-component="text"><div class="Box-sc-g0xbh4-0 bKgizp"><div class="Box-sc-g0xbh4-0 bwTunw"><svg aria-hidden="true" focusable="false" role="img" class="octicon octicon-git-branch" viewBox="0 0 16 16" width="16" height="16" fill="currentColor" style="display: inline-block; user-select: none; vertical-align: text-bottom; overflow: visible;"><path d="M9.5 3.25a2.25 2.25 0 1 1 3 2.122V6A2.5 2.5 0 0 1 10 8.5H6a1 1 0 0 0-1 1v1.128a2.251 2.251 0 1 1-1.5 0V5.372a2.25 2.25 0 1 1 1.5 0v1.836A2.493 2.493 0 0 1 6 7h4a1 1 0 0 0 1-1v-.628A2.25 2.25 0 0 1 9.5 3.25Zm-6 0a.75.75 0 1 0 1.5 0 .75.75 0 0 0-1.5 0Zm8.25-.75a.75.75 0 1 0 0 1.5.75.75 0 0 0 0-1.5ZM4.25 12a.75.75 0 1 0 0 1.5.75.75 0 0 0 0-1.5Z"></path></svg></div><div class="Box-sc-g0xbh4-0 dKmYfk"><span class="Text-sc-17v1xeu-0 bOMzPg">&nbsp;04a8df9</span></div></div></span><span data-component="trailingVisual" class="Box-sc-g0xbh4-0 trpoQ"><svg aria-hidden="true" focusable="false" role="img" class="octicon octicon-triangle-down" viewBox="0 0 16 16" width="16" height="16" fill="currentColor" style="display: inline-block; user-select: none; vertical-align: text-bottom; overflow: visible;"><path d="m4.427 7.427 3.396 3.396a.25.25 0 0 0 .354 0l3.396-3.396A.25.25 0 0 0 11.396 7H4.604a.25.25 0 0 0-.177.427Z"></path></svg></span></span></button><button hidden="" data-hotkey="w" data-hotkey-scope="read-only-cursor-text-area"></button></div><div class="Box-sc-g0xbh4-0 jKPiSV"><div class="Box-sc-g0xbh4-0 iZJewz"><nav data-testid="breadcrumbs" aria-labelledby="sticky-breadcrumb-heading" id="sticky-breadcrumb" class="Box-sc-g0xbh4-0 kzRgrI"><h2 class="Heading__StyledHeading-sc-1c1dgg0-0 cgQnMS sr-only" data-testid="screen-reader-heading" id="sticky-breadcrumb-heading">Breadcrumbs</h2><ol class="Box-sc-g0xbh4-0 cmAPIB"><li class="Box-sc-g0xbh4-0 jwXCBK"><a sx="[object Object]" data-testid="breadcrumbs-repo-link" class="Link__StyledLink-sc-14289xe-0 iJtJJh" href="https://github.com/Priyam219/Bharat-Intern---ML/tree/04a8df9791d2d791f393362165355ec6140659ac">Bharat-Intern---ML</a></li><li class="Box-sc-g0xbh4-0 jwXCBK"><span aria-hidden="true" class="Text-sc-17v1xeu-0 iqTHmv">/</span><a sx="[object Object]" class="Link__StyledLink-sc-14289xe-0 hUWqlv" href="https://github.com/Priyam219/Bharat-Intern---ML/tree/04a8df9791d2d791f393362165355ec6140659ac/Task-1%20-%20House%20Price%20Prediction">Task-1 - House Price Prediction</a></li><li class="Box-sc-g0xbh4-0 jwXCBK"><span aria-hidden="true" class="Text-sc-17v1xeu-0 iqTHmv">/</span><a sx="[object Object]" class="Link__StyledLink-sc-14289xe-0 hUWqlv" href="https://github.com/Priyam219/Bharat-Intern---ML/tree/04a8df9791d2d791f393362165355ec6140659ac/Task-1%20-%20House%20Price%20Prediction/House_Price_Prediction">House_Price_Prediction</a></li></ol></nav><div data-testid="breadcrumbs-filename" class="Box-sc-g0xbh4-0 jwXCBK"><span aria-hidden="true" class="Text-sc-17v1xeu-0 iqTHmv">/</span><h1 tabindex="-1" id="sticky-file-name-id" class="Heading__StyledHeading-sc-1c1dgg0-0 jAEDJk">House_Price_Prediction.ipynb</h1></div></div></div></div><button type="button" data-size="small" class="types__StyledButton-sc-ws60qy-0 kGDoCG"><span data-component="buttonContent" class="Box-sc-g0xbh4-0 kkrdEu"><span data-component="leadingVisual" class="Box-sc-g0xbh4-0 trpoQ"><svg aria-hidden="true" focusable="false" role="img" class="octicon octicon-arrow-up" viewBox="0 0 16 16" width="16" height="16" fill="currentColor" style="display: inline-block; user-select: none; vertical-align: text-bottom; overflow: visible;"><path d="M3.47 7.78a.75.75 0 0 1 0-1.06l4.25-4.25a.75.75 0 0 1 1.06 0l4.25 4.25a.751.751 0 0 1-.018 1.042.751.751 0 0 1-1.042.018L9 4.81v7.44a.75.75 0 0 1-1.5 0V4.81L4.53 7.78a.75.75 0 0 1-1.06 0Z"></path></svg></span><span data-component="text">Top</span></span></button></div></div></div><div class="Box-sc-g0xbh4-0 giEfVQ"><h2 class="Heading__StyledHeading-sc-1c1dgg0-0 cgQnMS sr-only" data-testid="screen-reader-heading">File metadata and controls</h2><div class="Box-sc-g0xbh4-0 bfkNRF"><ul aria-label="File view" class="SegmentedControl__SegmentedControlList-sc-1rzig82-0 ivYJSK"><li class="Box-sc-g0xbh4-0 fXBLEV"><button aria-current="true" data-hotkey="Control+/ Control+p" class="SegmentedControlButton__SegmentedControlButtonStyled-sc-8lkgxl-0 gKuCoB"><span class="segmentedControl-content"><div class="Box-sc-g0xbh4-0 segmentedControl-text">Preview</div></span></button></li><li class="Box-sc-g0xbh4-0 gbKtit"><button aria-current="false" data-hotkey="Control+/ Control+c" class="SegmentedControlButton__SegmentedControlButtonStyled-sc-8lkgxl-0 fCAAcl"><span class="segmentedControl-content"><div class="Box-sc-g0xbh4-0 segmentedControl-text">Code</div></span></button></li><li class="Box-sc-g0xbh4-0 gbKtit"><button aria-current="false" data-hotkey="b,B,Control+/ Control+b" class="SegmentedControlButton__SegmentedControlButtonStyled-sc-8lkgxl-0 dAXkSP"><span class="segmentedControl-content"><div class="Box-sc-g0xbh4-0 segmentedControl-text">Blame</div></span></button></li></ul><button hidden="" data-testid="" data-hotkey="Control+/ Control+c" data-hotkey-scope="read-only-cursor-text-area"></button><button hidden="" data-testid="" data-hotkey="b,B,Control+/ Control+b" data-hotkey-scope="read-only-cursor-text-area"></button><button hidden="" data-testid="" data-hotkey="Control+/ Control+p" data-hotkey-scope="read-only-cursor-text-area"></button><div class="Box-sc-g0xbh4-0 fleZSW react-code-size-details-in-header"><div class="Box-sc-g0xbh4-0 fOEJrA text-mono"><div title="148 KB" data-testid="blob-size" class="Truncate__StyledTruncate-sc-23o1d2-0 fUpWeN"><span class="Text-sc-17v1xeu-0 gPDEWA">1237 lines (1237 loc) · 148 KB</span></div></div></div></div><div class="Box-sc-g0xbh4-0 iBylDf"><button hidden="" data-testid="" data-hotkey="Control+Shift+." data-hotkey-scope="read-only-cursor-text-area"></button><button hidden="" data-hotkey="Control+Shift+."></button><button hidden="" data-testid="" data-hotkey="Control+Shift+," data-hotkey-scope="read-only-cursor-text-area"></button><button hidden="" data-hotkey="Control+Shift+,"></button><div class="Box-sc-g0xbh4-0 kSGBPx react-blob-header-edit-and-raw-actions"><div class="ButtonGroup-sc-1gxhls1-0 cjbBGq"><a href="https://github.com/Priyam219/Bharat-Intern---ML/raw/04a8df9791d2d791f393362165355ec6140659ac/Task-1%20-%20House%20Price%20Prediction/House_Price_Prediction/House_Price_Prediction.ipynb" data-testid="raw-button" data-hotkey="Control+/ Control+r" data-size="small" data-no-visuals="true" class="types__StyledButton-sc-ws60qy-0 hHvcfT"><span data-component="buttonContent" class="Box-sc-g0xbh4-0 kkrdEu"><span data-component="text">Raw</span></span></a><button data-component="IconButton" aria-label="Copy raw content" data-testid="copy-raw-button" data-hotkey="Control+Shift+c" data-size="small" data-no-visuals="true" class="types__StyledButton-sc-ws60qy-0 kCdBku"><svg aria-hidden="true" focusable="false" role="img" class="octicon octicon-copy" viewBox="0 0 16 16" width="16" height="16" fill="currentColor" style="display: inline-block; user-select: none; vertical-align: text-bottom; overflow: visible;"><path d="M0 6.75C0 5.784.784 5 1.75 5h1.5a.75.75 0 0 1 0 1.5h-1.5a.25.25 0 0 0-.25.25v7.5c0 .138.112.25.25.25h7.5a.25.25 0 0 0 .25-.25v-1.5a.75.75 0 0 1 1.5 0v1.5A1.75 1.75 0 0 1 9.25 16h-7.5A1.75 1.75 0 0 1 0 14.25Z"></path><path d="M5 1.75C5 .784 5.784 0 6.75 0h7.5C15.216 0 16 .784 16 1.75v7.5A1.75 1.75 0 0 1 14.25 11h-7.5A1.75 1.75 0 0 1 5 9.25Zm1.75-.25a.25.25 0 0 0-.25.25v7.5c0 .138.112.25.25.25h7.5a.25.25 0 0 0 .25-.25v-7.5a.25.25 0 0 0-.25-.25Z"></path></svg></button><span role="tooltip" aria-label="Download raw file" class="Tooltip__TooltipBase-sc-uha8qm-0 fCnxTL tooltipped-n"><button data-component="IconButton" aria-label="Download raw content" data-testid="download-raw-button" data-hotkey="Control+Shift+s" data-size="small" data-no-visuals="true" class="types__StyledButton-sc-ws60qy-0 jcdBXR"><svg aria-hidden="true" focusable="false" role="img" class="octicon octicon-download" viewBox="0 0 16 16" width="16" height="16" fill="currentColor" style="display: inline-block; user-select: none; vertical-align: text-bottom; overflow: visible;"><path d="M2.75 14A1.75 1.75 0 0 1 1 12.25v-2.5a.75.75 0 0 1 1.5 0v2.5c0 .138.112.25.25.25h10.5a.25.25 0 0 0 .25-.25v-2.5a.75.75 0 0 1 1.5 0v2.5A1.75 1.75 0 0 1 13.25 14Z"></path><path d="M7.25 7.689V2a.75.75 0 0 1 1.5 0v5.689l1.97-1.969a.749.749 0 1 1 1.06 1.06l-3.25 3.25a.749.749 0 0 1-1.06 0L4.22 6.78a.749.749 0 1 1 1.06-1.06l1.97 1.969Z"></path></svg></button></span></div><button hidden="" data-testid="raw-button-shortcut" data-hotkey="Control+/ Control+r" data-hotkey-scope="read-only-cursor-text-area"></button><button hidden="" data-testid="copy-raw-button-shortcut" data-hotkey="Control+Shift+c" data-hotkey-scope="read-only-cursor-text-area"></button><button hidden="" data-testid="download-raw-button-shortcut" data-hotkey="Control+Shift+s" data-hotkey-scope="read-only-cursor-text-area"></button><a class="Link__StyledLink-sc-14289xe-0 bJBoUI js-github-dev-shortcut d-none" data-hotkey="., Control+Shift+/" href="https://github.dev/"></a><button hidden="" data-testid="" data-hotkey="., Control+Shift+/" data-hotkey-scope="read-only-cursor-text-area"></button><a class="Link__StyledLink-sc-14289xe-0 bJBoUI js-github-dev-new-tab-shortcut d-none" data-hotkey="Shift+.,Shift+&gt;,&gt;" href="https://github.dev/" target="_blank"></a><button hidden="" data-testid="" data-hotkey="Shift+.,Shift+&gt;,&gt;" data-hotkey-scope="read-only-cursor-text-area"></button><div class="ButtonGroup-sc-1gxhls1-0 cjbBGq"><span role="tooltip" aria-label="You must be on a branch to make or propose changes to this file" class="Tooltip__TooltipBase-sc-uha8qm-0 fCnxTL tooltipped-nw"><button data-component="IconButton" aria-label="Edit file" class="types__StyledButton-sc-ws60qy-0 bwYDFy btn" aria-disabled="true" data-size="small" data-no-visuals="true"><svg aria-hidden="true" focusable="false" role="img" class="octicon octicon-pencil" viewBox="0 0 16 16" width="16" height="16" fill="currentColor" style="display: inline-block; user-select: none; vertical-align: text-bottom; overflow: visible;"><path d="M11.013 1.427a1.75 1.75 0 0 1 2.474 0l1.086 1.086a1.75 1.75 0 0 1 0 2.474l-8.61 8.61c-.21.21-.47.364-.756.445l-3.251.93a.75.75 0 0 1-.927-.928l.929-3.25c.081-.286.235-.547.445-.758l8.61-8.61Zm.176 4.823L9.75 4.81l-6.286 6.287a.253.253 0 0 0-.064.108l-.558 1.953 1.953-.558a.253.253 0 0 0 .108-.064Zm1.238-3.763a.25.25 0 0 0-.354 0L10.811 3.75l1.439 1.44 1.263-1.263a.25.25 0 0 0 0-.354Z"></path></svg></button></span><button data-component="IconButton" aria-label="More edit options" data-testid="more-edit-button" id=":rv:" aria-haspopup="true" tabindex="0" data-size="small" data-no-visuals="true" class="types__StyledButton-sc-ws60qy-0 kCdBku"><svg aria-hidden="true" focusable="false" role="img" class="octicon octicon-triangle-down" viewBox="0 0 16 16" width="16" height="16" fill="currentColor" style="display: inline-block; user-select: none; vertical-align: text-bottom; overflow: visible;"><path d="m4.427 7.427 3.396 3.396a.25.25 0 0 0 .354 0l3.396-3.396A.25.25 0 0 0 11.396 7H4.604a.25.25 0 0 0-.177.427Z"></path></svg></button></div></div><div class="Box-sc-g0xbh4-0 react-blob-header-edit-and-raw-actions-combined"><button data-component="IconButton" aria-label="Edit and raw actions" class="types__StyledButton-sc-ws60qy-0 jYfgHQ js-blob-dropdown-click" title="More file actions" data-testid="more-file-actions-button" id=":r10:" aria-haspopup="true" tabindex="0" data-size="small" data-no-visuals="true"><svg aria-hidden="true" focusable="false" role="img" class="octicon octicon-kebab-horizontal" viewBox="0 0 16 16" width="16" height="16" fill="currentColor" style="display: inline-block; user-select: none; vertical-align: text-bottom; overflow: visible;"><path d="M8 9a1.5 1.5 0 1 0 0-3 1.5 1.5 0 0 0 0 3ZM1.5 9a1.5 1.5 0 1 0 0-3 1.5 1.5 0 0 0 0 3Zm13 0a1.5 1.5 0 1 0 0-3 1.5 1.5 0 0 0 0 3Z"></path></svg></button></div></div></div></div><div class="Box-sc-g0xbh4-0"></div></div><div class="Box-sc-g0xbh4-0 etfROT"><section aria-labelledby="file-name-id-wide file-name-id-mobile" class="Box-sc-g0xbh4-0 cJzElx"><div class="Box-sc-g0xbh4-0 civZtx"><div data-hpc="true" data-host="https://notebooks.githubusercontent.com" data-type="ipynb" class="Box-sc-g0xbh4-0 cRYnfF" style="height: 6111.95px;"><iframe src="./House_Price _Prediction_files/ipynb.html" sandbox="allow-scripts allow-same-origin allow-top-navigation" name="204dacc2-3960-4d47-9a51-0d980055dc65" title="File display" class="Box-sc-g0xbh4-0 kRMcOk">Viewer requires iframe.</iframe></div></div></section></div></div></div>   </div></div></div><div class="Box-sc-g0xbh4-0"></div></main></div></div></div><div id="find-result-marks-container" class="Box-sc-g0xbh4-0 aZrVR"></div><button hidden="" data-testid="" data-hotkey="Control+F6,Control+Shift+F6" data-hotkey-scope="read-only-cursor-text-area"></button><button hidden="" data-hotkey="Control+F6,Control+Shift+F6"></button></div>    <script type="application/json" id="__PRIMER_DATA__">{"resolvedServerColorMode":"night"}</script></div>
</react-app>




  </div>

</turbo-frame>

    </main>
  </div>

  </div>

          <footer class="footer width-full container-xl p-responsive" role="contentinfo" hidden="">
  <h2 class="sr-only">Footer</h2>

  <div class="position-relative d-flex flex-items-center pb-2 f6 color-fg-muted color-border-muted flex-column-reverse flex-lg-row flex-wrap flex-lg-nowrap mt-0 pt-6">
    <div class="list-style-none d-flex flex-wrap col-0 col-lg-2 flex-justify-start flex-lg-justify-between mb-2 mb-lg-0">
      <div class="mt-2 mt-lg-0 d-flex flex-items-center">
        <a aria-label="Homepage" title="GitHub" class="footer-octicon mr-2" href="https://github.com/">
          <svg aria-hidden="true" height="24" viewBox="0 0 16 16" version="1.1" width="24" data-view-component="true" class="octicon octicon-mark-github">
    <path d="M8 0c4.42 0 8 3.58 8 8a8.013 8.013 0 0 1-5.45 7.59c-.4.08-.55-.17-.55-.38 0-.27.01-1.13.01-2.2 0-.75-.25-1.23-.54-1.48 1.78-.2 3.65-.88 3.65-3.95 0-.88-.31-1.59-.82-2.15.08-.2.36-1.02-.08-2.12 0 0-.67-.22-2.2.82-.64-.18-1.32-.27-2-.27-.68 0-1.36.09-2 .27-1.53-1.03-2.2-.82-2.2-.82-.44 1.1-.16 1.92-.08 2.12-.51.56-.82 1.28-.82 2.15 0 3.06 1.86 3.75 3.64 3.95-.23.2-.44.55-.51 1.07-.46.21-1.61.55-2.33-.66-.15-.24-.6-.83-1.23-.82-.67.01-.27.38.01.53.34.19.73.9.82 1.13.16.45.68 1.31 2.69.94 0 .67.01 1.3.01 1.49 0 .21-.15.45-.55.38A7.995 7.995 0 0 1 0 8c0-4.42 3.58-8 8-8Z"></path>
</svg>
</a>        <span>
        © 2023 GitHub, Inc.
        </span>
      </div>
    </div>

    <nav aria-label="Footer" class="col-12 col-lg-8">
      <h3 class="sr-only" id="sr-footer-heading">Footer navigation</h3>
      <ul class="list-style-none d-flex flex-wrap col-12 flex-justify-center flex-lg-justify-between mb-2 mb-lg-0" aria-labelledby="sr-footer-heading">
          <li class="mr-3 mr-lg-0"><a href="https://docs.github.com/site-policy/github-terms/github-terms-of-service" data-analytics-event="{&quot;category&quot;:&quot;Footer&quot;,&quot;action&quot;:&quot;go to terms&quot;,&quot;label&quot;:&quot;text:terms&quot;}">Terms</a></li>
          <li class="mr-3 mr-lg-0"><a href="https://docs.github.com/site-policy/privacy-policies/github-privacy-statement" data-analytics-event="{&quot;category&quot;:&quot;Footer&quot;,&quot;action&quot;:&quot;go to privacy&quot;,&quot;label&quot;:&quot;text:privacy&quot;}">Privacy</a></li>
          <li class="mr-3 mr-lg-0"><a data-analytics-event="{&quot;category&quot;:&quot;Footer&quot;,&quot;action&quot;:&quot;go to security&quot;,&quot;label&quot;:&quot;text:security&quot;}" href="https://github.com/security">Security</a></li>
          <li class="mr-3 mr-lg-0"><a href="https://www.githubstatus.com/" data-analytics-event="{&quot;category&quot;:&quot;Footer&quot;,&quot;action&quot;:&quot;go to status&quot;,&quot;label&quot;:&quot;text:status&quot;}">Status</a></li>
          <li class="mr-3 mr-lg-0"><a data-ga-click="Footer, go to help, text:Docs" href="https://docs.github.com/">Docs</a></li>
          <li class="mr-3 mr-lg-0"><a href="https://support.github.com/?tags=dotcom-footer" data-analytics-event="{&quot;category&quot;:&quot;Footer&quot;,&quot;action&quot;:&quot;go to contact&quot;,&quot;label&quot;:&quot;text:contact&quot;}">Contact GitHub</a></li>
          <li class="mr-3 mr-lg-0"><a href="https://github.com/pricing" data-analytics-event="{&quot;category&quot;:&quot;Footer&quot;,&quot;action&quot;:&quot;go to Pricing&quot;,&quot;label&quot;:&quot;text:Pricing&quot;}">Pricing</a></li>
        <li class="mr-3 mr-lg-0"><a href="https://docs.github.com/" data-analytics-event="{&quot;category&quot;:&quot;Footer&quot;,&quot;action&quot;:&quot;go to api&quot;,&quot;label&quot;:&quot;text:api&quot;}">API</a></li>
        <li class="mr-3 mr-lg-0"><a href="https://services.github.com/" data-analytics-event="{&quot;category&quot;:&quot;Footer&quot;,&quot;action&quot;:&quot;go to training&quot;,&quot;label&quot;:&quot;text:training&quot;}">Training</a></li>
          <li class="mr-3 mr-lg-0"><a href="https://github.blog/" data-analytics-event="{&quot;category&quot;:&quot;Footer&quot;,&quot;action&quot;:&quot;go to blog&quot;,&quot;label&quot;:&quot;text:blog&quot;}">Blog</a></li>
          <li><a data-ga-click="Footer, go to about, text:about" href="https://github.com/about">About</a></li>
      </ul>
    </nav>
  </div>

  <div class="d-flex flex-justify-center pb-6">
    <span class="f6 color-fg-muted"></span>
  </div>
</footer>




  <div id="ajax-error-message" class="ajax-error-message flash flash-error" hidden="">
    <svg aria-hidden="true" height="16" viewBox="0 0 16 16" version="1.1" width="16" data-view-component="true" class="octicon octicon-alert">
    <path d="M6.457 1.047c.659-1.234 2.427-1.234 3.086 0l6.082 11.378A1.75 1.75 0 0 1 14.082 15H1.918a1.75 1.75 0 0 1-1.543-2.575Zm1.763.707a.25.25 0 0 0-.44 0L1.698 13.132a.25.25 0 0 0 .22.368h12.164a.25.25 0 0 0 .22-.368Zm.53 3.996v2.5a.75.75 0 0 1-1.5 0v-2.5a.75.75 0 0 1 1.5 0ZM9 11a1 1 0 1 1-2 0 1 1 0 0 1 2 0Z"></path>
</svg>
    <button type="button" class="flash-close js-ajax-error-dismiss" aria-label="Dismiss error">
      <svg aria-hidden="true" height="16" viewBox="0 0 16 16" version="1.1" width="16" data-view-component="true" class="octicon octicon-x">
    <path d="M3.72 3.72a.75.75 0 0 1 1.06 0L8 6.94l3.22-3.22a.749.749 0 0 1 1.275.326.749.749 0 0 1-.215.734L9.06 8l3.22 3.22a.749.749 0 0 1-.326 1.275.749.749 0 0 1-.734-.215L8 9.06l-3.22 3.22a.751.751 0 0 1-1.042-.018.751.751 0 0 1-.018-1.042L6.94 8 3.72 4.78a.75.75 0 0 1 0-1.06Z"></path>
</svg>
    </button>
    You can’t perform that action at this time.
  </div>

    <template id="site-details-dialog"></template>

    <div class="Popover js-hovercard-content position-absolute" style="display: none; outline: none;" tabindex="0">
  <div class="Popover-message Popover-message--bottom-left Popover-message--large Box color-shadow-large" style="width:360px;"></div>
</div>

    <template id="snippet-clipboard-copy-button"></template>
<template id="snippet-clipboard-copy-button-unpositioned"></template>


    <style>
      .user-mention[href$="/Pradeepsahu0"] {
        color: var(--color-user-mention-fg);
        background-color: var(--color-user-mention-bg);
        border-radius: 2px;
        margin-left: -2px;
        margin-right: -2px;
        padding: 0 2px;
      }
    </style>


    </div>

    <div id="js-global-screen-reader-notice" class="sr-only" aria-live="polite">Bharat-Intern---ML/Task-1 - House Price Prediction/House_Price_Prediction/House_Price_Prediction.ipynb at 04a8df9791d2d791f393362165355ec6140659ac · Priyam219/Bharat-Intern---ML</div>
  


<div id="__primerPortalRoot__" style="position: absolute; top: 0px; left: 0px;"></div></body></html>